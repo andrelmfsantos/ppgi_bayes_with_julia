{
 "cells": [
  {
   "cell_type": "markdown",
   "id": "67ffada5",
   "metadata": {},
   "source": [
    "Modelo considerando dados de empresa de consumo de varejo.\n",
    "\n",
    "[Fonte:Storopoli](https://storopoli.github.io/Bayesian-Julia/pages/10_robust_reg/)"
   ]
  },
  {
   "cell_type": "code",
   "execution_count": 1,
   "id": "c125c560",
   "metadata": {},
   "outputs": [],
   "source": [
    "# Pacotes necessários\n",
    "import Pkg\n",
    "#Pkg.add(\"StatsPlots\")\n",
    "#Pkg.add(\"Distributions\")\n",
    "#Pkg.add(\"LaTeXStrings\")\n",
    "#Pkg.add(\"DataFrames\")"
   ]
  },
  {
   "cell_type": "code",
   "execution_count": 2,
   "id": "d0a61e8b",
   "metadata": {},
   "outputs": [],
   "source": [
    "# Carregar pacotes\n",
    "using StatsPlots, Distributions, LaTeXStrings, DataFrames"
   ]
  },
  {
   "cell_type": "code",
   "execution_count": 3,
   "id": "c6a8f4f9",
   "metadata": {},
   "outputs": [],
   "source": [
    "# Plots Densidade\n",
    "#plot(Normal(0, 1), lw=5, label=false, xlabel=L\"x\", ylabel=\"Density\")\n",
    "#plot(TDist(2), lw=5, label=false, xlabel=L\"x\", ylabel=\"Density\", xlims=(-4, 4))\n",
    "\n",
    "# Normal vs Student-t\n",
    "#plot(Normal(0, 1), lw=5, label=\"Normal\", xlabel=L\"x\", ylabel=\"Density\", xlims=(-4, 4))\n",
    "#plot!(TDist(2), lw=5, label=\"Student\")"
   ]
  },
  {
   "cell_type": "markdown",
   "id": "6169139d",
   "metadata": {},
   "source": [
    "# Bayesian Robust Regression"
   ]
  },
  {
   "cell_type": "code",
   "execution_count": 4,
   "id": "e99655ed",
   "metadata": {},
   "outputs": [],
   "source": [
    "# Instalar pacotes necessários\n",
    "#Pkg.add(\"Turing\")\n",
    "#Pkg.add(\"StatsBase\")"
   ]
  },
  {
   "cell_type": "code",
   "execution_count": 5,
   "id": "b8e569f9",
   "metadata": {},
   "outputs": [],
   "source": [
    "# Carregar pacotes\n",
    "using Turing\n",
    "using Statistics: mean, std\n",
    "using StatsBase: mad\n",
    "using Random: seed!"
   ]
  },
  {
   "cell_type": "code",
   "execution_count": 6,
   "id": "4db76e1e",
   "metadata": {},
   "outputs": [
    {
     "data": {
      "text/plain": [
       "Random.TaskLocalRNG()"
      ]
     },
     "execution_count": 6,
     "metadata": {},
     "output_type": "execute_result"
    }
   ],
   "source": [
    "# Travar seed\n",
    "seed!(123)"
   ]
  },
  {
   "cell_type": "code",
   "execution_count": 7,
   "id": "23355270",
   "metadata": {},
   "outputs": [],
   "source": [
    "# Modelo\n",
    "@model function robustreg(X, y; predictors=size(X, 2))\n",
    "        #priors\n",
    "        α ~ LocationScale(median(y), 2.5 * mad(y), TDist(3))\n",
    "        β ~ filldist(TDist(3), predictors)\n",
    "        σ ~ Exponential(1)\n",
    "        ν ~ LogNormal(2, 1)\n",
    "\n",
    "        #likelihood\n",
    "        y ~ arraydist(LocationScale.(α .+ X * β, σ, TDist.(ν)))\n",
    "end;"
   ]
  },
  {
   "cell_type": "code",
   "execution_count": 8,
   "id": "2160baa7",
   "metadata": {},
   "outputs": [
    {
     "data": {
      "text/html": [
       "<div class=\"data-frame\"><p>13 rows × 7 columns</p><table class=\"data-frame\"><thead><tr><th></th><th>variable</th><th>mean</th><th>min</th><th>median</th><th>max</th><th>nmissing</th><th>eltype</th></tr><tr><th></th><th title=\"Symbol\">Symbol</th><th title=\"Union{Nothing, Float64}\">Union…</th><th title=\"Any\">Any</th><th title=\"Union{Nothing, Float64}\">Union…</th><th title=\"Any\">Any</th><th title=\"Int64\">Int64</th><th title=\"Type\">Type</th></tr></thead><tbody><tr><th>1</th><td>OBS</td><td>94.1016</td><td>1</td><td>94.0</td><td>188</td><td>0</td><td>Int64</td></tr><tr><th>2</th><td>Ano</td><td>2021.58</td><td>2021</td><td>2022.0</td><td>2022</td><td>0</td><td>Int64</td></tr><tr><th>3</th><td>TRIMESTRE</td><td></td><td>T1</td><td></td><td>T4</td><td>0</td><td>String3</td></tr><tr><th>4</th><td>MARCA</td><td></td><td>Marca1</td><td></td><td>Marca6</td><td>0</td><td>String7</td></tr><tr><th>5</th><td>ORIGEM</td><td></td><td>Origem1</td><td></td><td>Origem7</td><td>0</td><td>String7</td></tr><tr><th>6</th><td>OBJETIVO</td><td></td><td>Objetivo1</td><td></td><td>Objetivo9</td><td>0</td><td>String15</td></tr><tr><th>7</th><td>LL</td><td>2.37397e7</td><td>5362</td><td>6.38324e6</td><td>117622653</td><td>148</td><td>Union{Missing, Int64}</td></tr><tr><th>8</th><td>P1</td><td>3.29733e7</td><td>1155</td><td>1.1306e7</td><td>262588743</td><td>103</td><td>Union{Missing, Int64}</td></tr><tr><th>9</th><td>P2</td><td>6.65926e7</td><td>190</td><td>1.94569e7</td><td>659234391</td><td>50</td><td>Union{Missing, Int64}</td></tr><tr><th>10</th><td>P3</td><td>6.79e7</td><td>53542</td><td>2.75545e7</td><td>424764281</td><td>119</td><td>Union{Missing, Int64}</td></tr><tr><th>11</th><td>INVESTIMENTO</td><td>83024.5</td><td>0.11</td><td>30416.6</td><td>5.42538e5</td><td>0</td><td>Float64</td></tr><tr><th>12</th><td>LUCRO</td><td>1.20856e5</td><td>0.15</td><td>45438.5</td><td>6.88876e5</td><td>0</td><td>Float64</td></tr><tr><th>13</th><td>ROI</td><td>1.67775</td><td>0.27</td><td>1.43</td><td>7.32</td><td>0</td><td>Float64</td></tr></tbody></table></div>"
      ],
      "text/latex": [
       "\\begin{tabular}{r|ccccccc}\n",
       "\t& variable & mean & min & median & max & nmissing & eltype\\\\\n",
       "\t\\hline\n",
       "\t& Symbol & Union… & Any & Union… & Any & Int64 & Type\\\\\n",
       "\t\\hline\n",
       "\t1 & OBS & 94.1016 & 1 & 94.0 & 188 & 0 & Int64 \\\\\n",
       "\t2 & Ano & 2021.58 & 2021 & 2022.0 & 2022 & 0 & Int64 \\\\\n",
       "\t3 & TRIMESTRE &  & T1 &  & T4 & 0 & String3 \\\\\n",
       "\t4 & MARCA &  & Marca1 &  & Marca6 & 0 & String7 \\\\\n",
       "\t5 & ORIGEM &  & Origem1 &  & Origem7 & 0 & String7 \\\\\n",
       "\t6 & OBJETIVO &  & Objetivo1 &  & Objetivo9 & 0 & String15 \\\\\n",
       "\t7 & LL & 2.37397e7 & 5362 & 6.38324e6 & 117622653 & 148 & Union\\{Missing, Int64\\} \\\\\n",
       "\t8 & P1 & 3.29733e7 & 1155 & 1.1306e7 & 262588743 & 103 & Union\\{Missing, Int64\\} \\\\\n",
       "\t9 & P2 & 6.65926e7 & 190 & 1.94569e7 & 659234391 & 50 & Union\\{Missing, Int64\\} \\\\\n",
       "\t10 & P3 & 6.79e7 & 53542 & 2.75545e7 & 424764281 & 119 & Union\\{Missing, Int64\\} \\\\\n",
       "\t11 & INVESTIMENTO & 83024.5 & 0.11 & 30416.6 & 5.42538e5 & 0 & Float64 \\\\\n",
       "\t12 & LUCRO & 1.20856e5 & 0.15 & 45438.5 & 6.88876e5 & 0 & Float64 \\\\\n",
       "\t13 & ROI & 1.67775 & 0.27 & 1.43 & 7.32 & 0 & Float64 \\\\\n",
       "\\end{tabular}\n"
      ],
      "text/plain": [
       "\u001b[1m13×7 DataFrame\u001b[0m\n",
       "\u001b[1m Row \u001b[0m│\u001b[1m variable     \u001b[0m\u001b[1m mean      \u001b[0m\u001b[1m min       \u001b[0m\u001b[1m median    \u001b[0m\u001b[1m max       \u001b[0m\u001b[1m nmissing \u001b[0m\u001b[1m elt\u001b[0m ⋯\n",
       "\u001b[1m     \u001b[0m│\u001b[90m Symbol       \u001b[0m\u001b[90m Union…    \u001b[0m\u001b[90m Any       \u001b[0m\u001b[90m Union…    \u001b[0m\u001b[90m Any       \u001b[0m\u001b[90m Int64    \u001b[0m\u001b[90m Typ\u001b[0m ⋯\n",
       "─────┼──────────────────────────────────────────────────────────────────────────\n",
       "   1 │ OBS           94.1016    1          94.0       188               0  Int ⋯\n",
       "   2 │ Ano           2021.58    2021       2022.0     2022              0  Int\n",
       "   3 │ TRIMESTRE    \u001b[90m           \u001b[0m T1        \u001b[90m           \u001b[0m T4                0  Str\n",
       "   4 │ MARCA        \u001b[90m           \u001b[0m Marca1    \u001b[90m           \u001b[0m Marca6            0  Str\n",
       "   5 │ ORIGEM       \u001b[90m           \u001b[0m Origem1   \u001b[90m           \u001b[0m Origem7           0  Str ⋯\n",
       "   6 │ OBJETIVO     \u001b[90m           \u001b[0m Objetivo1 \u001b[90m           \u001b[0m Objetivo9         0  Str\n",
       "   7 │ LL            2.37397e7  5362       6.38324e6  117622653       148  Uni\n",
       "   8 │ P1            3.29733e7  1155       1.1306e7   262588743       103  Uni\n",
       "   9 │ P2            6.65926e7  190        1.94569e7  659234391        50  Uni ⋯\n",
       "  10 │ P3            6.79e7     53542      2.75545e7  424764281       119  Uni\n",
       "  11 │ INVESTIMENTO  83024.5    0.11       30416.6    5.42538e5         0  Flo\n",
       "  12 │ LUCRO         1.20856e5  0.15       45438.5    6.88876e5         0  Flo\n",
       "  13 │ ROI           1.67775    0.27       1.43       7.32              0  Flo ⋯\n",
       "\u001b[36m                                                                1 column omitted\u001b[0m"
      ]
     },
     "execution_count": 8,
     "metadata": {},
     "output_type": "execute_result"
    }
   ],
   "source": [
    "# Carregar base\n",
    "using DataFrames, CSV, HTTP\n",
    "\n",
    "url = \"https://raw.githubusercontent.com/andrelmfsantos/df/main/dataset_roi.csv\"\n",
    "data = CSV.read(HTTP.get(url).body, DataFrame)\n",
    "describe(data)"
   ]
  },
  {
   "cell_type": "code",
   "execution_count": 9,
   "id": "790ea78e",
   "metadata": {},
   "outputs": [
    {
     "data": {
      "text/html": [
       "<div class=\"data-frame\"><p>187 rows × 8 columns</p><table class=\"data-frame\"><thead><tr><th></th><th>MARCA</th><th>LL</th><th>P1</th><th>P2</th><th>P3</th><th>INVESTIMENTO</th><th>LUCRO</th><th>ROI</th></tr><tr><th></th><th title=\"String7\">String7</th><th title=\"Union{Missing, Int64}\">Int64?</th><th title=\"Union{Missing, Int64}\">Int64?</th><th title=\"Union{Missing, Int64}\">Int64?</th><th title=\"Union{Missing, Int64}\">Int64?</th><th title=\"Float64\">Float64</th><th title=\"Float64\">Float64</th><th title=\"Float64\">Float64</th></tr></thead><tbody><tr><th>1</th><td>Marca1</td><td><em>missing</em></td><td>9479281</td><td>239975</td><td>39700837</td><td>38770.2</td><td>41339.3</td><td>1.07</td></tr><tr><th>2</th><td>Marca1</td><td><em>missing</em></td><td>33459865</td><td>478635</td><td>71974878</td><td>61362.9</td><td>75183.4</td><td>1.23</td></tr><tr><th>3</th><td>Marca1</td><td><em>missing</em></td><td><em>missing</em></td><td><em>missing</em></td><td>39251146</td><td>69688.1</td><td>47008.6</td><td>0.67</td></tr><tr><th>4</th><td>Marca2</td><td><em>missing</em></td><td>4344180</td><td><em>missing</em></td><td>101037504</td><td>97638.1</td><td>1.74764e5</td><td>1.79</td></tr><tr><th>5</th><td>Marca2</td><td><em>missing</em></td><td>11056932</td><td><em>missing</em></td><td>424764281</td><td>2.93678e5</td><td>4.31466e5</td><td>1.47</td></tr><tr><th>6</th><td>Marca2</td><td><em>missing</em></td><td>160738</td><td><em>missing</em></td><td>132502984</td><td>1.86986e5</td><td>1.4422e5</td><td>0.77</td></tr><tr><th>7</th><td>Marca3</td><td><em>missing</em></td><td><em>missing</em></td><td><em>missing</em></td><td>4505070</td><td>11538.6</td><td>15798.0</td><td>1.37</td></tr><tr><th>8</th><td>Marca3</td><td><em>missing</em></td><td><em>missing</em></td><td><em>missing</em></td><td>2547734</td><td>22948.9</td><td>41048.3</td><td>1.79</td></tr><tr><th>9</th><td>Marca3</td><td><em>missing</em></td><td>18156818</td><td>52964982</td><td>73533227</td><td>1.38559e5</td><td>2.76154e5</td><td>1.99</td></tr><tr><th>10</th><td>Marca3</td><td><em>missing</em></td><td>23174580</td><td>68155600</td><td>183185077</td><td>127478.0</td><td>2.99658e5</td><td>2.35</td></tr><tr><th>11</th><td>Marca3</td><td><em>missing</em></td><td>1600747</td><td><em>missing</em></td><td>64931748</td><td>95877.9</td><td>1.15498e5</td><td>1.2</td></tr><tr><th>12</th><td>Marca4</td><td><em>missing</em></td><td>262588743</td><td><em>missing</em></td><td>198447231</td><td>370307.0</td><td>5.03158e5</td><td>1.36</td></tr><tr><th>13</th><td>Marca4</td><td><em>missing</em></td><td>240762525</td><td><em>missing</em></td><td>201889611</td><td>2.64414e5</td><td>4.05139e5</td><td>1.53</td></tr><tr><th>14</th><td>Marca5</td><td><em>missing</em></td><td>10483960</td><td><em>missing</em></td><td>136631685</td><td>119751.0</td><td>2.52228e5</td><td>2.11</td></tr><tr><th>15</th><td>Marca5</td><td><em>missing</em></td><td>361931</td><td><em>missing</em></td><td>169140336</td><td>95831.1</td><td>2.4911e5</td><td>2.6</td></tr><tr><th>16</th><td>Marca5</td><td><em>missing</em></td><td><em>missing</em></td><td><em>missing</em></td><td>35448984</td><td>56032.7</td><td>75036.4</td><td>1.34</td></tr><tr><th>17</th><td>Marca6</td><td><em>missing</em></td><td>39787408</td><td><em>missing</em></td><td>191893953</td><td>2.56707e5</td><td>6.61298e5</td><td>2.58</td></tr><tr><th>18</th><td>Marca6</td><td><em>missing</em></td><td>107199396</td><td><em>missing</em></td><td>88354441</td><td>1.31546e5</td><td>3.6317e5</td><td>2.76</td></tr><tr><th>19</th><td>Marca6</td><td><em>missing</em></td><td><em>missing</em></td><td><em>missing</em></td><td>12136613</td><td>22584.1</td><td>24436.6</td><td>1.08</td></tr><tr><th>20</th><td>Marca1</td><td><em>missing</em></td><td><em>missing</em></td><td><em>missing</em></td><td>2766235</td><td>1437.25</td><td>1160.85</td><td>0.81</td></tr><tr><th>21</th><td>Marca1</td><td>17888664</td><td>2222919</td><td>32677660</td><td>3825903</td><td>53603.4</td><td>54966.7</td><td>1.03</td></tr><tr><th>22</th><td>Marca1</td><td>57729611</td><td>2893078</td><td>77345974</td><td>6336394</td><td>74309.4</td><td>91649.6</td><td>1.23</td></tr><tr><th>23</th><td>Marca1</td><td><em>missing</em></td><td><em>missing</em></td><td><em>missing</em></td><td>3575093</td><td>5431.67</td><td>5517.49</td><td>1.02</td></tr><tr><th>24</th><td>Marca1</td><td><em>missing</em></td><td><em>missing</em></td><td><em>missing</em></td><td>4496541</td><td>9017.59</td><td>7326.68</td><td>0.81</td></tr><tr><th>25</th><td>Marca2</td><td><em>missing</em></td><td>40096234</td><td><em>missing</em></td><td>46575429</td><td>79044.2</td><td>1.10309e5</td><td>1.4</td></tr><tr><th>26</th><td>Marca2</td><td><em>missing</em></td><td>43106146</td><td><em>missing</em></td><td>6635576</td><td>67234.2</td><td>91508.5</td><td>1.36</td></tr><tr><th>27</th><td>Marca2</td><td><em>missing</em></td><td>94156189</td><td>230699558</td><td>6053414</td><td>3.86783e5</td><td>4.0809e5</td><td>1.06</td></tr><tr><th>28</th><td>Marca2</td><td><em>missing</em></td><td>161702455</td><td>659234391</td><td>12003559</td><td>5.42538e5</td><td>5.39247e5</td><td>0.99</td></tr><tr><th>29</th><td>Marca2</td><td><em>missing</em></td><td>45474</td><td><em>missing</em></td><td>143074697</td><td>2.44823e5</td><td>1.41469e5</td><td>0.58</td></tr><tr><th>30</th><td>Marca3</td><td><em>missing</em></td><td>5800789</td><td><em>missing</em></td><td>86430185</td><td>1.30216e5</td><td>1.3457e5</td><td>1.03</td></tr><tr><th>&vellip;</th><td>&vellip;</td><td>&vellip;</td><td>&vellip;</td><td>&vellip;</td><td>&vellip;</td><td>&vellip;</td><td>&vellip;</td><td>&vellip;</td></tr></tbody></table></div>"
      ],
      "text/latex": [
       "\\begin{tabular}{r|cccccccc}\n",
       "\t& MARCA & LL & P1 & P2 & P3 & INVESTIMENTO & LUCRO & ROI\\\\\n",
       "\t\\hline\n",
       "\t& String7 & Int64? & Int64? & Int64? & Int64? & Float64 & Float64 & Float64\\\\\n",
       "\t\\hline\n",
       "\t1 & Marca1 & \\emph{missing} & 9479281 & 239975 & 39700837 & 38770.2 & 41339.3 & 1.07 \\\\\n",
       "\t2 & Marca1 & \\emph{missing} & 33459865 & 478635 & 71974878 & 61362.9 & 75183.4 & 1.23 \\\\\n",
       "\t3 & Marca1 & \\emph{missing} & \\emph{missing} & \\emph{missing} & 39251146 & 69688.1 & 47008.6 & 0.67 \\\\\n",
       "\t4 & Marca2 & \\emph{missing} & 4344180 & \\emph{missing} & 101037504 & 97638.1 & 1.74764e5 & 1.79 \\\\\n",
       "\t5 & Marca2 & \\emph{missing} & 11056932 & \\emph{missing} & 424764281 & 2.93678e5 & 4.31466e5 & 1.47 \\\\\n",
       "\t6 & Marca2 & \\emph{missing} & 160738 & \\emph{missing} & 132502984 & 1.86986e5 & 1.4422e5 & 0.77 \\\\\n",
       "\t7 & Marca3 & \\emph{missing} & \\emph{missing} & \\emph{missing} & 4505070 & 11538.6 & 15798.0 & 1.37 \\\\\n",
       "\t8 & Marca3 & \\emph{missing} & \\emph{missing} & \\emph{missing} & 2547734 & 22948.9 & 41048.3 & 1.79 \\\\\n",
       "\t9 & Marca3 & \\emph{missing} & 18156818 & 52964982 & 73533227 & 1.38559e5 & 2.76154e5 & 1.99 \\\\\n",
       "\t10 & Marca3 & \\emph{missing} & 23174580 & 68155600 & 183185077 & 127478.0 & 2.99658e5 & 2.35 \\\\\n",
       "\t11 & Marca3 & \\emph{missing} & 1600747 & \\emph{missing} & 64931748 & 95877.9 & 1.15498e5 & 1.2 \\\\\n",
       "\t12 & Marca4 & \\emph{missing} & 262588743 & \\emph{missing} & 198447231 & 370307.0 & 5.03158e5 & 1.36 \\\\\n",
       "\t13 & Marca4 & \\emph{missing} & 240762525 & \\emph{missing} & 201889611 & 2.64414e5 & 4.05139e5 & 1.53 \\\\\n",
       "\t14 & Marca5 & \\emph{missing} & 10483960 & \\emph{missing} & 136631685 & 119751.0 & 2.52228e5 & 2.11 \\\\\n",
       "\t15 & Marca5 & \\emph{missing} & 361931 & \\emph{missing} & 169140336 & 95831.1 & 2.4911e5 & 2.6 \\\\\n",
       "\t16 & Marca5 & \\emph{missing} & \\emph{missing} & \\emph{missing} & 35448984 & 56032.7 & 75036.4 & 1.34 \\\\\n",
       "\t17 & Marca6 & \\emph{missing} & 39787408 & \\emph{missing} & 191893953 & 2.56707e5 & 6.61298e5 & 2.58 \\\\\n",
       "\t18 & Marca6 & \\emph{missing} & 107199396 & \\emph{missing} & 88354441 & 1.31546e5 & 3.6317e5 & 2.76 \\\\\n",
       "\t19 & Marca6 & \\emph{missing} & \\emph{missing} & \\emph{missing} & 12136613 & 22584.1 & 24436.6 & 1.08 \\\\\n",
       "\t20 & Marca1 & \\emph{missing} & \\emph{missing} & \\emph{missing} & 2766235 & 1437.25 & 1160.85 & 0.81 \\\\\n",
       "\t21 & Marca1 & 17888664 & 2222919 & 32677660 & 3825903 & 53603.4 & 54966.7 & 1.03 \\\\\n",
       "\t22 & Marca1 & 57729611 & 2893078 & 77345974 & 6336394 & 74309.4 & 91649.6 & 1.23 \\\\\n",
       "\t23 & Marca1 & \\emph{missing} & \\emph{missing} & \\emph{missing} & 3575093 & 5431.67 & 5517.49 & 1.02 \\\\\n",
       "\t24 & Marca1 & \\emph{missing} & \\emph{missing} & \\emph{missing} & 4496541 & 9017.59 & 7326.68 & 0.81 \\\\\n",
       "\t25 & Marca2 & \\emph{missing} & 40096234 & \\emph{missing} & 46575429 & 79044.2 & 1.10309e5 & 1.4 \\\\\n",
       "\t26 & Marca2 & \\emph{missing} & 43106146 & \\emph{missing} & 6635576 & 67234.2 & 91508.5 & 1.36 \\\\\n",
       "\t27 & Marca2 & \\emph{missing} & 94156189 & 230699558 & 6053414 & 3.86783e5 & 4.0809e5 & 1.06 \\\\\n",
       "\t28 & Marca2 & \\emph{missing} & 161702455 & 659234391 & 12003559 & 5.42538e5 & 5.39247e5 & 0.99 \\\\\n",
       "\t29 & Marca2 & \\emph{missing} & 45474 & \\emph{missing} & 143074697 & 2.44823e5 & 1.41469e5 & 0.58 \\\\\n",
       "\t30 & Marca3 & \\emph{missing} & 5800789 & \\emph{missing} & 86430185 & 1.30216e5 & 1.3457e5 & 1.03 \\\\\n",
       "\t$\\dots$ & $\\dots$ & $\\dots$ & $\\dots$ & $\\dots$ & $\\dots$ & $\\dots$ & $\\dots$ & $\\dots$ \\\\\n",
       "\\end{tabular}\n"
      ],
      "text/plain": [
       "\u001b[1m187×8 DataFrame\u001b[0m\n",
       "\u001b[1m Row \u001b[0m│\u001b[1m MARCA   \u001b[0m\u001b[1m LL       \u001b[0m\u001b[1m P1        \u001b[0m\u001b[1m P2        \u001b[0m\u001b[1m P3        \u001b[0m\u001b[1m INVESTIMENTO   \u001b[0m\u001b[1m LUC\u001b[0m ⋯\n",
       "\u001b[1m     \u001b[0m│\u001b[90m String7 \u001b[0m\u001b[90m Int64?   \u001b[0m\u001b[90m Int64?    \u001b[0m\u001b[90m Int64?    \u001b[0m\u001b[90m Int64?    \u001b[0m\u001b[90m Float64        \u001b[0m\u001b[90m Flo\u001b[0m ⋯\n",
       "─────┼──────────────────────────────────────────────────────────────────────────\n",
       "   1 │ Marca1  \u001b[90m  missing \u001b[0m   9479281     239975   39700837   38770.2        413 ⋯\n",
       "   2 │ Marca1  \u001b[90m  missing \u001b[0m  33459865     478635   71974878   61362.9        751\n",
       "   3 │ Marca1  \u001b[90m  missing \u001b[0m\u001b[90m   missing \u001b[0m\u001b[90m   missing \u001b[0m  39251146   69688.1        470\n",
       "   4 │ Marca2  \u001b[90m  missing \u001b[0m   4344180 \u001b[90m   missing \u001b[0m 101037504   97638.1\n",
       "   5 │ Marca2  \u001b[90m  missing \u001b[0m  11056932 \u001b[90m   missing \u001b[0m 424764281       2.93678e5      ⋯\n",
       "   6 │ Marca2  \u001b[90m  missing \u001b[0m    160738 \u001b[90m   missing \u001b[0m 132502984       1.86986e5\n",
       "   7 │ Marca3  \u001b[90m  missing \u001b[0m\u001b[90m   missing \u001b[0m\u001b[90m   missing \u001b[0m   4505070   11538.6        157\n",
       "   8 │ Marca3  \u001b[90m  missing \u001b[0m\u001b[90m   missing \u001b[0m\u001b[90m   missing \u001b[0m   2547734   22948.9        410\n",
       "   9 │ Marca3  \u001b[90m  missing \u001b[0m  18156818   52964982   73533227       1.38559e5      ⋯\n",
       "  10 │ Marca3  \u001b[90m  missing \u001b[0m  23174580   68155600  183185077  127478.0\n",
       "  11 │ Marca3  \u001b[90m  missing \u001b[0m   1600747 \u001b[90m   missing \u001b[0m  64931748   95877.9\n",
       "  ⋮  │    ⋮        ⋮          ⋮          ⋮          ⋮            ⋮             ⋱\n",
       " 178 │ Marca6    2935866 \u001b[90m   missing \u001b[0m  27291796 \u001b[90m   missing \u001b[0m  20577.7        585\n",
       " 179 │ Marca6   42609339 \u001b[90m   missing \u001b[0m 112843077 \u001b[90m   missing \u001b[0m  69892.0            ⋯\n",
       " 180 │ Marca6  \u001b[90m  missing \u001b[0m\u001b[90m   missing \u001b[0m       190 \u001b[90m   missing \u001b[0m      0.11\n",
       " 181 │ Marca6    6383241 \u001b[90m   missing \u001b[0m  34103815 \u001b[90m   missing \u001b[0m  22688.8        562\n",
       " 182 │ Marca6     153434 \u001b[90m   missing \u001b[0m    752361 \u001b[90m   missing \u001b[0m   1094.17        24\n",
       " 183 │ Marca6  \u001b[90m  missing \u001b[0m\u001b[90m   missing \u001b[0m\u001b[90m   missing \u001b[0m   7725913   18466.8        164 ⋯\n",
       " 184 │ Marca6  \u001b[90m  missing \u001b[0m  16375741   48231815 \u001b[90m   missing \u001b[0m  90795.7        890\n",
       " 185 │ Marca6  \u001b[90m  missing \u001b[0m\u001b[90m   missing \u001b[0m  15674548 \u001b[90m   missing \u001b[0m  31188.3        601\n",
       " 186 │ Marca6  \u001b[90m  missing \u001b[0m\u001b[90m   missing \u001b[0m   1464387 \u001b[90m   missing \u001b[0m   1959.58        79\n",
       " 187 │ Marca6  \u001b[90m  missing \u001b[0m\u001b[90m   missing \u001b[0m   3541249 \u001b[90m   missing \u001b[0m   6144.19       189 ⋯\n",
       "\u001b[36m                                                  2 columns and 166 rows omitted\u001b[0m"
      ]
     },
     "execution_count": 9,
     "metadata": {},
     "output_type": "execute_result"
    }
   ],
   "source": [
    "# Subset\n",
    "df = data[!, names(data,[:MARCA,:LL,:P1,:P2,:P3,:INVESTIMENTO,:LUCRO, :ROI])]"
   ]
  },
  {
   "cell_type": "code",
   "execution_count": 10,
   "id": "b9296bb5",
   "metadata": {},
   "outputs": [],
   "source": [
    "# Replace missing data\n",
    "for col in eachcol(df)\n",
    "    replace!(col,missing => 0)\n",
    "end"
   ]
  },
  {
   "cell_type": "code",
   "execution_count": 11,
   "id": "85134e64",
   "metadata": {},
   "outputs": [
    {
     "data": {
      "text/html": [
       "<div class=\"data-frame\"><p>5 rows × 8 columns</p><table class=\"data-frame\"><thead><tr><th></th><th>MARCA</th><th>LL</th><th>P1</th><th>P2</th><th>P3</th><th>INVESTIMENTO</th><th>LUCRO</th><th>ROI</th></tr><tr><th></th><th title=\"String7\">String7</th><th title=\"Int64\">Int64</th><th title=\"Int64\">Int64</th><th title=\"Int64\">Int64</th><th title=\"Int64\">Int64</th><th title=\"Float64\">Float64</th><th title=\"Float64\">Float64</th><th title=\"Float64\">Float64</th></tr></thead><tbody><tr><th>1</th><td>Marca1</td><td>0</td><td>9479281</td><td>239975</td><td>39700837</td><td>38770.2</td><td>41339.3</td><td>1.07</td></tr><tr><th>2</th><td>Marca1</td><td>0</td><td>33459865</td><td>478635</td><td>71974878</td><td>61362.9</td><td>75183.4</td><td>1.23</td></tr><tr><th>3</th><td>Marca1</td><td>0</td><td>0</td><td>0</td><td>39251146</td><td>69688.1</td><td>47008.6</td><td>0.67</td></tr><tr><th>4</th><td>Marca2</td><td>0</td><td>4344180</td><td>0</td><td>101037504</td><td>97638.1</td><td>1.74764e5</td><td>1.79</td></tr><tr><th>5</th><td>Marca2</td><td>0</td><td>11056932</td><td>0</td><td>424764281</td><td>2.93678e5</td><td>4.31466e5</td><td>1.47</td></tr></tbody></table></div>"
      ],
      "text/latex": [
       "\\begin{tabular}{r|cccccccc}\n",
       "\t& MARCA & LL & P1 & P2 & P3 & INVESTIMENTO & LUCRO & ROI\\\\\n",
       "\t\\hline\n",
       "\t& String7 & Int64 & Int64 & Int64 & Int64 & Float64 & Float64 & Float64\\\\\n",
       "\t\\hline\n",
       "\t1 & Marca1 & 0 & 9479281 & 239975 & 39700837 & 38770.2 & 41339.3 & 1.07 \\\\\n",
       "\t2 & Marca1 & 0 & 33459865 & 478635 & 71974878 & 61362.9 & 75183.4 & 1.23 \\\\\n",
       "\t3 & Marca1 & 0 & 0 & 0 & 39251146 & 69688.1 & 47008.6 & 0.67 \\\\\n",
       "\t4 & Marca2 & 0 & 4344180 & 0 & 101037504 & 97638.1 & 1.74764e5 & 1.79 \\\\\n",
       "\t5 & Marca2 & 0 & 11056932 & 0 & 424764281 & 2.93678e5 & 4.31466e5 & 1.47 \\\\\n",
       "\\end{tabular}\n"
      ],
      "text/plain": [
       "\u001b[1m5×8 DataFrame\u001b[0m\n",
       "\u001b[1m Row \u001b[0m│\u001b[1m MARCA   \u001b[0m\u001b[1m LL    \u001b[0m\u001b[1m P1       \u001b[0m\u001b[1m P2     \u001b[0m\u001b[1m P3        \u001b[0m\u001b[1m INVESTIMENTO  \u001b[0m\u001b[1m LUCRO      \u001b[0m ⋯\n",
       "\u001b[1m     \u001b[0m│\u001b[90m String7 \u001b[0m\u001b[90m Int64 \u001b[0m\u001b[90m Int64    \u001b[0m\u001b[90m Int64  \u001b[0m\u001b[90m Int64     \u001b[0m\u001b[90m Float64       \u001b[0m\u001b[90m Float64    \u001b[0m ⋯\n",
       "─────┼──────────────────────────────────────────────────────────────────────────\n",
       "   1 │ Marca1       0   9479281  239975   39700837  38770.2        41339.3     ⋯\n",
       "   2 │ Marca1       0  33459865  478635   71974878  61362.9        75183.4\n",
       "   3 │ Marca1       0         0       0   39251146  69688.1        47008.6\n",
       "   4 │ Marca2       0   4344180       0  101037504  97638.1            1.74764\n",
       "   5 │ Marca2       0  11056932       0  424764281      2.93678e5      4.31466 ⋯\n",
       "\u001b[36m                                                               2 columns omitted\u001b[0m"
      ]
     },
     "execution_count": 11,
     "metadata": {},
     "output_type": "execute_result"
    }
   ],
   "source": [
    "# Converter colunas para inteiro\n",
    "df[!,:LL] = map(Int64, df[!,:LL])\n",
    "df[!,:P1] = map(Int64, df[!,:P1])\n",
    "df[!,:P2] = map(Int64, df[!,:P2])\n",
    "df[!,:P3] = map(Int64, df[!,:P3])\n",
    "first(df,5)"
   ]
  },
  {
   "cell_type": "code",
   "execution_count": 12,
   "id": "3b20e26b",
   "metadata": {},
   "outputs": [
    {
     "data": {
      "image/svg+xml": [
       "<?xml version=\"1.0\" encoding=\"utf-8\"?>\n",
       "<svg xmlns=\"http://www.w3.org/2000/svg\" xmlns:xlink=\"http://www.w3.org/1999/xlink\" width=\"600\" height=\"400\" viewBox=\"0 0 2400 1600\">\n",
       "<defs>\n",
       "  <clipPath id=\"clip690\">\n",
       "    <rect x=\"0\" y=\"0\" width=\"2400\" height=\"1600\"/>\n",
       "  </clipPath>\n",
       "</defs>\n",
       "<path clip-path=\"url(#clip690)\" d=\"\n",
       "M0 1600 L2400 1600 L2400 0 L0 0  Z\n",
       "  \" fill=\"#ffffff\" fill-rule=\"evenodd\" fill-opacity=\"1\"/>\n",
       "<defs>\n",
       "  <clipPath id=\"clip691\">\n",
       "    <rect x=\"480\" y=\"0\" width=\"1681\" height=\"1600\"/>\n",
       "  </clipPath>\n",
       "</defs>\n",
       "<path clip-path=\"url(#clip690)\" d=\"\n",
       "M156.598 1486.45 L2352.76 1486.45 L2352.76 47.2441 L156.598 47.2441  Z\n",
       "  \" fill=\"#ffffff\" fill-rule=\"evenodd\" fill-opacity=\"1\"/>\n",
       "<defs>\n",
       "  <clipPath id=\"clip692\">\n",
       "    <rect x=\"156\" y=\"47\" width=\"2197\" height=\"1440\"/>\n",
       "  </clipPath>\n",
       "</defs>\n",
       "<polyline clip-path=\"url(#clip692)\" style=\"stroke:#000000; stroke-linecap:round; stroke-linejoin:round; stroke-width:2; stroke-opacity:0.1; fill:none\" points=\"\n",
       "  352.053,1486.45 352.053,47.2441 \n",
       "  \"/>\n",
       "<polyline clip-path=\"url(#clip692)\" style=\"stroke:#000000; stroke-linecap:round; stroke-linejoin:round; stroke-width:2; stroke-opacity:0.1; fill:none\" points=\"\n",
       "  827.744,1486.45 827.744,47.2441 \n",
       "  \"/>\n",
       "<polyline clip-path=\"url(#clip692)\" style=\"stroke:#000000; stroke-linecap:round; stroke-linejoin:round; stroke-width:2; stroke-opacity:0.1; fill:none\" points=\"\n",
       "  1303.44,1486.45 1303.44,47.2441 \n",
       "  \"/>\n",
       "<polyline clip-path=\"url(#clip692)\" style=\"stroke:#000000; stroke-linecap:round; stroke-linejoin:round; stroke-width:2; stroke-opacity:0.1; fill:none\" points=\"\n",
       "  1779.13,1486.45 1779.13,47.2441 \n",
       "  \"/>\n",
       "<polyline clip-path=\"url(#clip692)\" style=\"stroke:#000000; stroke-linecap:round; stroke-linejoin:round; stroke-width:2; stroke-opacity:0.1; fill:none\" points=\"\n",
       "  2254.82,1486.45 2254.82,47.2441 \n",
       "  \"/>\n",
       "<polyline clip-path=\"url(#clip690)\" style=\"stroke:#000000; stroke-linecap:round; stroke-linejoin:round; stroke-width:4; stroke-opacity:1; fill:none\" points=\"\n",
       "  156.598,1486.45 2352.76,1486.45 \n",
       "  \"/>\n",
       "<polyline clip-path=\"url(#clip690)\" style=\"stroke:#000000; stroke-linecap:round; stroke-linejoin:round; stroke-width:4; stroke-opacity:1; fill:none\" points=\"\n",
       "  352.053,1486.45 352.053,1467.55 \n",
       "  \"/>\n",
       "<polyline clip-path=\"url(#clip690)\" style=\"stroke:#000000; stroke-linecap:round; stroke-linejoin:round; stroke-width:4; stroke-opacity:1; fill:none\" points=\"\n",
       "  827.744,1486.45 827.744,1467.55 \n",
       "  \"/>\n",
       "<polyline clip-path=\"url(#clip690)\" style=\"stroke:#000000; stroke-linecap:round; stroke-linejoin:round; stroke-width:4; stroke-opacity:1; fill:none\" points=\"\n",
       "  1303.44,1486.45 1303.44,1467.55 \n",
       "  \"/>\n",
       "<polyline clip-path=\"url(#clip690)\" style=\"stroke:#000000; stroke-linecap:round; stroke-linejoin:round; stroke-width:4; stroke-opacity:1; fill:none\" points=\"\n",
       "  1779.13,1486.45 1779.13,1467.55 \n",
       "  \"/>\n",
       "<polyline clip-path=\"url(#clip690)\" style=\"stroke:#000000; stroke-linecap:round; stroke-linejoin:round; stroke-width:4; stroke-opacity:1; fill:none\" points=\"\n",
       "  2254.82,1486.45 2254.82,1467.55 \n",
       "  \"/>\n",
       "<path clip-path=\"url(#clip690)\" d=\"M352.053 1517.37 Q348.442 1517.37 346.614 1520.93 Q344.808 1524.47 344.808 1531.6 Q344.808 1538.71 346.614 1542.27 Q348.442 1545.82 352.053 1545.82 Q355.688 1545.82 357.493 1542.27 Q359.322 1538.71 359.322 1531.6 Q359.322 1524.47 357.493 1520.93 Q355.688 1517.37 352.053 1517.37 M352.053 1513.66 Q357.864 1513.66 360.919 1518.27 Q363.998 1522.85 363.998 1531.6 Q363.998 1540.33 360.919 1544.94 Q357.864 1549.52 352.053 1549.52 Q346.243 1549.52 343.165 1544.94 Q340.109 1540.33 340.109 1531.6 Q340.109 1522.85 343.165 1518.27 Q346.243 1513.66 352.053 1513.66 Z\" fill=\"#000000\" fill-rule=\"evenodd\" fill-opacity=\"1\" /><path clip-path=\"url(#clip690)\" d=\"M822.397 1544.91 L838.717 1544.91 L838.717 1548.85 L816.772 1548.85 L816.772 1544.91 Q819.434 1542.16 824.018 1537.53 Q828.624 1532.88 829.805 1531.53 Q832.05 1529.01 832.93 1527.27 Q833.832 1525.51 833.832 1523.82 Q833.832 1521.07 831.888 1519.33 Q829.967 1517.6 826.865 1517.6 Q824.666 1517.6 822.212 1518.36 Q819.782 1519.13 817.004 1520.68 L817.004 1515.95 Q819.828 1514.82 822.282 1514.24 Q824.735 1513.66 826.772 1513.66 Q832.143 1513.66 835.337 1516.35 Q838.531 1519.03 838.531 1523.52 Q838.531 1525.65 837.721 1527.57 Q836.934 1529.47 834.828 1532.07 Q834.249 1532.74 831.147 1535.95 Q828.045 1539.15 822.397 1544.91 Z\" fill=\"#000000\" fill-rule=\"evenodd\" fill-opacity=\"1\" /><path clip-path=\"url(#clip690)\" d=\"M1306.44 1518.36 L1294.64 1536.81 L1306.44 1536.81 L1306.44 1518.36 M1305.22 1514.29 L1311.1 1514.29 L1311.1 1536.81 L1316.03 1536.81 L1316.03 1540.7 L1311.1 1540.7 L1311.1 1548.85 L1306.44 1548.85 L1306.44 1540.7 L1290.84 1540.7 L1290.84 1536.19 L1305.22 1514.29 Z\" fill=\"#000000\" fill-rule=\"evenodd\" fill-opacity=\"1\" /><path clip-path=\"url(#clip690)\" d=\"M1779.53 1529.7 Q1776.38 1529.7 1774.53 1531.86 Q1772.7 1534.01 1772.7 1537.76 Q1772.7 1541.49 1774.53 1543.66 Q1776.38 1545.82 1779.53 1545.82 Q1782.68 1545.82 1784.51 1543.66 Q1786.36 1541.49 1786.36 1537.76 Q1786.36 1534.01 1784.51 1531.86 Q1782.68 1529.7 1779.53 1529.7 M1788.81 1515.05 L1788.81 1519.31 Q1787.05 1518.48 1785.25 1518.04 Q1783.47 1517.6 1781.71 1517.6 Q1777.08 1517.6 1774.62 1520.72 Q1772.19 1523.85 1771.85 1530.17 Q1773.21 1528.15 1775.27 1527.09 Q1777.33 1526 1779.81 1526 Q1785.02 1526 1788.03 1529.17 Q1791.06 1532.32 1791.06 1537.76 Q1791.06 1543.08 1787.91 1546.3 Q1784.76 1549.52 1779.53 1549.52 Q1773.54 1549.52 1770.36 1544.94 Q1767.19 1540.33 1767.19 1531.6 Q1767.19 1523.41 1771.08 1518.55 Q1774.97 1513.66 1781.52 1513.66 Q1783.28 1513.66 1785.06 1514.01 Q1786.87 1514.36 1788.81 1515.05 Z\" fill=\"#000000\" fill-rule=\"evenodd\" fill-opacity=\"1\" /><path clip-path=\"url(#clip690)\" d=\"M2254.82 1532.44 Q2251.48 1532.44 2249.56 1534.22 Q2247.66 1536 2247.66 1539.13 Q2247.66 1542.25 2249.56 1544.03 Q2251.48 1545.82 2254.82 1545.82 Q2258.15 1545.82 2260.07 1544.03 Q2261.99 1542.23 2261.99 1539.13 Q2261.99 1536 2260.07 1534.22 Q2258.17 1532.44 2254.82 1532.44 M2250.14 1530.45 Q2247.13 1529.7 2245.44 1527.64 Q2243.78 1525.58 2243.78 1522.62 Q2243.78 1518.48 2246.72 1516.07 Q2249.68 1513.66 2254.82 1513.66 Q2259.98 1513.66 2262.92 1516.07 Q2265.86 1518.48 2265.86 1522.62 Q2265.86 1525.58 2264.17 1527.64 Q2262.5 1529.7 2259.52 1530.45 Q2262.9 1531.23 2264.77 1533.52 Q2266.67 1535.82 2266.67 1539.13 Q2266.67 1544.15 2263.59 1546.83 Q2260.53 1549.52 2254.82 1549.52 Q2249.1 1549.52 2246.02 1546.83 Q2242.97 1544.15 2242.97 1539.13 Q2242.97 1535.82 2244.86 1533.52 Q2246.76 1531.23 2250.14 1530.45 M2248.43 1523.06 Q2248.43 1525.75 2250.1 1527.25 Q2251.78 1528.76 2254.82 1528.76 Q2257.83 1528.76 2259.52 1527.25 Q2261.23 1525.75 2261.23 1523.06 Q2261.23 1520.38 2259.52 1518.87 Q2257.83 1517.37 2254.82 1517.37 Q2251.78 1517.37 2250.1 1518.87 Q2248.43 1520.38 2248.43 1523.06 Z\" fill=\"#000000\" fill-rule=\"evenodd\" fill-opacity=\"1\" /><polyline clip-path=\"url(#clip692)\" style=\"stroke:#000000; stroke-linecap:round; stroke-linejoin:round; stroke-width:2; stroke-opacity:0.1; fill:none\" points=\"\n",
       "  156.598,1445.72 2352.76,1445.72 \n",
       "  \"/>\n",
       "<polyline clip-path=\"url(#clip692)\" style=\"stroke:#000000; stroke-linecap:round; stroke-linejoin:round; stroke-width:2; stroke-opacity:0.1; fill:none\" points=\"\n",
       "  156.598,1234.09 2352.76,1234.09 \n",
       "  \"/>\n",
       "<polyline clip-path=\"url(#clip692)\" style=\"stroke:#000000; stroke-linecap:round; stroke-linejoin:round; stroke-width:2; stroke-opacity:0.1; fill:none\" points=\"\n",
       "  156.598,1022.47 2352.76,1022.47 \n",
       "  \"/>\n",
       "<polyline clip-path=\"url(#clip692)\" style=\"stroke:#000000; stroke-linecap:round; stroke-linejoin:round; stroke-width:2; stroke-opacity:0.1; fill:none\" points=\"\n",
       "  156.598,810.852 2352.76,810.852 \n",
       "  \"/>\n",
       "<polyline clip-path=\"url(#clip692)\" style=\"stroke:#000000; stroke-linecap:round; stroke-linejoin:round; stroke-width:2; stroke-opacity:0.1; fill:none\" points=\"\n",
       "  156.598,599.231 2352.76,599.231 \n",
       "  \"/>\n",
       "<polyline clip-path=\"url(#clip692)\" style=\"stroke:#000000; stroke-linecap:round; stroke-linejoin:round; stroke-width:2; stroke-opacity:0.1; fill:none\" points=\"\n",
       "  156.598,387.609 2352.76,387.609 \n",
       "  \"/>\n",
       "<polyline clip-path=\"url(#clip692)\" style=\"stroke:#000000; stroke-linecap:round; stroke-linejoin:round; stroke-width:2; stroke-opacity:0.1; fill:none\" points=\"\n",
       "  156.598,175.988 2352.76,175.988 \n",
       "  \"/>\n",
       "<polyline clip-path=\"url(#clip690)\" style=\"stroke:#000000; stroke-linecap:round; stroke-linejoin:round; stroke-width:4; stroke-opacity:1; fill:none\" points=\"\n",
       "  156.598,1486.45 156.598,47.2441 \n",
       "  \"/>\n",
       "<polyline clip-path=\"url(#clip690)\" style=\"stroke:#000000; stroke-linecap:round; stroke-linejoin:round; stroke-width:4; stroke-opacity:1; fill:none\" points=\"\n",
       "  156.598,1445.72 175.496,1445.72 \n",
       "  \"/>\n",
       "<polyline clip-path=\"url(#clip690)\" style=\"stroke:#000000; stroke-linecap:round; stroke-linejoin:round; stroke-width:4; stroke-opacity:1; fill:none\" points=\"\n",
       "  156.598,1234.09 175.496,1234.09 \n",
       "  \"/>\n",
       "<polyline clip-path=\"url(#clip690)\" style=\"stroke:#000000; stroke-linecap:round; stroke-linejoin:round; stroke-width:4; stroke-opacity:1; fill:none\" points=\"\n",
       "  156.598,1022.47 175.496,1022.47 \n",
       "  \"/>\n",
       "<polyline clip-path=\"url(#clip690)\" style=\"stroke:#000000; stroke-linecap:round; stroke-linejoin:round; stroke-width:4; stroke-opacity:1; fill:none\" points=\"\n",
       "  156.598,810.852 175.496,810.852 \n",
       "  \"/>\n",
       "<polyline clip-path=\"url(#clip690)\" style=\"stroke:#000000; stroke-linecap:round; stroke-linejoin:round; stroke-width:4; stroke-opacity:1; fill:none\" points=\"\n",
       "  156.598,599.231 175.496,599.231 \n",
       "  \"/>\n",
       "<polyline clip-path=\"url(#clip690)\" style=\"stroke:#000000; stroke-linecap:round; stroke-linejoin:round; stroke-width:4; stroke-opacity:1; fill:none\" points=\"\n",
       "  156.598,387.609 175.496,387.609 \n",
       "  \"/>\n",
       "<polyline clip-path=\"url(#clip690)\" style=\"stroke:#000000; stroke-linecap:round; stroke-linejoin:round; stroke-width:4; stroke-opacity:1; fill:none\" points=\"\n",
       "  156.598,175.988 175.496,175.988 \n",
       "  \"/>\n",
       "<path clip-path=\"url(#clip690)\" d=\"M63.4226 1431.51 Q59.8115 1431.51 57.9828 1435.08 Q56.1773 1438.62 56.1773 1445.75 Q56.1773 1452.86 57.9828 1456.42 Q59.8115 1459.96 63.4226 1459.96 Q67.0569 1459.96 68.8624 1456.42 Q70.6911 1452.86 70.6911 1445.75 Q70.6911 1438.62 68.8624 1435.08 Q67.0569 1431.51 63.4226 1431.51 M63.4226 1427.81 Q69.2328 1427.81 72.2883 1432.42 Q75.367 1437 75.367 1445.75 Q75.367 1454.48 72.2883 1459.08 Q69.2328 1463.67 63.4226 1463.67 Q57.6125 1463.67 54.5338 1459.08 Q51.4782 1454.48 51.4782 1445.75 Q51.4782 1437 54.5338 1432.42 Q57.6125 1427.81 63.4226 1427.81 Z\" fill=\"#000000\" fill-rule=\"evenodd\" fill-opacity=\"1\" /><path clip-path=\"url(#clip690)\" d=\"M83.5845 1457.12 L88.4688 1457.12 L88.4688 1463 L83.5845 1463 L83.5845 1457.12 Z\" fill=\"#000000\" fill-rule=\"evenodd\" fill-opacity=\"1\" /><path clip-path=\"url(#clip690)\" d=\"M108.654 1431.51 Q105.043 1431.51 103.214 1435.08 Q101.409 1438.62 101.409 1445.75 Q101.409 1452.86 103.214 1456.42 Q105.043 1459.96 108.654 1459.96 Q112.288 1459.96 114.094 1456.42 Q115.922 1452.86 115.922 1445.75 Q115.922 1438.62 114.094 1435.08 Q112.288 1431.51 108.654 1431.51 M108.654 1427.81 Q114.464 1427.81 117.52 1432.42 Q120.598 1437 120.598 1445.75 Q120.598 1454.48 117.52 1459.08 Q114.464 1463.67 108.654 1463.67 Q102.844 1463.67 99.765 1459.08 Q96.7095 1454.48 96.7095 1445.75 Q96.7095 1437 99.765 1432.42 Q102.844 1427.81 108.654 1427.81 Z\" fill=\"#000000\" fill-rule=\"evenodd\" fill-opacity=\"1\" /><path clip-path=\"url(#clip690)\" d=\"M64.6495 1219.89 Q61.0384 1219.89 59.2097 1223.46 Q57.4041 1227 57.4041 1234.13 Q57.4041 1241.24 59.2097 1244.8 Q61.0384 1248.34 64.6495 1248.34 Q68.2837 1248.34 70.0892 1244.8 Q71.9179 1241.24 71.9179 1234.13 Q71.9179 1227 70.0892 1223.46 Q68.2837 1219.89 64.6495 1219.89 M64.6495 1216.19 Q70.4596 1216.19 73.5152 1220.8 Q76.5938 1225.38 76.5938 1234.13 Q76.5938 1242.86 73.5152 1247.46 Q70.4596 1252.05 64.6495 1252.05 Q58.8393 1252.05 55.7606 1247.46 Q52.7051 1242.86 52.7051 1234.13 Q52.7051 1225.38 55.7606 1220.8 Q58.8393 1216.19 64.6495 1216.19 Z\" fill=\"#000000\" fill-rule=\"evenodd\" fill-opacity=\"1\" /><path clip-path=\"url(#clip690)\" d=\"M84.8114 1245.49 L89.6956 1245.49 L89.6956 1251.37 L84.8114 1251.37 L84.8114 1245.49 Z\" fill=\"#000000\" fill-rule=\"evenodd\" fill-opacity=\"1\" /><path clip-path=\"url(#clip690)\" d=\"M100.691 1247.44 L108.33 1247.44 L108.33 1221.07 L100.02 1222.74 L100.02 1218.48 L108.283 1216.81 L112.959 1216.81 L112.959 1247.44 L120.598 1247.44 L120.598 1251.37 L100.691 1251.37 L100.691 1247.44 Z\" fill=\"#000000\" fill-rule=\"evenodd\" fill-opacity=\"1\" /><path clip-path=\"url(#clip690)\" d=\"M65.0198 1008.27 Q61.4087 1008.27 59.58 1011.84 Q57.7745 1015.38 57.7745 1022.51 Q57.7745 1029.61 59.58 1033.18 Q61.4087 1036.72 65.0198 1036.72 Q68.6541 1036.72 70.4596 1033.18 Q72.2883 1029.61 72.2883 1022.51 Q72.2883 1015.38 70.4596 1011.84 Q68.6541 1008.27 65.0198 1008.27 M65.0198 1004.57 Q70.83 1004.57 73.8855 1009.17 Q76.9642 1013.76 76.9642 1022.51 Q76.9642 1031.23 73.8855 1035.84 Q70.83 1040.42 65.0198 1040.42 Q59.2097 1040.42 56.131 1035.84 Q53.0754 1031.23 53.0754 1022.51 Q53.0754 1013.76 56.131 1009.17 Q59.2097 1004.57 65.0198 1004.57 Z\" fill=\"#000000\" fill-rule=\"evenodd\" fill-opacity=\"1\" /><path clip-path=\"url(#clip690)\" d=\"M85.1818 1033.87 L90.066 1033.87 L90.066 1039.75 L85.1818 1039.75 L85.1818 1033.87 Z\" fill=\"#000000\" fill-rule=\"evenodd\" fill-opacity=\"1\" /><path clip-path=\"url(#clip690)\" d=\"M104.279 1035.82 L120.598 1035.82 L120.598 1039.75 L98.6539 1039.75 L98.6539 1035.82 Q101.316 1033.06 105.899 1028.43 Q110.506 1023.78 111.686 1022.44 Q113.932 1019.92 114.811 1018.18 Q115.714 1016.42 115.714 1014.73 Q115.714 1011.98 113.77 1010.24 Q111.848 1008.5 108.746 1008.5 Q106.547 1008.5 104.094 1009.27 Q101.663 1010.03 98.8854 1011.58 L98.8854 1006.86 Q101.709 1005.73 104.163 1005.15 Q106.617 1004.57 108.654 1004.57 Q114.024 1004.57 117.219 1007.25 Q120.413 1009.94 120.413 1014.43 Q120.413 1016.56 119.603 1018.48 Q118.816 1020.38 116.709 1022.97 Q116.131 1023.64 113.029 1026.86 Q109.927 1030.05 104.279 1035.82 Z\" fill=\"#000000\" fill-rule=\"evenodd\" fill-opacity=\"1\" /><path clip-path=\"url(#clip690)\" d=\"M64.0708 796.651 Q60.4597 796.651 58.631 800.215 Q56.8254 803.757 56.8254 810.887 Q56.8254 817.993 58.631 821.558 Q60.4597 825.1 64.0708 825.1 Q67.705 825.1 69.5105 821.558 Q71.3392 817.993 71.3392 810.887 Q71.3392 803.757 69.5105 800.215 Q67.705 796.651 64.0708 796.651 M64.0708 792.947 Q69.8809 792.947 72.9365 797.553 Q76.0151 802.137 76.0151 810.887 Q76.0151 819.613 72.9365 824.22 Q69.8809 828.803 64.0708 828.803 Q58.2606 828.803 55.1819 824.22 Q52.1264 819.613 52.1264 810.887 Q52.1264 802.137 55.1819 797.553 Q58.2606 792.947 64.0708 792.947 Z\" fill=\"#000000\" fill-rule=\"evenodd\" fill-opacity=\"1\" /><path clip-path=\"url(#clip690)\" d=\"M84.2327 822.252 L89.1169 822.252 L89.1169 828.132 L84.2327 828.132 L84.2327 822.252 Z\" fill=\"#000000\" fill-rule=\"evenodd\" fill-opacity=\"1\" /><path clip-path=\"url(#clip690)\" d=\"M113.469 809.498 Q116.825 810.215 118.7 812.484 Q120.598 814.752 120.598 818.086 Q120.598 823.201 117.08 826.002 Q113.561 828.803 107.08 828.803 Q104.904 828.803 102.589 828.363 Q100.297 827.947 97.8437 827.09 L97.8437 822.576 Q99.7882 823.711 102.103 824.289 Q104.418 824.868 106.941 824.868 Q111.339 824.868 113.631 823.132 Q115.945 821.396 115.945 818.086 Q115.945 815.03 113.793 813.317 Q111.663 811.581 107.844 811.581 L103.816 811.581 L103.816 807.739 L108.029 807.739 Q111.478 807.739 113.307 806.373 Q115.135 804.984 115.135 802.391 Q115.135 799.729 113.237 798.317 Q111.362 796.882 107.844 796.882 Q105.922 796.882 103.723 797.299 Q101.524 797.715 98.8854 798.595 L98.8854 794.428 Q101.547 793.688 103.862 793.317 Q106.2 792.947 108.26 792.947 Q113.584 792.947 116.686 795.377 Q119.788 797.785 119.788 801.905 Q119.788 804.776 118.145 806.766 Q116.501 808.734 113.469 809.498 Z\" fill=\"#000000\" fill-rule=\"evenodd\" fill-opacity=\"1\" /><path clip-path=\"url(#clip690)\" d=\"M62.9365 585.029 Q59.3254 585.029 57.4967 588.594 Q55.6912 592.136 55.6912 599.265 Q55.6912 606.372 57.4967 609.937 Q59.3254 613.478 62.9365 613.478 Q66.5707 613.478 68.3763 609.937 Q70.205 606.372 70.205 599.265 Q70.205 592.136 68.3763 588.594 Q66.5707 585.029 62.9365 585.029 M62.9365 581.326 Q68.7467 581.326 71.8022 585.932 Q74.8809 590.515 74.8809 599.265 Q74.8809 607.992 71.8022 612.599 Q68.7467 617.182 62.9365 617.182 Q57.1264 617.182 54.0477 612.599 Q50.9921 607.992 50.9921 599.265 Q50.9921 590.515 54.0477 585.932 Q57.1264 581.326 62.9365 581.326 Z\" fill=\"#000000\" fill-rule=\"evenodd\" fill-opacity=\"1\" /><path clip-path=\"url(#clip690)\" d=\"M83.0984 610.631 L87.9827 610.631 L87.9827 616.511 L83.0984 616.511 L83.0984 610.631 Z\" fill=\"#000000\" fill-rule=\"evenodd\" fill-opacity=\"1\" /><path clip-path=\"url(#clip690)\" d=\"M111.015 586.025 L99.2095 604.474 L111.015 604.474 L111.015 586.025 M109.788 581.951 L115.668 581.951 L115.668 604.474 L120.598 604.474 L120.598 608.363 L115.668 608.363 L115.668 616.511 L111.015 616.511 L111.015 608.363 L95.4132 608.363 L95.4132 603.849 L109.788 581.951 Z\" fill=\"#000000\" fill-rule=\"evenodd\" fill-opacity=\"1\" /><path clip-path=\"url(#clip690)\" d=\"M64.418 373.408 Q60.8069 373.408 58.9782 376.973 Q57.1726 380.515 57.1726 387.644 Q57.1726 394.751 58.9782 398.315 Q60.8069 401.857 64.418 401.857 Q68.0522 401.857 69.8578 398.315 Q71.6865 394.751 71.6865 387.644 Q71.6865 380.515 69.8578 376.973 Q68.0522 373.408 64.418 373.408 M64.418 369.704 Q70.2281 369.704 73.2837 374.311 Q76.3624 378.894 76.3624 387.644 Q76.3624 396.371 73.2837 400.977 Q70.2281 405.561 64.418 405.561 Q58.6078 405.561 55.5291 400.977 Q52.4736 396.371 52.4736 387.644 Q52.4736 378.894 55.5291 374.311 Q58.6078 369.704 64.418 369.704 Z\" fill=\"#000000\" fill-rule=\"evenodd\" fill-opacity=\"1\" /><path clip-path=\"url(#clip690)\" d=\"M84.5799 399.01 L89.4641 399.01 L89.4641 404.889 L84.5799 404.889 L84.5799 399.01 Z\" fill=\"#000000\" fill-rule=\"evenodd\" fill-opacity=\"1\" /><path clip-path=\"url(#clip690)\" d=\"M99.6956 370.329 L118.052 370.329 L118.052 374.265 L103.978 374.265 L103.978 382.737 Q104.996 382.39 106.015 382.227 Q107.033 382.042 108.052 382.042 Q113.839 382.042 117.219 385.214 Q120.598 388.385 120.598 393.801 Q120.598 399.38 117.126 402.482 Q113.654 405.561 107.334 405.561 Q105.159 405.561 102.89 405.19 Q100.645 404.82 98.2372 404.079 L98.2372 399.38 Q100.321 400.514 102.543 401.07 Q104.765 401.626 107.242 401.626 Q111.246 401.626 113.584 399.519 Q115.922 397.413 115.922 393.801 Q115.922 390.19 113.584 388.084 Q111.246 385.977 107.242 385.977 Q105.367 385.977 103.492 386.394 Q101.64 386.811 99.6956 387.69 L99.6956 370.329 Z\" fill=\"#000000\" fill-rule=\"evenodd\" fill-opacity=\"1\" /><path clip-path=\"url(#clip690)\" d=\"M63.2606 161.787 Q59.6495 161.787 57.8208 165.352 Q56.0152 168.893 56.0152 176.023 Q56.0152 183.129 57.8208 186.694 Q59.6495 190.236 63.2606 190.236 Q66.8948 190.236 68.7004 186.694 Q70.5291 183.129 70.5291 176.023 Q70.5291 168.893 68.7004 165.352 Q66.8948 161.787 63.2606 161.787 M63.2606 158.083 Q69.0707 158.083 72.1263 162.69 Q75.205 167.273 75.205 176.023 Q75.205 184.75 72.1263 189.356 Q69.0707 193.939 63.2606 193.939 Q57.4504 193.939 54.3717 189.356 Q51.3162 184.75 51.3162 176.023 Q51.3162 167.273 54.3717 162.69 Q57.4504 158.083 63.2606 158.083 Z\" fill=\"#000000\" fill-rule=\"evenodd\" fill-opacity=\"1\" /><path clip-path=\"url(#clip690)\" d=\"M83.4225 187.389 L88.3067 187.389 L88.3067 193.268 L83.4225 193.268 L83.4225 187.389 Z\" fill=\"#000000\" fill-rule=\"evenodd\" fill-opacity=\"1\" /><path clip-path=\"url(#clip690)\" d=\"M109.071 174.125 Q105.922 174.125 104.071 176.277 Q102.242 178.43 102.242 182.18 Q102.242 185.907 104.071 188.083 Q105.922 190.236 109.071 190.236 Q112.219 190.236 114.047 188.083 Q115.899 185.907 115.899 182.18 Q115.899 178.43 114.047 176.277 Q112.219 174.125 109.071 174.125 M118.353 159.472 L118.353 163.731 Q116.594 162.898 114.788 162.458 Q113.006 162.018 111.246 162.018 Q106.617 162.018 104.163 165.143 Q101.733 168.268 101.385 174.588 Q102.751 172.574 104.811 171.509 Q106.871 170.421 109.348 170.421 Q114.557 170.421 117.566 173.592 Q120.598 176.74 120.598 182.18 Q120.598 187.504 117.45 190.722 Q114.302 193.939 109.071 193.939 Q103.075 193.939 99.9039 189.356 Q96.7326 184.75 96.7326 176.023 Q96.7326 167.828 100.621 162.967 Q104.51 158.083 111.061 158.083 Q112.82 158.083 114.603 158.43 Q116.408 158.778 118.353 159.472 Z\" fill=\"#000000\" fill-rule=\"evenodd\" fill-opacity=\"1\" /><polyline clip-path=\"url(#clip692)\" style=\"stroke:#009af9; stroke-linecap:round; stroke-linejoin:round; stroke-width:4; stroke-opacity:1; fill:none\" points=\"\n",
       "  218.754,1445.69 229.165,1445.67 239.576,1445.61 249.988,1445.5 260.399,1445.27 270.81,1444.83 281.221,1444.02 291.633,1442.63 302.044,1440.3 312.455,1436.58 \n",
       "  322.867,1430.88 333.278,1422.53 343.689,1410.77 354.1,1394.9 364.512,1374.3 374.923,1348.6 385.334,1317.74 395.746,1281.99 406.157,1242.03 416.568,1198.81 \n",
       "  426.979,1153.48 437.391,1107.25 447.802,1061.21 458.213,1016.21 468.625,972.668 479.036,930.53 489.447,889.234 499.858,847.763 510.27,804.794 520.681,758.924 \n",
       "  531.092,708.941 541.504,654.103 551.915,594.356 562.326,530.443 572.738,463.868 583.149,396.721 593.56,331.41 603.971,270.364 614.383,215.775 624.794,169.438 \n",
       "  635.205,132.701 645.617,106.507 656.028,91.4755 666.439,87.9763 676.85,96.1454 687.262,115.836 697.673,146.524 708.084,187.214 718.496,236.407 728.907,292.169 \n",
       "  739.318,352.302 749.729,414.614 760.141,477.191 770.552,538.623 780.963,598.103 791.375,655.377 801.786,710.567 812.197,763.92 822.609,815.571 833.02,865.384 \n",
       "  843.431,912.924 853.842,957.537 864.254,998.518 874.665,1035.29 885.076,1067.52 895.488,1095.17 905.899,1118.48 916.31,1137.82 926.721,1153.61 937.133,1166.26 \n",
       "  947.544,1176.11 957.955,1183.47 968.367,1188.69 978.778,1192.2 989.189,1194.57 999.6,1196.48 1010.01,1198.68 1020.42,1201.89 1030.83,1206.74 1041.25,1213.63 \n",
       "  1051.66,1222.77 1062.07,1234.1 1072.48,1247.34 1082.89,1262.07 1093.3,1277.79 1103.71,1293.96 1114.12,1310.05 1124.54,1325.57 1134.95,1340.12 1145.36,1353.34 \n",
       "  1155.77,1364.94 1166.18,1374.75 1176.59,1382.65 1187,1388.63 1197.41,1392.78 1207.83,1395.25 1218.24,1396.26 1228.65,1396.05 1239.06,1394.9 1249.47,1393.08 \n",
       "  1259.88,1390.87 1270.29,1388.58 1280.71,1386.48 1291.12,1384.84 1301.53,1383.83 1311.94,1383.54 1322.35,1383.93 1332.76,1384.8 1343.17,1385.82 1353.58,1386.58 \n",
       "  1364,1386.65 1374.41,1385.71 1384.82,1383.59 1395.23,1380.37 1405.64,1376.38 1416.05,1372.15 1426.46,1368.36 1436.87,1365.69 1447.29,1364.74 1457.7,1365.88 \n",
       "  1468.11,1369.23 1478.52,1374.64 1488.93,1381.73 1499.34,1389.98 1509.75,1398.75 1520.16,1407.48 1530.58,1415.65 1540.99,1422.9 1551.4,1429.01 1561.81,1433.93 \n",
       "  1572.22,1437.71 1582.63,1440.48 1593.04,1442.43 1603.46,1443.73 1613.87,1444.56 1624.28,1445.07 1634.69,1445.37 1645.1,1445.54 1655.51,1445.63 1665.92,1445.67 \n",
       "  1676.33,1445.7 1686.75,1445.71 1697.16,1445.71 1707.57,1445.71 1717.98,1445.72 1728.39,1445.72 1738.8,1445.72 1749.21,1445.72 1759.62,1445.72 1770.04,1445.72 \n",
       "  1780.45,1445.72 1790.86,1445.72 1801.27,1445.71 1811.68,1445.71 1822.09,1445.71 1832.5,1445.7 1842.91,1445.68 1853.33,1445.65 1863.74,1445.58 1874.15,1445.46 \n",
       "  1884.56,1445.24 1894.97,1444.88 1905.38,1444.31 1915.79,1443.44 1926.21,1442.18 1936.62,1440.44 1947.03,1438.16 1957.44,1435.29 1967.85,1431.84 1978.26,1427.85 \n",
       "  1988.67,1423.43 1999.08,1418.71 2009.5,1413.83 2019.91,1408.99 2030.32,1404.35 2040.73,1400.15 2051.14,1396.64 2061.55,1394.08 2071.96,1392.75 2082.37,1392.88 \n",
       "  2092.79,1394.59 2103.2,1397.83 2113.61,1402.42 2124.02,1407.99 2134.43,1414.09 2144.84,1420.24 2155.25,1426.02 2165.67,1431.11 2176.08,1435.33 2186.49,1438.64 \n",
       "  2196.9,1441.1 2207.31,1442.84 2217.72,1443.99 2228.13,1444.73 2238.54,1445.18 2248.96,1445.43 2259.37,1445.57 2269.78,1445.65 2280.19,1445.68 2290.6,1445.69 \n",
       "  \n",
       "  \"/>\n",
       "</svg>\n"
      ]
     },
     "execution_count": 12,
     "metadata": {},
     "output_type": "execute_result"
    }
   ],
   "source": [
    "# Densidade\n",
    "@df df density(:ROI, label=false)"
   ]
  },
  {
   "cell_type": "code",
   "execution_count": 13,
   "id": "4275d309",
   "metadata": {},
   "outputs": [
    {
     "data": {
      "text/html": [
       "<div class=\"data-frame\"><p>6 rows × 8 columns (omitted printing of 1 columns)</p><table class=\"data-frame\"><thead><tr><th></th><th>MARCA</th><th>LL</th><th>P1</th><th>P2</th><th>P3</th><th>INVESTIMENTO</th><th>LUCRO</th></tr><tr><th></th><th title=\"String7\">String7</th><th title=\"Int64\">Int64</th><th title=\"Int64\">Int64</th><th title=\"Int64\">Int64</th><th title=\"Int64\">Int64</th><th title=\"Float64\">Float64</th><th title=\"Float64\">Float64</th></tr></thead><tbody><tr><th>1</th><td>Marca1</td><td>80434716</td><td>50767710</td><td>278946893</td><td>171927027</td><td>430990.0</td><td>4.68337e5</td></tr><tr><th>2</th><td>Marca2</td><td>105447286</td><td>782072034</td><td>2666458850</td><td>1002052999</td><td>3.8777e6</td><td>5.05583e6</td></tr><tr><th>3</th><td>Marca3</td><td>80272502</td><td>392144882</td><td>1818709665</td><td>1793846641</td><td>4.42409e6</td><td>5.1853e6</td></tr><tr><th>4</th><td>Marca4</td><td>343149133</td><td>850488159</td><td>1872531856</td><td>770155964</td><td>2.73943e6</td><td>3.86883e6</td></tr><tr><th>5</th><td>Marca5</td><td>200658657</td><td>306432902</td><td>1550606003</td><td>449975388</td><td>2.09902e6</td><td>3.50322e6</td></tr><tr><th>6</th><td>Marca6</td><td>115886057</td><td>387847667</td><td>935932395</td><td>429239725</td><td>1.95436e6</td><td>4.51849e6</td></tr></tbody></table></div>"
      ],
      "text/latex": [
       "\\begin{tabular}{r|cccccccc}\n",
       "\t& MARCA & LL & P1 & P2 & P3 & INVESTIMENTO & LUCRO & \\\\\n",
       "\t\\hline\n",
       "\t& String7 & Int64 & Int64 & Int64 & Int64 & Float64 & Float64 & \\\\\n",
       "\t\\hline\n",
       "\t1 & Marca1 & 80434716 & 50767710 & 278946893 & 171927027 & 430990.0 & 4.68337e5 & $\\dots$ \\\\\n",
       "\t2 & Marca2 & 105447286 & 782072034 & 2666458850 & 1002052999 & 3.8777e6 & 5.05583e6 & $\\dots$ \\\\\n",
       "\t3 & Marca3 & 80272502 & 392144882 & 1818709665 & 1793846641 & 4.42409e6 & 5.1853e6 & $\\dots$ \\\\\n",
       "\t4 & Marca4 & 343149133 & 850488159 & 1872531856 & 770155964 & 2.73943e6 & 3.86883e6 & $\\dots$ \\\\\n",
       "\t5 & Marca5 & 200658657 & 306432902 & 1550606003 & 449975388 & 2.09902e6 & 3.50322e6 & $\\dots$ \\\\\n",
       "\t6 & Marca6 & 115886057 & 387847667 & 935932395 & 429239725 & 1.95436e6 & 4.51849e6 & $\\dots$ \\\\\n",
       "\\end{tabular}\n"
      ],
      "text/plain": [
       "\u001b[1m6×8 DataFrame\u001b[0m\n",
       "\u001b[1m Row \u001b[0m│\u001b[1m MARCA   \u001b[0m\u001b[1m LL        \u001b[0m\u001b[1m P1        \u001b[0m\u001b[1m P2         \u001b[0m\u001b[1m P3         \u001b[0m\u001b[1m INVESTIMENTO   \u001b[0m\u001b[1m \u001b[0m ⋯\n",
       "\u001b[1m     \u001b[0m│\u001b[90m String7 \u001b[0m\u001b[90m Int64     \u001b[0m\u001b[90m Int64     \u001b[0m\u001b[90m Int64      \u001b[0m\u001b[90m Int64      \u001b[0m\u001b[90m Float64        \u001b[0m\u001b[90m \u001b[0m ⋯\n",
       "─────┼──────────────────────────────────────────────────────────────────────────\n",
       "   1 │ Marca1    80434716   50767710   278946893   171927027  430990.0         ⋯\n",
       "   2 │ Marca2   105447286  782072034  2666458850  1002052999       3.8777e6\n",
       "   3 │ Marca3    80272502  392144882  1818709665  1793846641       4.42409e6\n",
       "   4 │ Marca4   343149133  850488159  1872531856   770155964       2.73943e6\n",
       "   5 │ Marca5   200658657  306432902  1550606003   449975388       2.09902e6   ⋯\n",
       "   6 │ Marca6   115886057  387847667   935932395   429239725       1.95436e6\n",
       "\u001b[36m                                                               2 columns omitted\u001b[0m"
      ]
     },
     "execution_count": 13,
     "metadata": {},
     "output_type": "execute_result"
    }
   ],
   "source": [
    "# Agrupar\n",
    "# https://stackoverflow.com/questions/64226866/groupby-with-sum-on-julia-dataframe\n",
    "numcols = names(df, findall(x -> eltype(x) <: Number, eachcol(df)))\n",
    "gdf = combine(groupby(df, [\"MARCA\"]), numcols .=> sum .=> numcols)"
   ]
  },
  {
   "cell_type": "code",
   "execution_count": 14,
   "id": "e7c9c8de",
   "metadata": {},
   "outputs": [
    {
     "name": "stdout",
     "output_type": "stream",
     "text": [
      "\u001b[1m6×8 DataFrame\u001b[0m\n",
      "\u001b[1m Row \u001b[0m│\u001b[1m MARCA   \u001b[0m\u001b[1m LL        \u001b[0m\u001b[1m P1        \u001b[0m\u001b[1m P2         \u001b[0m\u001b[1m P3         \u001b[0m\u001b[1m INVESTIMENTO   \u001b[0m\u001b[1m LUCRO     \u001b[0m\u001b[1m ROI     \u001b[0m\n",
      "\u001b[1m     \u001b[0m│\u001b[90m String7 \u001b[0m\u001b[90m Int64     \u001b[0m\u001b[90m Int64     \u001b[0m\u001b[90m Int64      \u001b[0m\u001b[90m Int64      \u001b[0m\u001b[90m Float64        \u001b[0m\u001b[90m Float64   \u001b[0m\u001b[90m Float64 \u001b[0m\n",
      "─────┼───────────────────────────────────────────────────────────────────────────────────────────\n",
      "   1 │ Marca1    80434716   50767710   278946893   171927027  430990.0        4.68337e5  1.08665\n",
      "   2 │ Marca2   105447286  782072034  2666458850  1002052999       3.8777e6   5.05583e6  1.30382\n",
      "   3 │ Marca3    80272502  392144882  1818709665  1793846641       4.42409e6  5.1853e6   1.17206\n",
      "   4 │ Marca4   343149133  850488159  1872531856   770155964       2.73943e6  3.86883e6  1.41227\n",
      "   5 │ Marca5   200658657  306432902  1550606003   449975388       2.09902e6  3.50322e6  1.66898\n",
      "   6 │ Marca6   115886057  387847667   935932395   429239725       1.95436e6  4.51849e6  2.312"
     ]
    }
   ],
   "source": [
    "# Coluna calculada (ROI)\n",
    "roi = gdf[!,:LUCRO]./gdf[!,:INVESTIMENTO]\n",
    "gdf.ROI = roi\n",
    "show(gdf, allcols=true)"
   ]
  },
  {
   "cell_type": "code",
   "execution_count": 15,
   "id": "f97561c5",
   "metadata": {},
   "outputs": [
    {
     "data": {
      "image/svg+xml": [
       "<?xml version=\"1.0\" encoding=\"utf-8\"?>\n",
       "<svg xmlns=\"http://www.w3.org/2000/svg\" xmlns:xlink=\"http://www.w3.org/1999/xlink\" width=\"600\" height=\"400\" viewBox=\"0 0 2400 1600\">\n",
       "<defs>\n",
       "  <clipPath id=\"clip730\">\n",
       "    <rect x=\"0\" y=\"0\" width=\"2400\" height=\"1600\"/>\n",
       "  </clipPath>\n",
       "</defs>\n",
       "<path clip-path=\"url(#clip730)\" d=\"\n",
       "M0 1600 L2400 1600 L2400 0 L0 0  Z\n",
       "  \" fill=\"#ffffff\" fill-rule=\"evenodd\" fill-opacity=\"1\"/>\n",
       "<defs>\n",
       "  <clipPath id=\"clip731\">\n",
       "    <rect x=\"480\" y=\"0\" width=\"1681\" height=\"1600\"/>\n",
       "  </clipPath>\n",
       "</defs>\n",
       "<path clip-path=\"url(#clip730)\" d=\"\n",
       "M219.38 1423.18 L2352.76 1423.18 L2352.76 123.472 L219.38 123.472  Z\n",
       "  \" fill=\"#ffffff\" fill-rule=\"evenodd\" fill-opacity=\"1\"/>\n",
       "<defs>\n",
       "  <clipPath id=\"clip732\">\n",
       "    <rect x=\"219\" y=\"123\" width=\"2134\" height=\"1301\"/>\n",
       "  </clipPath>\n",
       "</defs>\n",
       "<polyline clip-path=\"url(#clip732)\" style=\"stroke:#000000; stroke-linecap:round; stroke-linejoin:round; stroke-width:2; stroke-opacity:0.1; fill:none\" points=\"\n",
       "  467.664,1423.18 467.664,123.472 \n",
       "  \"/>\n",
       "<polyline clip-path=\"url(#clip732)\" style=\"stroke:#000000; stroke-linecap:round; stroke-linejoin:round; stroke-width:2; stroke-opacity:0.1; fill:none\" points=\"\n",
       "  795.026,1423.18 795.026,123.472 \n",
       "  \"/>\n",
       "<polyline clip-path=\"url(#clip732)\" style=\"stroke:#000000; stroke-linecap:round; stroke-linejoin:round; stroke-width:2; stroke-opacity:0.1; fill:none\" points=\"\n",
       "  1122.39,1423.18 1122.39,123.472 \n",
       "  \"/>\n",
       "<polyline clip-path=\"url(#clip732)\" style=\"stroke:#000000; stroke-linecap:round; stroke-linejoin:round; stroke-width:2; stroke-opacity:0.1; fill:none\" points=\"\n",
       "  1449.75,1423.18 1449.75,123.472 \n",
       "  \"/>\n",
       "<polyline clip-path=\"url(#clip732)\" style=\"stroke:#000000; stroke-linecap:round; stroke-linejoin:round; stroke-width:2; stroke-opacity:0.1; fill:none\" points=\"\n",
       "  1777.11,1423.18 1777.11,123.472 \n",
       "  \"/>\n",
       "<polyline clip-path=\"url(#clip732)\" style=\"stroke:#000000; stroke-linecap:round; stroke-linejoin:round; stroke-width:2; stroke-opacity:0.1; fill:none\" points=\"\n",
       "  2104.47,1423.18 2104.47,123.472 \n",
       "  \"/>\n",
       "<polyline clip-path=\"url(#clip730)\" style=\"stroke:#000000; stroke-linecap:round; stroke-linejoin:round; stroke-width:4; stroke-opacity:1; fill:none\" points=\"\n",
       "  219.38,1423.18 2352.76,1423.18 \n",
       "  \"/>\n",
       "<polyline clip-path=\"url(#clip730)\" style=\"stroke:#000000; stroke-linecap:round; stroke-linejoin:round; stroke-width:4; stroke-opacity:1; fill:none\" points=\"\n",
       "  467.664,1423.18 467.664,1404.28 \n",
       "  \"/>\n",
       "<polyline clip-path=\"url(#clip730)\" style=\"stroke:#000000; stroke-linecap:round; stroke-linejoin:round; stroke-width:4; stroke-opacity:1; fill:none\" points=\"\n",
       "  795.026,1423.18 795.026,1404.28 \n",
       "  \"/>\n",
       "<polyline clip-path=\"url(#clip730)\" style=\"stroke:#000000; stroke-linecap:round; stroke-linejoin:round; stroke-width:4; stroke-opacity:1; fill:none\" points=\"\n",
       "  1122.39,1423.18 1122.39,1404.28 \n",
       "  \"/>\n",
       "<polyline clip-path=\"url(#clip730)\" style=\"stroke:#000000; stroke-linecap:round; stroke-linejoin:round; stroke-width:4; stroke-opacity:1; fill:none\" points=\"\n",
       "  1449.75,1423.18 1449.75,1404.28 \n",
       "  \"/>\n",
       "<polyline clip-path=\"url(#clip730)\" style=\"stroke:#000000; stroke-linecap:round; stroke-linejoin:round; stroke-width:4; stroke-opacity:1; fill:none\" points=\"\n",
       "  1777.11,1423.18 1777.11,1404.28 \n",
       "  \"/>\n",
       "<polyline clip-path=\"url(#clip730)\" style=\"stroke:#000000; stroke-linecap:round; stroke-linejoin:round; stroke-width:4; stroke-opacity:1; fill:none\" points=\"\n",
       "  2104.47,1423.18 2104.47,1404.28 \n",
       "  \"/>\n",
       "<path clip-path=\"url(#clip730)\" d=\"M385.338 1451.02 L392.306 1451.02 L401.125 1474.54 L409.991 1451.02 L416.958 1451.02 L416.958 1485.58 L412.398 1485.58 L412.398 1455.23 L403.486 1478.94 L398.787 1478.94 L389.875 1455.23 L389.875 1485.58 L385.338 1485.58 L385.338 1451.02 Z\" fill=\"#000000\" fill-rule=\"evenodd\" fill-opacity=\"1\" /><path clip-path=\"url(#clip730)\" d=\"M437.838 1472.55 Q432.676 1472.55 430.685 1473.73 Q428.695 1474.91 428.695 1477.76 Q428.695 1480.02 430.176 1481.37 Q431.681 1482.69 434.25 1482.69 Q437.792 1482.69 439.921 1480.19 Q442.074 1477.66 442.074 1473.5 L442.074 1472.55 L437.838 1472.55 M446.333 1470.79 L446.333 1485.58 L442.074 1485.58 L442.074 1481.64 Q440.616 1484.01 438.44 1485.14 Q436.264 1486.25 433.116 1486.25 Q429.134 1486.25 426.773 1484.03 Q424.435 1481.78 424.435 1478.03 Q424.435 1473.66 427.352 1471.44 Q430.292 1469.21 436.102 1469.21 L442.074 1469.21 L442.074 1468.8 Q442.074 1465.86 440.13 1464.26 Q438.208 1462.64 434.713 1462.64 Q432.491 1462.64 430.384 1463.17 Q428.278 1463.7 426.333 1464.77 L426.333 1460.83 Q428.671 1459.93 430.87 1459.49 Q433.07 1459.03 435.153 1459.03 Q440.778 1459.03 443.556 1461.95 Q446.333 1464.86 446.333 1470.79 Z\" fill=\"#000000\" fill-rule=\"evenodd\" fill-opacity=\"1\" /><path clip-path=\"url(#clip730)\" d=\"M470.129 1463.64 Q469.412 1463.22 468.555 1463.03 Q467.722 1462.83 466.704 1462.83 Q463.092 1462.83 461.148 1465.19 Q459.227 1467.52 459.227 1471.92 L459.227 1485.58 L454.944 1485.58 L454.944 1459.65 L459.227 1459.65 L459.227 1463.68 Q460.569 1461.32 462.722 1460.19 Q464.875 1459.03 467.954 1459.03 Q468.393 1459.03 468.926 1459.1 Q469.458 1459.14 470.106 1459.26 L470.129 1463.64 Z\" fill=\"#000000\" fill-rule=\"evenodd\" fill-opacity=\"1\" /><path clip-path=\"url(#clip730)\" d=\"M492.213 1460.65 L492.213 1464.63 Q490.407 1463.64 488.578 1463.15 Q486.773 1462.64 484.921 1462.64 Q480.778 1462.64 478.486 1465.28 Q476.194 1467.89 476.194 1472.64 Q476.194 1477.39 478.486 1480.02 Q480.778 1482.64 484.921 1482.64 Q486.773 1482.64 488.578 1482.15 Q490.407 1481.64 492.213 1480.65 L492.213 1484.58 Q490.43 1485.42 488.509 1485.83 Q486.611 1486.25 484.458 1486.25 Q478.602 1486.25 475.153 1482.57 Q471.704 1478.89 471.704 1472.64 Q471.704 1466.3 475.176 1462.66 Q478.671 1459.03 484.736 1459.03 Q486.703 1459.03 488.578 1459.45 Q490.453 1459.84 492.213 1460.65 Z\" fill=\"#000000\" fill-rule=\"evenodd\" fill-opacity=\"1\" /><path clip-path=\"url(#clip730)\" d=\"M511.402 1472.55 Q506.24 1472.55 504.25 1473.73 Q502.259 1474.91 502.259 1477.76 Q502.259 1480.02 503.74 1481.37 Q505.245 1482.69 507.814 1482.69 Q511.356 1482.69 513.486 1480.19 Q515.639 1477.66 515.639 1473.5 L515.639 1472.55 L511.402 1472.55 M519.898 1470.79 L519.898 1485.58 L515.639 1485.58 L515.639 1481.64 Q514.18 1484.01 512.004 1485.14 Q509.828 1486.25 506.68 1486.25 Q502.699 1486.25 500.338 1484.03 Q498 1481.78 498 1478.03 Q498 1473.66 500.916 1471.44 Q503.856 1469.21 509.666 1469.21 L515.639 1469.21 L515.639 1468.8 Q515.639 1465.86 513.694 1464.26 Q511.773 1462.64 508.277 1462.64 Q506.055 1462.64 503.949 1463.17 Q501.842 1463.7 499.898 1464.77 L499.898 1460.83 Q502.236 1459.93 504.435 1459.49 Q506.634 1459.03 508.717 1459.03 Q514.342 1459.03 517.12 1461.95 Q519.898 1464.86 519.898 1470.79 Z\" fill=\"#000000\" fill-rule=\"evenodd\" fill-opacity=\"1\" /><path clip-path=\"url(#clip730)\" d=\"M530.083 1481.64 L537.722 1481.64 L537.722 1455.28 L529.412 1456.95 L529.412 1452.69 L537.675 1451.02 L542.351 1451.02 L542.351 1481.64 L549.99 1481.64 L549.99 1485.58 L530.083 1485.58 L530.083 1481.64 Z\" fill=\"#000000\" fill-rule=\"evenodd\" fill-opacity=\"1\" /><path clip-path=\"url(#clip730)\" d=\"M712.885 1451.02 L719.853 1451.02 L728.672 1474.54 L737.538 1451.02 L744.505 1451.02 L744.505 1485.58 L739.945 1485.58 L739.945 1455.23 L731.033 1478.94 L726.334 1478.94 L717.422 1455.23 L717.422 1485.58 L712.885 1485.58 L712.885 1451.02 Z\" fill=\"#000000\" fill-rule=\"evenodd\" fill-opacity=\"1\" /><path clip-path=\"url(#clip730)\" d=\"M765.385 1472.55 Q760.223 1472.55 758.232 1473.73 Q756.241 1474.91 756.241 1477.76 Q756.241 1480.02 757.723 1481.37 Q759.227 1482.69 761.797 1482.69 Q765.338 1482.69 767.468 1480.19 Q769.621 1477.66 769.621 1473.5 L769.621 1472.55 L765.385 1472.55 M773.88 1470.79 L773.88 1485.58 L769.621 1485.58 L769.621 1481.64 Q768.162 1484.01 765.987 1485.14 Q763.811 1486.25 760.663 1486.25 Q756.681 1486.25 754.32 1484.03 Q751.982 1481.78 751.982 1478.03 Q751.982 1473.66 754.899 1471.44 Q757.838 1469.21 763.649 1469.21 L769.621 1469.21 L769.621 1468.8 Q769.621 1465.86 767.676 1464.26 Q765.755 1462.64 762.26 1462.64 Q760.038 1462.64 757.931 1463.17 Q755.825 1463.7 753.88 1464.77 L753.88 1460.83 Q756.218 1459.93 758.417 1459.49 Q760.616 1459.03 762.7 1459.03 Q768.325 1459.03 771.102 1461.95 Q773.88 1464.86 773.88 1470.79 Z\" fill=\"#000000\" fill-rule=\"evenodd\" fill-opacity=\"1\" /><path clip-path=\"url(#clip730)\" d=\"M797.676 1463.64 Q796.959 1463.22 796.102 1463.03 Q795.269 1462.83 794.25 1462.83 Q790.639 1462.83 788.695 1465.19 Q786.773 1467.52 786.773 1471.92 L786.773 1485.58 L782.491 1485.58 L782.491 1459.65 L786.773 1459.65 L786.773 1463.68 Q788.116 1461.32 790.269 1460.19 Q792.422 1459.03 795.5 1459.03 Q795.94 1459.03 796.473 1459.1 Q797.005 1459.14 797.653 1459.26 L797.676 1463.64 Z\" fill=\"#000000\" fill-rule=\"evenodd\" fill-opacity=\"1\" /><path clip-path=\"url(#clip730)\" d=\"M819.759 1460.65 L819.759 1464.63 Q817.954 1463.64 816.125 1463.15 Q814.32 1462.64 812.468 1462.64 Q808.324 1462.64 806.033 1465.28 Q803.741 1467.89 803.741 1472.64 Q803.741 1477.39 806.033 1480.02 Q808.324 1482.64 812.468 1482.64 Q814.32 1482.64 816.125 1482.15 Q817.954 1481.64 819.759 1480.65 L819.759 1484.58 Q817.977 1485.42 816.056 1485.83 Q814.158 1486.25 812.005 1486.25 Q806.148 1486.25 802.699 1482.57 Q799.25 1478.89 799.25 1472.64 Q799.25 1466.3 802.722 1462.66 Q806.218 1459.03 812.283 1459.03 Q814.25 1459.03 816.125 1459.45 Q818 1459.84 819.759 1460.65 Z\" fill=\"#000000\" fill-rule=\"evenodd\" fill-opacity=\"1\" /><path clip-path=\"url(#clip730)\" d=\"M838.949 1472.55 Q833.787 1472.55 831.796 1473.73 Q829.806 1474.91 829.806 1477.76 Q829.806 1480.02 831.287 1481.37 Q832.792 1482.69 835.361 1482.69 Q838.903 1482.69 841.032 1480.19 Q843.185 1477.66 843.185 1473.5 L843.185 1472.55 L838.949 1472.55 M847.444 1470.79 L847.444 1485.58 L843.185 1485.58 L843.185 1481.64 Q841.727 1484.01 839.551 1485.14 Q837.375 1486.25 834.227 1486.25 Q830.245 1486.25 827.884 1484.03 Q825.546 1481.78 825.546 1478.03 Q825.546 1473.66 828.463 1471.44 Q831.403 1469.21 837.213 1469.21 L843.185 1469.21 L843.185 1468.8 Q843.185 1465.86 841.241 1464.26 Q839.319 1462.64 835.824 1462.64 Q833.602 1462.64 831.495 1463.17 Q829.389 1463.7 827.445 1464.77 L827.445 1460.83 Q829.783 1459.93 831.982 1459.49 Q834.181 1459.03 836.264 1459.03 Q841.889 1459.03 844.667 1461.95 Q847.444 1464.86 847.444 1470.79 Z\" fill=\"#000000\" fill-rule=\"evenodd\" fill-opacity=\"1\" /><path clip-path=\"url(#clip730)\" d=\"M860.847 1481.64 L877.167 1481.64 L877.167 1485.58 L855.222 1485.58 L855.222 1481.64 Q857.884 1478.89 862.468 1474.26 Q867.074 1469.61 868.255 1468.27 Q870.5 1465.74 871.38 1464.01 Q872.282 1462.25 872.282 1460.56 Q872.282 1457.8 870.338 1456.07 Q868.417 1454.33 865.315 1454.33 Q863.116 1454.33 860.662 1455.09 Q858.231 1455.86 855.454 1457.41 L855.454 1452.69 Q858.278 1451.55 860.731 1450.97 Q863.185 1450.39 865.222 1450.39 Q870.592 1450.39 873.787 1453.08 Q876.981 1455.77 876.981 1460.26 Q876.981 1462.39 876.171 1464.31 Q875.384 1466.2 873.278 1468.8 Q872.699 1469.47 869.597 1472.69 Q866.495 1475.88 860.847 1481.64 Z\" fill=\"#000000\" fill-rule=\"evenodd\" fill-opacity=\"1\" /><path clip-path=\"url(#clip730)\" d=\"M1039.77 1451.02 L1046.74 1451.02 L1055.56 1474.54 L1064.42 1451.02 L1071.39 1451.02 L1071.39 1485.58 L1066.83 1485.58 L1066.83 1455.23 L1057.92 1478.94 L1053.22 1478.94 L1044.31 1455.23 L1044.31 1485.58 L1039.77 1485.58 L1039.77 1451.02 Z\" fill=\"#000000\" fill-rule=\"evenodd\" fill-opacity=\"1\" /><path clip-path=\"url(#clip730)\" d=\"M1092.27 1472.55 Q1087.11 1472.55 1085.12 1473.73 Q1083.13 1474.91 1083.13 1477.76 Q1083.13 1480.02 1084.61 1481.37 Q1086.11 1482.69 1088.68 1482.69 Q1092.23 1482.69 1094.36 1480.19 Q1096.51 1477.66 1096.51 1473.5 L1096.51 1472.55 L1092.27 1472.55 M1100.77 1470.79 L1100.77 1485.58 L1096.51 1485.58 L1096.51 1481.64 Q1095.05 1484.01 1092.87 1485.14 Q1090.7 1486.25 1087.55 1486.25 Q1083.57 1486.25 1081.21 1484.03 Q1078.87 1481.78 1078.87 1478.03 Q1078.87 1473.66 1081.79 1471.44 Q1084.73 1469.21 1090.54 1469.21 L1096.51 1469.21 L1096.51 1468.8 Q1096.51 1465.86 1094.56 1464.26 Q1092.64 1462.64 1089.15 1462.64 Q1086.92 1462.64 1084.82 1463.17 Q1082.71 1463.7 1080.77 1464.77 L1080.77 1460.83 Q1083.11 1459.93 1085.3 1459.49 Q1087.5 1459.03 1089.59 1459.03 Q1095.21 1459.03 1097.99 1461.95 Q1100.77 1464.86 1100.77 1470.79 Z\" fill=\"#000000\" fill-rule=\"evenodd\" fill-opacity=\"1\" /><path clip-path=\"url(#clip730)\" d=\"M1124.56 1463.64 Q1123.85 1463.22 1122.99 1463.03 Q1122.16 1462.83 1121.14 1462.83 Q1117.53 1462.83 1115.58 1465.19 Q1113.66 1467.52 1113.66 1471.92 L1113.66 1485.58 L1109.38 1485.58 L1109.38 1459.65 L1113.66 1459.65 L1113.66 1463.68 Q1115 1461.32 1117.16 1460.19 Q1119.31 1459.03 1122.39 1459.03 Q1122.83 1459.03 1123.36 1459.1 Q1123.89 1459.14 1124.54 1459.26 L1124.56 1463.64 Z\" fill=\"#000000\" fill-rule=\"evenodd\" fill-opacity=\"1\" /><path clip-path=\"url(#clip730)\" d=\"M1146.65 1460.65 L1146.65 1464.63 Q1144.84 1463.64 1143.01 1463.15 Q1141.21 1462.64 1139.35 1462.64 Q1135.21 1462.64 1132.92 1465.28 Q1130.63 1467.89 1130.63 1472.64 Q1130.63 1477.39 1132.92 1480.02 Q1135.21 1482.64 1139.35 1482.64 Q1141.21 1482.64 1143.01 1482.15 Q1144.84 1481.64 1146.65 1480.65 L1146.65 1484.58 Q1144.86 1485.42 1142.94 1485.83 Q1141.04 1486.25 1138.89 1486.25 Q1133.04 1486.25 1129.59 1482.57 Q1126.14 1478.89 1126.14 1472.64 Q1126.14 1466.3 1129.61 1462.66 Q1133.1 1459.03 1139.17 1459.03 Q1141.14 1459.03 1143.01 1459.45 Q1144.89 1459.84 1146.65 1460.65 Z\" fill=\"#000000\" fill-rule=\"evenodd\" fill-opacity=\"1\" /><path clip-path=\"url(#clip730)\" d=\"M1165.84 1472.55 Q1160.67 1472.55 1158.68 1473.73 Q1156.69 1474.91 1156.69 1477.76 Q1156.69 1480.02 1158.17 1481.37 Q1159.68 1482.69 1162.25 1482.69 Q1165.79 1482.69 1167.92 1480.19 Q1170.07 1477.66 1170.07 1473.5 L1170.07 1472.55 L1165.84 1472.55 M1174.33 1470.79 L1174.33 1485.58 L1170.07 1485.58 L1170.07 1481.64 Q1168.61 1484.01 1166.44 1485.14 Q1164.26 1486.25 1161.11 1486.25 Q1157.13 1486.25 1154.77 1484.03 Q1152.43 1481.78 1152.43 1478.03 Q1152.43 1473.66 1155.35 1471.44 Q1158.29 1469.21 1164.1 1469.21 L1170.07 1469.21 L1170.07 1468.8 Q1170.07 1465.86 1168.13 1464.26 Q1166.21 1462.64 1162.71 1462.64 Q1160.49 1462.64 1158.38 1463.17 Q1156.28 1463.7 1154.33 1464.77 L1154.33 1460.83 Q1156.67 1459.93 1158.87 1459.49 Q1161.07 1459.03 1163.15 1459.03 Q1168.78 1459.03 1171.55 1461.95 Q1174.33 1464.86 1174.33 1470.79 Z\" fill=\"#000000\" fill-rule=\"evenodd\" fill-opacity=\"1\" /><path clip-path=\"url(#clip730)\" d=\"M1197.87 1466.95 Q1201.23 1467.66 1203.1 1469.93 Q1205 1472.2 1205 1475.53 Q1205 1480.65 1201.48 1483.45 Q1197.97 1486.25 1191.48 1486.25 Q1189.31 1486.25 1186.99 1485.81 Q1184.7 1485.39 1182.25 1484.54 L1182.25 1480.02 Q1184.19 1481.16 1186.51 1481.74 Q1188.82 1482.32 1191.35 1482.32 Q1195.74 1482.32 1198.04 1480.58 Q1200.35 1478.84 1200.35 1475.53 Q1200.35 1472.48 1198.2 1470.77 Q1196.07 1469.03 1192.25 1469.03 L1188.22 1469.03 L1188.22 1465.19 L1192.43 1465.19 Q1195.88 1465.19 1197.71 1463.82 Q1199.54 1462.43 1199.54 1459.84 Q1199.54 1457.18 1197.64 1455.77 Q1195.77 1454.33 1192.25 1454.33 Q1190.33 1454.33 1188.13 1454.75 Q1185.93 1455.16 1183.29 1456.04 L1183.29 1451.88 Q1185.95 1451.14 1188.27 1450.77 Q1190.6 1450.39 1192.66 1450.39 Q1197.99 1450.39 1201.09 1452.83 Q1204.19 1455.23 1204.19 1459.35 Q1204.19 1462.22 1202.55 1464.21 Q1200.91 1466.18 1197.87 1466.95 Z\" fill=\"#000000\" fill-rule=\"evenodd\" fill-opacity=\"1\" /><path clip-path=\"url(#clip730)\" d=\"M1366.57 1451.02 L1373.53 1451.02 L1382.35 1474.54 L1391.22 1451.02 L1398.19 1451.02 L1398.19 1485.58 L1393.63 1485.58 L1393.63 1455.23 L1384.71 1478.94 L1380.02 1478.94 L1371.1 1455.23 L1371.1 1485.58 L1366.57 1485.58 L1366.57 1451.02 Z\" fill=\"#000000\" fill-rule=\"evenodd\" fill-opacity=\"1\" /><path clip-path=\"url(#clip730)\" d=\"M1419.07 1472.55 Q1413.9 1472.55 1411.91 1473.73 Q1409.92 1474.91 1409.92 1477.76 Q1409.92 1480.02 1411.4 1481.37 Q1412.91 1482.69 1415.48 1482.69 Q1419.02 1482.69 1421.15 1480.19 Q1423.3 1477.66 1423.3 1473.5 L1423.3 1472.55 L1419.07 1472.55 M1427.56 1470.79 L1427.56 1485.58 L1423.3 1485.58 L1423.3 1481.64 Q1421.84 1484.01 1419.67 1485.14 Q1417.49 1486.25 1414.34 1486.25 Q1410.36 1486.25 1408 1484.03 Q1405.66 1481.78 1405.66 1478.03 Q1405.66 1473.66 1408.58 1471.44 Q1411.52 1469.21 1417.33 1469.21 L1423.3 1469.21 L1423.3 1468.8 Q1423.3 1465.86 1421.36 1464.26 Q1419.44 1462.64 1415.94 1462.64 Q1413.72 1462.64 1411.61 1463.17 Q1409.51 1463.7 1407.56 1464.77 L1407.56 1460.83 Q1409.9 1459.93 1412.1 1459.49 Q1414.3 1459.03 1416.38 1459.03 Q1422.01 1459.03 1424.78 1461.95 Q1427.56 1464.86 1427.56 1470.79 Z\" fill=\"#000000\" fill-rule=\"evenodd\" fill-opacity=\"1\" /><path clip-path=\"url(#clip730)\" d=\"M1451.36 1463.64 Q1450.64 1463.22 1449.78 1463.03 Q1448.95 1462.83 1447.93 1462.83 Q1444.32 1462.83 1442.38 1465.19 Q1440.45 1467.52 1440.45 1471.92 L1440.45 1485.58 L1436.17 1485.58 L1436.17 1459.65 L1440.45 1459.65 L1440.45 1463.68 Q1441.8 1461.32 1443.95 1460.19 Q1446.1 1459.03 1449.18 1459.03 Q1449.62 1459.03 1450.15 1459.1 Q1450.69 1459.14 1451.33 1459.26 L1451.36 1463.64 Z\" fill=\"#000000\" fill-rule=\"evenodd\" fill-opacity=\"1\" /><path clip-path=\"url(#clip730)\" d=\"M1473.44 1460.65 L1473.44 1464.63 Q1471.64 1463.64 1469.81 1463.15 Q1468 1462.64 1466.15 1462.64 Q1462.01 1462.64 1459.71 1465.28 Q1457.42 1467.89 1457.42 1472.64 Q1457.42 1477.39 1459.71 1480.02 Q1462.01 1482.64 1466.15 1482.64 Q1468 1482.64 1469.81 1482.15 Q1471.64 1481.64 1473.44 1480.65 L1473.44 1484.58 Q1471.66 1485.42 1469.74 1485.83 Q1467.84 1486.25 1465.69 1486.25 Q1459.83 1486.25 1456.38 1482.57 Q1452.93 1478.89 1452.93 1472.64 Q1452.93 1466.3 1456.4 1462.66 Q1459.9 1459.03 1465.96 1459.03 Q1467.93 1459.03 1469.81 1459.45 Q1471.68 1459.84 1473.44 1460.65 Z\" fill=\"#000000\" fill-rule=\"evenodd\" fill-opacity=\"1\" /><path clip-path=\"url(#clip730)\" d=\"M1492.63 1472.55 Q1487.47 1472.55 1485.48 1473.73 Q1483.49 1474.91 1483.49 1477.76 Q1483.49 1480.02 1484.97 1481.37 Q1486.47 1482.69 1489.04 1482.69 Q1492.58 1482.69 1494.71 1480.19 Q1496.87 1477.66 1496.87 1473.5 L1496.87 1472.55 L1492.63 1472.55 M1501.13 1470.79 L1501.13 1485.58 L1496.87 1485.58 L1496.87 1481.64 Q1495.41 1484.01 1493.23 1485.14 Q1491.06 1486.25 1487.91 1486.25 Q1483.93 1486.25 1481.57 1484.03 Q1479.23 1481.78 1479.23 1478.03 Q1479.23 1473.66 1482.14 1471.44 Q1485.08 1469.21 1490.89 1469.21 L1496.87 1469.21 L1496.87 1468.8 Q1496.87 1465.86 1494.92 1464.26 Q1493 1462.64 1489.51 1462.64 Q1487.28 1462.64 1485.18 1463.17 Q1483.07 1463.7 1481.13 1464.77 L1481.13 1460.83 Q1483.46 1459.93 1485.66 1459.49 Q1487.86 1459.03 1489.95 1459.03 Q1495.57 1459.03 1498.35 1461.95 Q1501.13 1464.86 1501.13 1470.79 Z\" fill=\"#000000\" fill-rule=\"evenodd\" fill-opacity=\"1\" /><path clip-path=\"url(#clip730)\" d=\"M1523.35 1455.09 L1511.54 1473.54 L1523.35 1473.54 L1523.35 1455.09 M1522.12 1451.02 L1528 1451.02 L1528 1473.54 L1532.93 1473.54 L1532.93 1477.43 L1528 1477.43 L1528 1485.58 L1523.35 1485.58 L1523.35 1477.43 L1507.75 1477.43 L1507.75 1472.92 L1522.12 1451.02 Z\" fill=\"#000000\" fill-rule=\"evenodd\" fill-opacity=\"1\" /><path clip-path=\"url(#clip730)\" d=\"M1694.67 1451.02 L1701.64 1451.02 L1710.46 1474.54 L1719.32 1451.02 L1726.29 1451.02 L1726.29 1485.58 L1721.73 1485.58 L1721.73 1455.23 L1712.82 1478.94 L1708.12 1478.94 L1699.21 1455.23 L1699.21 1485.58 L1694.67 1485.58 L1694.67 1451.02 Z\" fill=\"#000000\" fill-rule=\"evenodd\" fill-opacity=\"1\" /><path clip-path=\"url(#clip730)\" d=\"M1747.17 1472.55 Q1742.01 1472.55 1740.02 1473.73 Q1738.02 1474.91 1738.02 1477.76 Q1738.02 1480.02 1739.51 1481.37 Q1741.01 1482.69 1743.58 1482.69 Q1747.12 1482.69 1749.25 1480.19 Q1751.4 1477.66 1751.4 1473.5 L1751.4 1472.55 L1747.17 1472.55 M1755.66 1470.79 L1755.66 1485.58 L1751.4 1485.58 L1751.4 1481.64 Q1749.95 1484.01 1747.77 1485.14 Q1745.59 1486.25 1742.45 1486.25 Q1738.46 1486.25 1736.1 1484.03 Q1733.77 1481.78 1733.77 1478.03 Q1733.77 1473.66 1736.68 1471.44 Q1739.62 1469.21 1745.43 1469.21 L1751.4 1469.21 L1751.4 1468.8 Q1751.4 1465.86 1749.46 1464.26 Q1747.54 1462.64 1744.04 1462.64 Q1741.82 1462.64 1739.71 1463.17 Q1737.61 1463.7 1735.66 1464.77 L1735.66 1460.83 Q1738 1459.93 1740.2 1459.49 Q1742.4 1459.03 1744.48 1459.03 Q1750.11 1459.03 1752.89 1461.95 Q1755.66 1464.86 1755.66 1470.79 Z\" fill=\"#000000\" fill-rule=\"evenodd\" fill-opacity=\"1\" /><path clip-path=\"url(#clip730)\" d=\"M1779.46 1463.64 Q1778.74 1463.22 1777.89 1463.03 Q1777.05 1462.83 1776.03 1462.83 Q1772.42 1462.83 1770.48 1465.19 Q1768.56 1467.52 1768.56 1471.92 L1768.56 1485.58 L1764.27 1485.58 L1764.27 1459.65 L1768.56 1459.65 L1768.56 1463.68 Q1769.9 1461.32 1772.05 1460.19 Q1774.21 1459.03 1777.28 1459.03 Q1777.72 1459.03 1778.26 1459.1 Q1778.79 1459.14 1779.44 1459.26 L1779.46 1463.64 Z\" fill=\"#000000\" fill-rule=\"evenodd\" fill-opacity=\"1\" /><path clip-path=\"url(#clip730)\" d=\"M1801.54 1460.65 L1801.54 1464.63 Q1799.74 1463.64 1797.91 1463.15 Q1796.1 1462.64 1794.25 1462.64 Q1790.11 1462.64 1787.82 1465.28 Q1785.52 1467.89 1785.52 1472.64 Q1785.52 1477.39 1787.82 1480.02 Q1790.11 1482.64 1794.25 1482.64 Q1796.1 1482.64 1797.91 1482.15 Q1799.74 1481.64 1801.54 1480.65 L1801.54 1484.58 Q1799.76 1485.42 1797.84 1485.83 Q1795.94 1486.25 1793.79 1486.25 Q1787.93 1486.25 1784.48 1482.57 Q1781.03 1478.89 1781.03 1472.64 Q1781.03 1466.3 1784.51 1462.66 Q1788 1459.03 1794.07 1459.03 Q1796.03 1459.03 1797.91 1459.45 Q1799.78 1459.84 1801.54 1460.65 Z\" fill=\"#000000\" fill-rule=\"evenodd\" fill-opacity=\"1\" /><path clip-path=\"url(#clip730)\" d=\"M1820.73 1472.55 Q1815.57 1472.55 1813.58 1473.73 Q1811.59 1474.91 1811.59 1477.76 Q1811.59 1480.02 1813.07 1481.37 Q1814.58 1482.69 1817.14 1482.69 Q1820.69 1482.69 1822.82 1480.19 Q1824.97 1477.66 1824.97 1473.5 L1824.97 1472.55 L1820.73 1472.55 M1829.23 1470.79 L1829.23 1485.58 L1824.97 1485.58 L1824.97 1481.64 Q1823.51 1484.01 1821.33 1485.14 Q1819.16 1486.25 1816.01 1486.25 Q1812.03 1486.25 1809.67 1484.03 Q1807.33 1481.78 1807.33 1478.03 Q1807.33 1473.66 1810.25 1471.44 Q1813.19 1469.21 1819 1469.21 L1824.97 1469.21 L1824.97 1468.8 Q1824.97 1465.86 1823.02 1464.26 Q1821.1 1462.64 1817.61 1462.64 Q1815.39 1462.64 1813.28 1463.17 Q1811.17 1463.7 1809.23 1464.77 L1809.23 1460.83 Q1811.57 1459.93 1813.77 1459.49 Q1815.96 1459.03 1818.05 1459.03 Q1823.67 1459.03 1826.45 1461.95 Q1829.23 1464.86 1829.23 1470.79 Z\" fill=\"#000000\" fill-rule=\"evenodd\" fill-opacity=\"1\" /><path clip-path=\"url(#clip730)\" d=\"M1838.65 1451.02 L1857.01 1451.02 L1857.01 1454.96 L1842.93 1454.96 L1842.93 1463.43 Q1843.95 1463.08 1844.97 1462.92 Q1845.99 1462.73 1847.01 1462.73 Q1852.79 1462.73 1856.17 1465.9 Q1859.55 1469.08 1859.55 1474.49 Q1859.55 1480.07 1856.08 1483.17 Q1852.61 1486.25 1846.29 1486.25 Q1844.11 1486.25 1841.84 1485.88 Q1839.6 1485.51 1837.19 1484.77 L1837.19 1480.07 Q1839.27 1481.2 1841.5 1481.76 Q1843.72 1482.32 1846.2 1482.32 Q1850.2 1482.32 1852.54 1480.21 Q1854.88 1478.1 1854.88 1474.49 Q1854.88 1470.88 1852.54 1468.77 Q1850.2 1466.67 1846.2 1466.67 Q1844.32 1466.67 1842.45 1467.08 Q1840.59 1467.5 1838.65 1468.38 L1838.65 1451.02 Z\" fill=\"#000000\" fill-rule=\"evenodd\" fill-opacity=\"1\" /><path clip-path=\"url(#clip730)\" d=\"M2021.45 1451.02 L2028.42 1451.02 L2037.24 1474.54 L2046.1 1451.02 L2053.07 1451.02 L2053.07 1485.58 L2048.51 1485.58 L2048.51 1455.23 L2039.6 1478.94 L2034.9 1478.94 L2025.99 1455.23 L2025.99 1485.58 L2021.45 1485.58 L2021.45 1451.02 Z\" fill=\"#000000\" fill-rule=\"evenodd\" fill-opacity=\"1\" /><path clip-path=\"url(#clip730)\" d=\"M2073.95 1472.55 Q2068.79 1472.55 2066.8 1473.73 Q2064.81 1474.91 2064.81 1477.76 Q2064.81 1480.02 2066.29 1481.37 Q2067.79 1482.69 2070.36 1482.69 Q2073.9 1482.69 2076.03 1480.19 Q2078.19 1477.66 2078.19 1473.5 L2078.19 1472.55 L2073.95 1472.55 M2082.45 1470.79 L2082.45 1485.58 L2078.19 1485.58 L2078.19 1481.64 Q2076.73 1484.01 2074.55 1485.14 Q2072.38 1486.25 2069.23 1486.25 Q2065.25 1486.25 2062.89 1484.03 Q2060.55 1481.78 2060.55 1478.03 Q2060.55 1473.66 2063.47 1471.44 Q2066.4 1469.21 2072.22 1469.21 L2078.19 1469.21 L2078.19 1468.8 Q2078.19 1465.86 2076.24 1464.26 Q2074.32 1462.64 2070.83 1462.64 Q2068.6 1462.64 2066.5 1463.17 Q2064.39 1463.7 2062.45 1464.77 L2062.45 1460.83 Q2064.78 1459.93 2066.98 1459.49 Q2069.18 1459.03 2071.27 1459.03 Q2076.89 1459.03 2079.67 1461.95 Q2082.45 1464.86 2082.45 1470.79 Z\" fill=\"#000000\" fill-rule=\"evenodd\" fill-opacity=\"1\" /><path clip-path=\"url(#clip730)\" d=\"M2106.24 1463.64 Q2105.53 1463.22 2104.67 1463.03 Q2103.84 1462.83 2102.82 1462.83 Q2099.21 1462.83 2097.26 1465.19 Q2095.34 1467.52 2095.34 1471.92 L2095.34 1485.58 L2091.06 1485.58 L2091.06 1459.65 L2095.34 1459.65 L2095.34 1463.68 Q2096.68 1461.32 2098.84 1460.19 Q2100.99 1459.03 2104.07 1459.03 Q2104.51 1459.03 2105.04 1459.1 Q2105.57 1459.14 2106.22 1459.26 L2106.24 1463.64 Z\" fill=\"#000000\" fill-rule=\"evenodd\" fill-opacity=\"1\" /><path clip-path=\"url(#clip730)\" d=\"M2128.33 1460.65 L2128.33 1464.63 Q2126.52 1463.64 2124.69 1463.15 Q2122.89 1462.64 2121.03 1462.64 Q2116.89 1462.64 2114.6 1465.28 Q2112.31 1467.89 2112.31 1472.64 Q2112.31 1477.39 2114.6 1480.02 Q2116.89 1482.64 2121.03 1482.64 Q2122.89 1482.64 2124.69 1482.15 Q2126.52 1481.64 2128.33 1480.65 L2128.33 1484.58 Q2126.54 1485.42 2124.62 1485.83 Q2122.72 1486.25 2120.57 1486.25 Q2114.71 1486.25 2111.27 1482.57 Q2107.82 1478.89 2107.82 1472.64 Q2107.82 1466.3 2111.29 1462.66 Q2114.78 1459.03 2120.85 1459.03 Q2122.82 1459.03 2124.69 1459.45 Q2126.57 1459.84 2128.33 1460.65 Z\" fill=\"#000000\" fill-rule=\"evenodd\" fill-opacity=\"1\" /><path clip-path=\"url(#clip730)\" d=\"M2147.52 1472.55 Q2142.35 1472.55 2140.36 1473.73 Q2138.37 1474.91 2138.37 1477.76 Q2138.37 1480.02 2139.85 1481.37 Q2141.36 1482.69 2143.93 1482.69 Q2147.47 1482.69 2149.6 1480.19 Q2151.75 1477.66 2151.75 1473.5 L2151.75 1472.55 L2147.52 1472.55 M2156.01 1470.79 L2156.01 1485.58 L2151.75 1485.58 L2151.75 1481.64 Q2150.29 1484.01 2148.12 1485.14 Q2145.94 1486.25 2142.79 1486.25 Q2138.81 1486.25 2136.45 1484.03 Q2134.11 1481.78 2134.11 1478.03 Q2134.11 1473.66 2137.03 1471.44 Q2139.97 1469.21 2145.78 1469.21 L2151.75 1469.21 L2151.75 1468.8 Q2151.75 1465.86 2149.81 1464.26 Q2147.89 1462.64 2144.39 1462.64 Q2142.17 1462.64 2140.06 1463.17 Q2137.96 1463.7 2136.01 1464.77 L2136.01 1460.83 Q2138.35 1459.93 2140.55 1459.49 Q2142.75 1459.03 2144.83 1459.03 Q2150.46 1459.03 2153.23 1461.95 Q2156.01 1464.86 2156.01 1470.79 Z\" fill=\"#000000\" fill-rule=\"evenodd\" fill-opacity=\"1\" /><path clip-path=\"url(#clip730)\" d=\"M2175.96 1466.44 Q2172.82 1466.44 2170.96 1468.59 Q2169.14 1470.74 2169.14 1474.49 Q2169.14 1478.22 2170.96 1480.39 Q2172.82 1482.55 2175.96 1482.55 Q2179.11 1482.55 2180.94 1480.39 Q2182.79 1478.22 2182.79 1474.49 Q2182.79 1470.74 2180.94 1468.59 Q2179.11 1466.44 2175.96 1466.44 M2185.25 1451.78 L2185.25 1456.04 Q2183.49 1455.21 2181.68 1454.77 Q2179.9 1454.33 2178.14 1454.33 Q2173.51 1454.33 2171.06 1457.45 Q2168.63 1460.58 2168.28 1466.9 Q2169.65 1464.89 2171.71 1463.82 Q2173.77 1462.73 2176.24 1462.73 Q2181.45 1462.73 2184.46 1465.9 Q2187.49 1469.05 2187.49 1474.49 Q2187.49 1479.82 2184.34 1483.03 Q2181.2 1486.25 2175.96 1486.25 Q2169.97 1486.25 2166.8 1481.67 Q2163.63 1477.06 2163.63 1468.33 Q2163.63 1460.14 2167.52 1455.28 Q2171.4 1450.39 2177.96 1450.39 Q2179.71 1450.39 2181.5 1450.74 Q2183.3 1451.09 2185.25 1451.78 Z\" fill=\"#000000\" fill-rule=\"evenodd\" fill-opacity=\"1\" /><path clip-path=\"url(#clip730)\" d=\"M1175.21 1520.52 L1184.79 1520.52 L1196.92 1552.86 L1209.11 1520.52 L1218.69 1520.52 L1218.69 1568.04 L1212.42 1568.04 L1212.42 1526.32 L1200.16 1558.91 L1193.7 1558.91 L1181.45 1526.32 L1181.45 1568.04 L1175.21 1568.04 L1175.21 1520.52 Z\" fill=\"#000000\" fill-rule=\"evenodd\" fill-opacity=\"1\" /><path clip-path=\"url(#clip730)\" d=\"M1247.4 1550.12 Q1240.3 1550.12 1237.56 1551.75 Q1234.82 1553.37 1234.82 1557.29 Q1234.82 1560.4 1236.86 1562.25 Q1238.93 1564.07 1242.46 1564.07 Q1247.33 1564.07 1250.26 1560.63 Q1253.22 1557.16 1253.22 1551.43 L1253.22 1550.12 L1247.4 1550.12 M1259.08 1547.71 L1259.08 1568.04 L1253.22 1568.04 L1253.22 1562.63 Q1251.22 1565.88 1248.22 1567.44 Q1245.23 1568.97 1240.9 1568.97 Q1235.43 1568.97 1232.18 1565.91 Q1228.97 1562.82 1228.97 1557.67 Q1228.97 1551.65 1232.98 1548.6 Q1237.02 1545.54 1245.01 1545.54 L1253.22 1545.54 L1253.22 1544.97 Q1253.22 1540.93 1250.55 1538.73 Q1247.91 1536.5 1243.1 1536.5 Q1240.04 1536.5 1237.15 1537.23 Q1234.25 1537.97 1231.58 1539.43 L1231.58 1534.02 Q1234.79 1532.78 1237.82 1532.17 Q1240.84 1531.54 1243.7 1531.54 Q1251.44 1531.54 1255.26 1535.55 Q1259.08 1539.56 1259.08 1547.71 Z\" fill=\"#000000\" fill-rule=\"evenodd\" fill-opacity=\"1\" /><path clip-path=\"url(#clip730)\" d=\"M1291.8 1537.87 Q1290.81 1537.3 1289.63 1537.04 Q1288.49 1536.76 1287.09 1536.76 Q1282.12 1536.76 1279.45 1540 Q1276.81 1543.22 1276.81 1549.27 L1276.81 1568.04 L1270.92 1568.04 L1270.92 1532.4 L1276.81 1532.4 L1276.81 1537.93 Q1278.65 1534.69 1281.61 1533.13 Q1284.57 1531.54 1288.81 1531.54 Q1289.41 1531.54 1290.14 1531.63 Q1290.87 1531.7 1291.77 1531.85 L1291.8 1537.87 Z\" fill=\"#000000\" fill-rule=\"evenodd\" fill-opacity=\"1\" /><path clip-path=\"url(#clip730)\" d=\"M1322.16 1533.76 L1322.16 1539.24 Q1319.68 1537.87 1317.16 1537.2 Q1314.68 1536.5 1312.14 1536.5 Q1306.44 1536.5 1303.29 1540.13 Q1300.14 1543.73 1300.14 1550.25 Q1300.14 1556.78 1303.29 1560.4 Q1306.44 1564 1312.14 1564 Q1314.68 1564 1317.16 1563.33 Q1319.68 1562.63 1322.16 1561.26 L1322.16 1566.68 Q1319.71 1567.82 1317.07 1568.39 Q1314.46 1568.97 1311.5 1568.97 Q1303.45 1568.97 1298.7 1563.91 Q1293.96 1558.85 1293.96 1550.25 Q1293.96 1541.53 1298.74 1536.53 Q1303.54 1531.54 1311.88 1531.54 Q1314.59 1531.54 1317.16 1532.11 Q1319.74 1532.65 1322.16 1533.76 Z\" fill=\"#000000\" fill-rule=\"evenodd\" fill-opacity=\"1\" /><path clip-path=\"url(#clip730)\" d=\"M1348.55 1550.12 Q1341.45 1550.12 1338.71 1551.75 Q1335.98 1553.37 1335.98 1557.29 Q1335.98 1560.4 1338.01 1562.25 Q1340.08 1564.07 1343.61 1564.07 Q1348.48 1564.07 1351.41 1560.63 Q1354.37 1557.16 1354.37 1551.43 L1354.37 1550.12 L1348.55 1550.12 M1360.23 1547.71 L1360.23 1568.04 L1354.37 1568.04 L1354.37 1562.63 Q1352.37 1565.88 1349.37 1567.44 Q1346.38 1568.97 1342.05 1568.97 Q1336.58 1568.97 1333.33 1565.91 Q1330.12 1562.82 1330.12 1557.67 Q1330.12 1551.65 1334.13 1548.6 Q1338.17 1545.54 1346.16 1545.54 L1354.37 1545.54 L1354.37 1544.97 Q1354.37 1540.93 1351.7 1538.73 Q1349.06 1536.5 1344.25 1536.5 Q1341.2 1536.5 1338.3 1537.23 Q1335.4 1537.97 1332.73 1539.43 L1332.73 1534.02 Q1335.94 1532.78 1338.97 1532.17 Q1341.99 1531.54 1344.86 1531.54 Q1352.59 1531.54 1356.41 1535.55 Q1360.23 1539.56 1360.23 1547.71 Z\" fill=\"#000000\" fill-rule=\"evenodd\" fill-opacity=\"1\" /><path clip-path=\"url(#clip730)\" d=\"M1395.02 1533.45 L1395.02 1538.98 Q1392.53 1537.71 1389.86 1537.07 Q1387.19 1536.44 1384.32 1536.44 Q1379.96 1536.44 1377.77 1537.77 Q1375.6 1539.11 1375.6 1541.79 Q1375.6 1543.82 1377.16 1545 Q1378.72 1546.15 1383.43 1547.2 L1385.44 1547.64 Q1391.68 1548.98 1394.29 1551.43 Q1396.93 1553.85 1396.93 1558.21 Q1396.93 1563.17 1392.98 1566.07 Q1389.07 1568.97 1382.19 1568.97 Q1379.33 1568.97 1376.21 1568.39 Q1373.12 1567.85 1369.68 1566.74 L1369.68 1560.69 Q1372.93 1562.38 1376.08 1563.24 Q1379.23 1564.07 1382.32 1564.07 Q1386.46 1564.07 1388.68 1562.66 Q1390.91 1561.23 1390.91 1558.65 Q1390.91 1556.27 1389.29 1554.99 Q1387.7 1553.72 1382.25 1552.54 L1380.22 1552.07 Q1374.77 1550.92 1372.36 1548.56 Q1369.94 1546.18 1369.94 1542.04 Q1369.94 1537.01 1373.5 1534.27 Q1377.07 1531.54 1383.62 1531.54 Q1386.87 1531.54 1389.73 1532.01 Q1392.6 1532.49 1395.02 1533.45 Z\" fill=\"#000000\" fill-rule=\"evenodd\" fill-opacity=\"1\" /><polyline clip-path=\"url(#clip732)\" style=\"stroke:#000000; stroke-linecap:round; stroke-linejoin:round; stroke-width:2; stroke-opacity:0.1; fill:none\" points=\"\n",
       "  219.38,1386.4 2352.76,1386.4 \n",
       "  \"/>\n",
       "<polyline clip-path=\"url(#clip732)\" style=\"stroke:#000000; stroke-linecap:round; stroke-linejoin:round; stroke-width:2; stroke-opacity:0.1; fill:none\" points=\"\n",
       "  219.38,1121.23 2352.76,1121.23 \n",
       "  \"/>\n",
       "<polyline clip-path=\"url(#clip732)\" style=\"stroke:#000000; stroke-linecap:round; stroke-linejoin:round; stroke-width:2; stroke-opacity:0.1; fill:none\" points=\"\n",
       "  219.38,856.059 2352.76,856.059 \n",
       "  \"/>\n",
       "<polyline clip-path=\"url(#clip732)\" style=\"stroke:#000000; stroke-linecap:round; stroke-linejoin:round; stroke-width:2; stroke-opacity:0.1; fill:none\" points=\"\n",
       "  219.38,590.89 2352.76,590.89 \n",
       "  \"/>\n",
       "<polyline clip-path=\"url(#clip732)\" style=\"stroke:#000000; stroke-linecap:round; stroke-linejoin:round; stroke-width:2; stroke-opacity:0.1; fill:none\" points=\"\n",
       "  219.38,325.721 2352.76,325.721 \n",
       "  \"/>\n",
       "<polyline clip-path=\"url(#clip730)\" style=\"stroke:#000000; stroke-linecap:round; stroke-linejoin:round; stroke-width:4; stroke-opacity:1; fill:none\" points=\"\n",
       "  219.38,1423.18 219.38,123.472 \n",
       "  \"/>\n",
       "<polyline clip-path=\"url(#clip730)\" style=\"stroke:#000000; stroke-linecap:round; stroke-linejoin:round; stroke-width:4; stroke-opacity:1; fill:none\" points=\"\n",
       "  219.38,1386.4 238.278,1386.4 \n",
       "  \"/>\n",
       "<polyline clip-path=\"url(#clip730)\" style=\"stroke:#000000; stroke-linecap:round; stroke-linejoin:round; stroke-width:4; stroke-opacity:1; fill:none\" points=\"\n",
       "  219.38,1121.23 238.278,1121.23 \n",
       "  \"/>\n",
       "<polyline clip-path=\"url(#clip730)\" style=\"stroke:#000000; stroke-linecap:round; stroke-linejoin:round; stroke-width:4; stroke-opacity:1; fill:none\" points=\"\n",
       "  219.38,856.059 238.278,856.059 \n",
       "  \"/>\n",
       "<polyline clip-path=\"url(#clip730)\" style=\"stroke:#000000; stroke-linecap:round; stroke-linejoin:round; stroke-width:4; stroke-opacity:1; fill:none\" points=\"\n",
       "  219.38,590.89 238.278,590.89 \n",
       "  \"/>\n",
       "<polyline clip-path=\"url(#clip730)\" style=\"stroke:#000000; stroke-linecap:round; stroke-linejoin:round; stroke-width:4; stroke-opacity:1; fill:none\" points=\"\n",
       "  219.38,325.721 238.278,325.721 \n",
       "  \"/>\n",
       "<path clip-path=\"url(#clip730)\" d=\"M126.205 1372.19 Q122.593 1372.19 120.765 1375.76 Q118.959 1379.3 118.959 1386.43 Q118.959 1393.54 120.765 1397.1 Q122.593 1400.64 126.205 1400.64 Q129.839 1400.64 131.644 1397.1 Q133.473 1393.54 133.473 1386.43 Q133.473 1379.3 131.644 1375.76 Q129.839 1372.19 126.205 1372.19 M126.205 1368.49 Q132.015 1368.49 135.07 1373.1 Q138.149 1377.68 138.149 1386.43 Q138.149 1395.16 135.07 1399.76 Q132.015 1404.35 126.205 1404.35 Q120.394 1404.35 117.316 1399.76 Q114.26 1395.16 114.26 1386.43 Q114.26 1377.68 117.316 1373.1 Q120.394 1368.49 126.205 1368.49 Z\" fill=\"#000000\" fill-rule=\"evenodd\" fill-opacity=\"1\" /><path clip-path=\"url(#clip730)\" d=\"M146.366 1397.8 L151.251 1397.8 L151.251 1403.68 L146.366 1403.68 L146.366 1397.8 Z\" fill=\"#000000\" fill-rule=\"evenodd\" fill-opacity=\"1\" /><path clip-path=\"url(#clip730)\" d=\"M171.436 1372.19 Q167.825 1372.19 165.996 1375.76 Q164.19 1379.3 164.19 1386.43 Q164.19 1393.54 165.996 1397.1 Q167.825 1400.64 171.436 1400.64 Q175.07 1400.64 176.876 1397.1 Q178.704 1393.54 178.704 1386.43 Q178.704 1379.3 176.876 1375.76 Q175.07 1372.19 171.436 1372.19 M171.436 1368.49 Q177.246 1368.49 180.301 1373.1 Q183.38 1377.68 183.38 1386.43 Q183.38 1395.16 180.301 1399.76 Q177.246 1404.35 171.436 1404.35 Q165.626 1404.35 162.547 1399.76 Q159.491 1395.16 159.491 1386.43 Q159.491 1377.68 162.547 1373.1 Q165.626 1368.49 171.436 1368.49 Z\" fill=\"#000000\" fill-rule=\"evenodd\" fill-opacity=\"1\" /><path clip-path=\"url(#clip730)\" d=\"M127.2 1107.03 Q123.589 1107.03 121.76 1110.59 Q119.955 1114.13 119.955 1121.26 Q119.955 1128.37 121.76 1131.93 Q123.589 1135.47 127.2 1135.47 Q130.834 1135.47 132.64 1131.93 Q134.468 1128.37 134.468 1121.26 Q134.468 1114.13 132.64 1110.59 Q130.834 1107.03 127.2 1107.03 M127.2 1103.32 Q133.01 1103.32 136.066 1107.93 Q139.144 1112.51 139.144 1121.26 Q139.144 1129.99 136.066 1134.6 Q133.01 1139.18 127.2 1139.18 Q121.39 1139.18 118.311 1134.6 Q115.256 1129.99 115.256 1121.26 Q115.256 1112.51 118.311 1107.93 Q121.39 1103.32 127.2 1103.32 Z\" fill=\"#000000\" fill-rule=\"evenodd\" fill-opacity=\"1\" /><path clip-path=\"url(#clip730)\" d=\"M147.362 1132.63 L152.246 1132.63 L152.246 1138.51 L147.362 1138.51 L147.362 1132.63 Z\" fill=\"#000000\" fill-rule=\"evenodd\" fill-opacity=\"1\" /><path clip-path=\"url(#clip730)\" d=\"M162.477 1103.95 L180.834 1103.95 L180.834 1107.88 L166.76 1107.88 L166.76 1116.35 Q167.778 1116.01 168.797 1115.85 Q169.815 1115.66 170.834 1115.66 Q176.621 1115.66 180.001 1118.83 Q183.38 1122 183.38 1127.42 Q183.38 1133 179.908 1136.1 Q176.436 1139.18 170.116 1139.18 Q167.94 1139.18 165.672 1138.81 Q163.427 1138.44 161.019 1137.7 L161.019 1133 Q163.102 1134.13 165.325 1134.69 Q167.547 1135.24 170.024 1135.24 Q174.028 1135.24 176.366 1133.14 Q178.704 1131.03 178.704 1127.42 Q178.704 1123.81 176.366 1121.7 Q174.028 1119.6 170.024 1119.6 Q168.149 1119.6 166.274 1120.01 Q164.422 1120.43 162.477 1121.31 L162.477 1103.95 Z\" fill=\"#000000\" fill-rule=\"evenodd\" fill-opacity=\"1\" /><path clip-path=\"url(#clip730)\" d=\"M117.015 869.403 L124.654 869.403 L124.654 843.038 L116.343 844.704 L116.343 840.445 L124.607 838.779 L129.283 838.779 L129.283 869.403 L136.922 869.403 L136.922 873.339 L117.015 873.339 L117.015 869.403 Z\" fill=\"#000000\" fill-rule=\"evenodd\" fill-opacity=\"1\" /><path clip-path=\"url(#clip730)\" d=\"M146.366 867.459 L151.251 867.459 L151.251 873.339 L146.366 873.339 L146.366 867.459 Z\" fill=\"#000000\" fill-rule=\"evenodd\" fill-opacity=\"1\" /><path clip-path=\"url(#clip730)\" d=\"M171.436 841.857 Q167.825 841.857 165.996 845.422 Q164.19 848.964 164.19 856.093 Q164.19 863.2 165.996 866.764 Q167.825 870.306 171.436 870.306 Q175.07 870.306 176.876 866.764 Q178.704 863.2 178.704 856.093 Q178.704 848.964 176.876 845.422 Q175.07 841.857 171.436 841.857 M171.436 838.154 Q177.246 838.154 180.301 842.76 Q183.38 847.343 183.38 856.093 Q183.38 864.82 180.301 869.427 Q177.246 874.01 171.436 874.01 Q165.626 874.01 162.547 869.427 Q159.491 864.82 159.491 856.093 Q159.491 847.343 162.547 842.76 Q165.626 838.154 171.436 838.154 Z\" fill=\"#000000\" fill-rule=\"evenodd\" fill-opacity=\"1\" /><path clip-path=\"url(#clip730)\" d=\"M118.01 604.235 L125.649 604.235 L125.649 577.869 L117.339 579.536 L117.339 575.277 L125.603 573.61 L130.279 573.61 L130.279 604.235 L137.917 604.235 L137.917 608.17 L118.01 608.17 L118.01 604.235 Z\" fill=\"#000000\" fill-rule=\"evenodd\" fill-opacity=\"1\" /><path clip-path=\"url(#clip730)\" d=\"M147.362 602.29 L152.246 602.29 L152.246 608.17 L147.362 608.17 L147.362 602.29 Z\" fill=\"#000000\" fill-rule=\"evenodd\" fill-opacity=\"1\" /><path clip-path=\"url(#clip730)\" d=\"M162.477 573.61 L180.834 573.61 L180.834 577.545 L166.76 577.545 L166.76 586.017 Q167.778 585.67 168.797 585.508 Q169.815 585.323 170.834 585.323 Q176.621 585.323 180.001 588.494 Q183.38 591.665 183.38 597.082 Q183.38 602.661 179.908 605.763 Q176.436 608.841 170.116 608.841 Q167.94 608.841 165.672 608.471 Q163.427 608.101 161.019 607.36 L161.019 602.661 Q163.102 603.795 165.325 604.351 Q167.547 604.906 170.024 604.906 Q174.028 604.906 176.366 602.8 Q178.704 600.693 178.704 597.082 Q178.704 593.471 176.366 591.364 Q174.028 589.258 170.024 589.258 Q168.149 589.258 166.274 589.675 Q164.422 590.091 162.477 590.971 L162.477 573.61 Z\" fill=\"#000000\" fill-rule=\"evenodd\" fill-opacity=\"1\" /><path clip-path=\"url(#clip730)\" d=\"M120.232 339.066 L136.552 339.066 L136.552 343.001 L114.607 343.001 L114.607 339.066 Q117.269 336.312 121.853 331.682 Q126.459 327.029 127.64 325.687 Q129.885 323.164 130.765 321.427 Q131.667 319.668 131.667 317.978 Q131.667 315.224 129.723 313.488 Q127.802 311.752 124.7 311.752 Q122.501 311.752 120.047 312.515 Q117.617 313.279 114.839 314.83 L114.839 310.108 Q117.663 308.974 120.117 308.395 Q122.57 307.816 124.607 307.816 Q129.978 307.816 133.172 310.502 Q136.367 313.187 136.367 317.677 Q136.367 319.807 135.556 321.728 Q134.769 323.626 132.663 326.219 Q132.084 326.89 128.982 330.108 Q125.88 333.302 120.232 339.066 Z\" fill=\"#000000\" fill-rule=\"evenodd\" fill-opacity=\"1\" /><path clip-path=\"url(#clip730)\" d=\"M146.366 337.122 L151.251 337.122 L151.251 343.001 L146.366 343.001 L146.366 337.122 Z\" fill=\"#000000\" fill-rule=\"evenodd\" fill-opacity=\"1\" /><path clip-path=\"url(#clip730)\" d=\"M171.436 311.52 Q167.825 311.52 165.996 315.085 Q164.19 318.627 164.19 325.756 Q164.19 332.863 165.996 336.427 Q167.825 339.969 171.436 339.969 Q175.07 339.969 176.876 336.427 Q178.704 332.863 178.704 325.756 Q178.704 318.627 176.876 315.085 Q175.07 311.52 171.436 311.52 M171.436 307.816 Q177.246 307.816 180.301 312.423 Q183.38 317.006 183.38 325.756 Q183.38 334.483 180.301 339.089 Q177.246 343.673 171.436 343.673 Q165.626 343.673 162.547 339.089 Q159.491 334.483 159.491 325.756 Q159.491 317.006 162.547 312.423 Q165.626 307.816 171.436 307.816 Z\" fill=\"#000000\" fill-rule=\"evenodd\" fill-opacity=\"1\" /><path clip-path=\"url(#clip730)\" d=\"M41.7242 802.306 Q42.4244 800.237 44.7161 798.295 Q47.0077 796.322 51.0181 794.349 L64.0042 787.824 L64.0042 794.731 L51.8138 800.81 Q47.0395 803.165 45.48 805.393 Q43.9204 807.589 43.9204 811.409 L43.9204 818.411 L64.0042 818.411 L64.0042 824.84 L16.4842 824.84 L16.4842 810.327 Q16.4842 802.179 19.8898 798.168 Q23.2955 794.158 30.1704 794.158 Q34.6582 794.158 37.6183 796.258 Q40.5784 798.327 41.7242 802.306 M21.7677 818.411 L38.6368 818.411 L38.6368 810.327 Q38.6368 805.68 36.5043 803.324 Q34.34 800.937 30.1704 800.937 Q26.0009 800.937 23.9002 803.324 Q21.7677 805.68 21.7677 810.327 L21.7677 818.411 Z\" fill=\"#000000\" fill-rule=\"evenodd\" fill-opacity=\"1\" /><path clip-path=\"url(#clip730)\" d=\"M20.8447 760.26 Q20.8447 767.263 26.0645 771.4 Q31.2844 775.506 40.2919 775.506 Q49.2675 775.506 54.4874 771.4 Q59.7073 767.263 59.7073 760.26 Q59.7073 753.258 54.4874 749.184 Q49.2675 745.078 40.2919 745.078 Q31.2844 745.078 26.0645 749.184 Q20.8447 753.258 20.8447 760.26 M15.6248 760.26 Q15.6248 750.266 22.3406 744.282 Q29.0246 738.299 40.2919 738.299 Q51.5274 738.299 58.2432 744.282 Q64.9272 750.266 64.9272 760.26 Q64.9272 770.286 58.2432 776.302 Q51.5592 782.286 40.2919 782.286 Q29.0246 782.286 22.3406 776.302 Q15.6248 770.286 15.6248 760.26 Z\" fill=\"#000000\" fill-rule=\"evenodd\" fill-opacity=\"1\" /><path clip-path=\"url(#clip730)\" d=\"M16.4842 728.241 L16.4842 721.812 L64.0042 721.812 L64.0042 728.241 L16.4842 728.241 Z\" fill=\"#000000\" fill-rule=\"evenodd\" fill-opacity=\"1\" /><path clip-path=\"url(#clip730)\" d=\"M399.993 44.2197 Q402.627 45.1109 405.098 48.0275 Q407.609 50.9442 410.121 56.0483 L418.425 72.576 L409.635 72.576 L401.897 57.061 Q398.9 50.9847 396.064 48.9997 Q393.269 47.0148 388.408 47.0148 L379.496 47.0148 L379.496 72.576 L371.313 72.576 L371.313 12.096 L389.785 12.096 Q400.156 12.096 405.26 16.4305 Q410.364 20.7649 410.364 29.5149 Q410.364 35.2267 407.69 38.994 Q405.057 42.7613 399.993 44.2197 M379.496 18.8205 L379.496 40.2903 L389.785 40.2903 Q395.7 40.2903 398.697 37.5762 Q401.735 34.8216 401.735 29.5149 Q401.735 24.2082 398.697 21.5346 Q395.7 18.8205 389.785 18.8205 L379.496 18.8205 Z\" fill=\"#000000\" fill-rule=\"evenodd\" fill-opacity=\"1\" /><path clip-path=\"url(#clip730)\" d=\"M453.506 17.6457 Q444.594 17.6457 439.328 24.2892 Q434.102 30.9327 434.102 42.3968 Q434.102 53.8203 439.328 60.4638 Q444.594 67.1073 453.506 67.1073 Q462.418 67.1073 467.603 60.4638 Q472.829 53.8203 472.829 42.3968 Q472.829 30.9327 467.603 24.2892 Q462.418 17.6457 453.506 17.6457 M453.506 11.0023 Q466.226 11.0023 473.841 19.5497 Q481.457 28.0566 481.457 42.3968 Q481.457 56.6965 473.841 65.2439 Q466.226 73.7508 453.506 73.7508 Q440.746 73.7508 433.089 65.2439 Q425.474 56.737 425.474 42.3968 Q425.474 28.0566 433.089 19.5497 Q440.746 11.0023 453.506 11.0023 Z\" fill=\"#000000\" fill-rule=\"evenodd\" fill-opacity=\"1\" /><path clip-path=\"url(#clip730)\" d=\"M494.258 12.096 L502.441 12.096 L502.441 72.576 L494.258 72.576 L494.258 12.096 Z\" fill=\"#000000\" fill-rule=\"evenodd\" fill-opacity=\"1\" /><path clip-path=\"url(#clip730)\" d=\"M545.745 34.9026 L597.678 34.9026 L597.678 41.7081 L545.745 41.7081 L545.745 34.9026 M545.745 51.4303 L597.678 51.4303 L597.678 58.3168 L545.745 58.3168 L545.745 51.4303 Z\" fill=\"#000000\" fill-rule=\"evenodd\" fill-opacity=\"1\" /><path clip-path=\"url(#clip730)\" d=\"M640.982 12.096 L649.165 12.096 L649.165 65.6895 L678.615 65.6895 L678.615 72.576 L640.982 72.576 L640.982 12.096 Z\" fill=\"#000000\" fill-rule=\"evenodd\" fill-opacity=\"1\" /><path clip-path=\"url(#clip730)\" d=\"M684.651 54.671 L684.651 27.2059 L692.104 27.2059 L692.104 54.3874 Q692.104 60.8284 694.616 64.0691 Q697.127 67.2693 702.15 67.2693 Q708.186 67.2693 711.67 63.421 Q715.194 59.5726 715.194 52.9291 L715.194 27.2059 L722.648 27.2059 L722.648 72.576 L715.194 72.576 L715.194 65.6084 Q712.48 69.7404 708.875 71.7658 Q705.31 73.7508 700.571 73.7508 Q692.752 73.7508 688.701 68.8897 Q684.651 64.0286 684.651 54.671 M703.406 26.1121 L703.406 26.1121 Z\" fill=\"#000000\" fill-rule=\"evenodd\" fill-opacity=\"1\" /><path clip-path=\"url(#clip730)\" d=\"M770.651 28.9478 L770.651 35.9153 Q767.492 34.1734 764.291 33.3227 Q761.132 32.4315 757.891 32.4315 Q750.64 32.4315 746.629 37.0496 Q742.619 41.6271 742.619 49.9314 Q742.619 58.2358 746.629 62.8538 Q750.64 67.4314 757.891 67.4314 Q761.132 67.4314 764.291 66.5807 Q767.492 65.6895 770.651 63.9476 L770.651 70.8341 Q767.532 72.2924 764.17 73.0216 Q760.848 73.7508 757.081 73.7508 Q746.832 73.7508 740.796 67.3098 Q734.76 60.8689 734.76 49.9314 Q734.76 38.832 740.837 32.472 Q746.953 26.1121 757.567 26.1121 Q761.01 26.1121 764.291 26.8413 Q767.573 27.5299 770.651 28.9478 Z\" fill=\"#000000\" fill-rule=\"evenodd\" fill-opacity=\"1\" /><path clip-path=\"url(#clip730)\" d=\"M809.904 34.1734 Q808.649 33.4443 807.15 33.1202 Q805.692 32.7556 803.909 32.7556 Q797.59 32.7556 794.187 36.8875 Q790.825 40.9789 790.825 48.6757 L790.825 72.576 L783.331 72.576 L783.331 27.2059 L790.825 27.2059 L790.825 34.2544 Q793.174 30.1225 796.942 28.1376 Q800.709 26.1121 806.097 26.1121 Q806.866 26.1121 807.798 26.2337 Q808.73 26.3147 809.864 26.5172 L809.904 34.1734 Z\" fill=\"#000000\" fill-rule=\"evenodd\" fill-opacity=\"1\" /><path clip-path=\"url(#clip730)\" d=\"M833.481 32.4315 Q827.485 32.4315 824.002 37.1306 Q820.518 41.7891 820.518 49.9314 Q820.518 58.0738 823.961 62.7728 Q827.445 67.4314 833.481 67.4314 Q839.436 67.4314 842.919 62.7323 Q846.403 58.0333 846.403 49.9314 Q846.403 41.8701 842.919 37.1711 Q839.436 32.4315 833.481 32.4315 M833.481 26.1121 Q843.203 26.1121 848.753 32.4315 Q854.302 38.7509 854.302 49.9314 Q854.302 61.0714 848.753 67.4314 Q843.203 73.7508 833.481 73.7508 Q823.718 73.7508 818.168 67.4314 Q812.659 61.0714 812.659 49.9314 Q812.659 38.7509 818.168 32.4315 Q823.718 26.1121 833.481 26.1121 Z\" fill=\"#000000\" fill-rule=\"evenodd\" fill-opacity=\"1\" /><path clip-path=\"url(#clip730)\" d=\"M879.904 12.096 L886.791 12.096 L865.726 80.2727 L858.839 80.2727 L879.904 12.096 Z\" fill=\"#000000\" fill-rule=\"evenodd\" fill-opacity=\"1\" /><path clip-path=\"url(#clip730)\" d=\"M894.933 12.096 L903.116 12.096 L903.116 72.576 L894.933 72.576 L894.933 12.096 Z\" fill=\"#000000\" fill-rule=\"evenodd\" fill-opacity=\"1\" /><path clip-path=\"url(#clip730)\" d=\"M956.79 45.1919 L956.79 72.576 L949.337 72.576 L949.337 45.4349 Q949.337 38.994 946.825 35.7938 Q944.313 32.5936 939.29 32.5936 Q933.255 32.5936 929.771 36.4419 Q926.287 40.2903 926.287 46.9338 L926.287 72.576 L918.793 72.576 L918.793 27.2059 L926.287 27.2059 L926.287 34.2544 Q928.961 30.163 932.566 28.1376 Q936.212 26.1121 940.951 26.1121 Q948.769 26.1121 952.78 30.9732 Q956.79 35.7938 956.79 45.1919 Z\" fill=\"#000000\" fill-rule=\"evenodd\" fill-opacity=\"1\" /><path clip-path=\"url(#clip730)\" d=\"M966.31 27.2059 L974.209 27.2059 L988.387 65.2844 L1002.57 27.2059 L1010.46 27.2059 L993.451 72.576 L983.324 72.576 L966.31 27.2059 Z\" fill=\"#000000\" fill-rule=\"evenodd\" fill-opacity=\"1\" /><path clip-path=\"url(#clip730)\" d=\"M1059.56 48.0275 L1059.56 51.6733 L1025.29 51.6733 Q1025.78 59.3701 1029.91 63.421 Q1034.08 67.4314 1041.49 67.4314 Q1045.79 67.4314 1049.8 66.3781 Q1053.85 65.3249 1057.82 63.2184 L1057.82 70.267 Q1053.81 71.9684 1049.6 72.8596 Q1045.38 73.7508 1041.05 73.7508 Q1030.19 73.7508 1023.83 67.4314 Q1017.51 61.1119 1017.51 50.3365 Q1017.51 39.1965 1023.51 32.6746 Q1029.54 26.1121 1039.75 26.1121 Q1048.91 26.1121 1054.21 32.0264 Q1059.56 37.9003 1059.56 48.0275 M1052.11 45.84 Q1052.03 39.7232 1048.66 36.0774 Q1045.34 32.4315 1039.83 32.4315 Q1033.6 32.4315 1029.83 35.9558 Q1026.1 39.4801 1025.53 45.8805 L1052.11 45.84 Z\" fill=\"#000000\" fill-rule=\"evenodd\" fill-opacity=\"1\" /><path clip-path=\"url(#clip730)\" d=\"M1100.72 28.5427 L1100.72 35.5912 Q1097.56 33.9709 1094.16 33.1607 Q1090.75 32.3505 1087.11 32.3505 Q1081.56 32.3505 1078.76 34.0519 Q1076.01 35.7533 1076.01 39.156 Q1076.01 41.7486 1077.99 43.2475 Q1079.98 44.7058 1085.97 46.0426 L1088.53 46.6097 Q1096.47 48.3111 1099.79 51.4303 Q1103.15 54.509 1103.15 60.0587 Q1103.15 66.3781 1098.13 70.0644 Q1093.14 73.7508 1084.39 73.7508 Q1080.75 73.7508 1076.78 73.0216 Q1072.85 72.3329 1068.47 70.9151 L1068.47 63.2184 Q1072.61 65.3654 1076.62 66.4591 Q1080.63 67.5124 1084.56 67.5124 Q1089.82 67.5124 1092.66 65.73 Q1095.49 63.9071 1095.49 60.6258 Q1095.49 57.5877 1093.43 55.9673 Q1091.4 54.3469 1084.47 52.8481 L1081.88 52.2405 Q1074.96 50.7821 1071.88 47.7845 Q1068.8 44.7463 1068.8 39.4801 Q1068.8 33.0797 1073.33 29.5959 Q1077.87 26.1121 1086.22 26.1121 Q1090.35 26.1121 1093.99 26.7198 Q1097.64 27.3274 1100.72 28.5427 Z\" fill=\"#000000\" fill-rule=\"evenodd\" fill-opacity=\"1\" /><path clip-path=\"url(#clip730)\" d=\"M1122.39 14.324 L1122.39 27.2059 L1137.74 27.2059 L1137.74 32.9987 L1122.39 32.9987 L1122.39 57.6282 Q1122.39 63.1779 1123.89 64.7578 Q1125.43 66.3376 1130.09 66.3376 L1137.74 66.3376 L1137.74 72.576 L1130.09 72.576 Q1121.46 72.576 1118.18 69.3758 Q1114.9 66.1351 1114.9 57.6282 L1114.9 32.9987 L1109.43 32.9987 L1109.43 27.2059 L1114.9 27.2059 L1114.9 14.324 L1122.39 14.324 Z\" fill=\"#000000\" fill-rule=\"evenodd\" fill-opacity=\"1\" /><path clip-path=\"url(#clip730)\" d=\"M1147.55 27.2059 L1155 27.2059 L1155 72.576 L1147.55 72.576 L1147.55 27.2059 M1147.55 9.54393 L1155 9.54393 L1155 18.9825 L1147.55 18.9825 L1147.55 9.54393 Z\" fill=\"#000000\" fill-rule=\"evenodd\" fill-opacity=\"1\" /><path clip-path=\"url(#clip730)\" d=\"M1205.92 35.9153 Q1208.72 30.8922 1212.6 28.5022 Q1216.49 26.1121 1221.76 26.1121 Q1228.85 26.1121 1232.7 31.0947 Q1236.55 36.0368 1236.55 45.1919 L1236.55 72.576 L1229.05 72.576 L1229.05 45.4349 Q1229.05 38.913 1226.74 35.7533 Q1224.43 32.5936 1219.69 32.5936 Q1213.9 32.5936 1210.54 36.4419 Q1207.18 40.2903 1207.18 46.9338 L1207.18 72.576 L1199.68 72.576 L1199.68 45.4349 Q1199.68 38.8725 1197.37 35.7533 Q1195.06 32.5936 1190.24 32.5936 Q1184.53 32.5936 1181.17 36.4824 Q1177.81 40.3308 1177.81 46.9338 L1177.81 72.576 L1170.31 72.576 L1170.31 27.2059 L1177.81 27.2059 L1177.81 34.2544 Q1180.36 30.082 1183.92 28.0971 Q1187.49 26.1121 1192.39 26.1121 Q1197.33 26.1121 1200.78 28.6237 Q1204.26 31.1352 1205.92 35.9153 Z\" fill=\"#000000\" fill-rule=\"evenodd\" fill-opacity=\"1\" /><path clip-path=\"url(#clip730)\" d=\"M1290.22 48.0275 L1290.22 51.6733 L1255.95 51.6733 Q1256.44 59.3701 1260.57 63.421 Q1264.74 67.4314 1272.15 67.4314 Q1276.45 67.4314 1280.46 66.3781 Q1284.51 65.3249 1288.48 63.2184 L1288.48 70.267 Q1284.47 71.9684 1280.25 72.8596 Q1276.04 73.7508 1271.71 73.7508 Q1260.85 73.7508 1254.49 67.4314 Q1248.17 61.1119 1248.17 50.3365 Q1248.17 39.1965 1254.17 32.6746 Q1260.2 26.1121 1270.41 26.1121 Q1279.57 26.1121 1284.87 32.0264 Q1290.22 37.9003 1290.22 48.0275 M1282.77 45.84 Q1282.69 39.7232 1279.32 36.0774 Q1276 32.4315 1270.49 32.4315 Q1264.25 32.4315 1260.49 35.9558 Q1256.76 39.4801 1256.19 45.8805 L1282.77 45.84 Z\" fill=\"#000000\" fill-rule=\"evenodd\" fill-opacity=\"1\" /><path clip-path=\"url(#clip730)\" d=\"M1340.17 45.1919 L1340.17 72.576 L1332.71 72.576 L1332.71 45.4349 Q1332.71 38.994 1330.2 35.7938 Q1327.69 32.5936 1322.67 32.5936 Q1316.63 32.5936 1313.15 36.4419 Q1309.66 40.2903 1309.66 46.9338 L1309.66 72.576 L1302.17 72.576 L1302.17 27.2059 L1309.66 27.2059 L1309.66 34.2544 Q1312.34 30.163 1315.94 28.1376 Q1319.59 26.1121 1324.33 26.1121 Q1332.15 26.1121 1336.16 30.9732 Q1340.17 35.7938 1340.17 45.1919 Z\" fill=\"#000000\" fill-rule=\"evenodd\" fill-opacity=\"1\" /><path clip-path=\"url(#clip730)\" d=\"M1362.41 14.324 L1362.41 27.2059 L1377.76 27.2059 L1377.76 32.9987 L1362.41 32.9987 L1362.41 57.6282 Q1362.41 63.1779 1363.91 64.7578 Q1365.45 66.3376 1370.1 66.3376 L1377.76 66.3376 L1377.76 72.576 L1370.1 72.576 Q1361.48 72.576 1358.19 69.3758 Q1354.91 66.1351 1354.91 57.6282 L1354.91 32.9987 L1349.44 32.9987 L1349.44 27.2059 L1354.91 27.2059 L1354.91 14.324 L1362.41 14.324 Z\" fill=\"#000000\" fill-rule=\"evenodd\" fill-opacity=\"1\" /><path clip-path=\"url(#clip730)\" d=\"M1405.14 32.4315 Q1399.15 32.4315 1395.67 37.1306 Q1392.18 41.7891 1392.18 49.9314 Q1392.18 58.0738 1395.62 62.7728 Q1399.11 67.4314 1405.14 67.4314 Q1411.1 67.4314 1414.58 62.7323 Q1418.07 58.0333 1418.07 49.9314 Q1418.07 41.8701 1414.58 37.1711 Q1411.1 32.4315 1405.14 32.4315 M1405.14 26.1121 Q1414.87 26.1121 1420.42 32.4315 Q1425.97 38.7509 1425.97 49.9314 Q1425.97 61.0714 1420.42 67.4314 Q1414.87 73.7508 1405.14 73.7508 Q1395.38 73.7508 1389.83 67.4314 Q1384.32 61.0714 1384.32 49.9314 Q1384.32 38.7509 1389.83 32.4315 Q1395.38 26.1121 1405.14 26.1121 Z\" fill=\"#000000\" fill-rule=\"evenodd\" fill-opacity=\"1\" /><path clip-path=\"url(#clip730)\" d=\"M1482.6 9.62495 Q1477.17 18.942 1474.54 28.0566 Q1471.9 37.1711 1471.9 46.5287 Q1471.9 55.8863 1474.54 65.0818 Q1477.21 74.2369 1482.6 83.5134 L1476.12 83.5134 Q1470.04 73.9938 1467 64.7983 Q1464 55.6027 1464 46.5287 Q1464 37.4952 1467 28.3401 Q1470 19.1851 1476.12 9.62495 L1482.6 9.62495 Z\" fill=\"#000000\" fill-rule=\"evenodd\" fill-opacity=\"1\" /><path clip-path=\"url(#clip730)\" d=\"M1535.87 48.0275 L1535.87 51.6733 L1501.6 51.6733 Q1502.08 59.3701 1506.21 63.421 Q1510.39 67.4314 1517.8 67.4314 Q1522.09 67.4314 1526.1 66.3781 Q1530.16 65.3249 1534.13 63.2184 L1534.13 70.267 Q1530.11 71.9684 1525.9 72.8596 Q1521.69 73.7508 1517.35 73.7508 Q1506.5 73.7508 1500.14 67.4314 Q1493.82 61.1119 1493.82 50.3365 Q1493.82 39.1965 1499.81 32.6746 Q1505.85 26.1121 1516.06 26.1121 Q1525.21 26.1121 1530.52 32.0264 Q1535.87 37.9003 1535.87 48.0275 M1528.41 45.84 Q1528.33 39.7232 1524.97 36.0774 Q1521.65 32.4315 1516.14 32.4315 Q1509.9 32.4315 1506.13 35.9558 Q1502.41 39.4801 1501.84 45.8805 L1528.41 45.84 Z\" fill=\"#000000\" fill-rule=\"evenodd\" fill-opacity=\"1\" /><path clip-path=\"url(#clip730)\" d=\"M1583.42 35.9153 Q1586.22 30.8922 1590.11 28.5022 Q1594 26.1121 1599.26 26.1121 Q1606.35 26.1121 1610.2 31.0947 Q1614.05 36.0368 1614.05 45.1919 L1614.05 72.576 L1606.56 72.576 L1606.56 45.4349 Q1606.56 38.913 1604.25 35.7533 Q1601.94 32.5936 1597.2 32.5936 Q1591.4 32.5936 1588.04 36.4419 Q1584.68 40.2903 1584.68 46.9338 L1584.68 72.576 L1577.19 72.576 L1577.19 45.4349 Q1577.19 38.8725 1574.88 35.7533 Q1572.57 32.5936 1567.75 32.5936 Q1562.04 32.5936 1558.67 36.4824 Q1555.31 40.3308 1555.31 46.9338 L1555.31 72.576 L1547.82 72.576 L1547.82 27.2059 L1555.31 27.2059 L1555.31 34.2544 Q1557.86 30.082 1561.43 28.0971 Q1564.99 26.1121 1569.89 26.1121 Q1574.84 26.1121 1578.28 28.6237 Q1581.76 31.1352 1583.42 35.9153 Z\" fill=\"#000000\" fill-rule=\"evenodd\" fill-opacity=\"1\" /><path clip-path=\"url(#clip730)\" d=\"M1662.66 14.324 L1662.66 27.2059 L1678.01 27.2059 L1678.01 32.9987 L1662.66 32.9987 L1662.66 57.6282 Q1662.66 63.1779 1664.16 64.7578 Q1665.7 66.3376 1670.36 66.3376 L1678.01 66.3376 L1678.01 72.576 L1670.36 72.576 Q1661.73 72.576 1658.45 69.3758 Q1655.17 66.1351 1655.17 57.6282 L1655.17 32.9987 L1649.7 32.9987 L1649.7 27.2059 L1655.17 27.2059 L1655.17 14.324 L1662.66 14.324 Z\" fill=\"#000000\" fill-rule=\"evenodd\" fill-opacity=\"1\" /><path clip-path=\"url(#clip730)\" d=\"M1705.4 32.4315 Q1699.4 32.4315 1695.92 37.1306 Q1692.43 41.7891 1692.43 49.9314 Q1692.43 58.0738 1695.88 62.7728 Q1699.36 67.4314 1705.4 67.4314 Q1711.35 67.4314 1714.84 62.7323 Q1718.32 58.0333 1718.32 49.9314 Q1718.32 41.8701 1714.84 37.1711 Q1711.35 32.4315 1705.4 32.4315 M1705.4 26.1121 Q1715.12 26.1121 1720.67 32.4315 Q1726.22 38.7509 1726.22 49.9314 Q1726.22 61.0714 1720.67 67.4314 Q1715.12 73.7508 1705.4 73.7508 Q1695.63 73.7508 1690.08 67.4314 Q1684.58 61.0714 1684.58 49.9314 Q1684.58 38.7509 1690.08 32.4315 Q1695.63 26.1121 1705.4 26.1121 Z\" fill=\"#000000\" fill-rule=\"evenodd\" fill-opacity=\"1\" /><path clip-path=\"url(#clip730)\" d=\"M1768.43 34.0924 L1768.43 9.54393 L1775.88 9.54393 L1775.88 72.576 L1768.43 72.576 L1768.43 65.7705 Q1766.08 69.8214 1762.47 71.8063 Q1758.91 73.7508 1753.89 73.7508 Q1745.66 73.7508 1740.48 67.1883 Q1735.33 60.6258 1735.33 49.9314 Q1735.33 39.2371 1740.48 32.6746 Q1745.66 26.1121 1753.89 26.1121 Q1758.91 26.1121 1762.47 28.0971 Q1766.08 30.0415 1768.43 34.0924 M1743.03 49.9314 Q1743.03 58.1548 1746.39 62.8538 Q1749.8 67.5124 1755.71 67.5124 Q1761.62 67.5124 1765.03 62.8538 Q1768.43 58.1548 1768.43 49.9314 Q1768.43 41.7081 1765.03 37.0496 Q1761.62 32.3505 1755.71 32.3505 Q1749.8 32.3505 1746.39 37.0496 Q1743.03 41.7081 1743.03 49.9314 Z\" fill=\"#000000\" fill-rule=\"evenodd\" fill-opacity=\"1\" /><path clip-path=\"url(#clip730)\" d=\"M1808.82 32.4315 Q1802.82 32.4315 1799.34 37.1306 Q1795.85 41.7891 1795.85 49.9314 Q1795.85 58.0738 1799.3 62.7728 Q1802.78 67.4314 1808.82 67.4314 Q1814.77 67.4314 1818.26 62.7323 Q1821.74 58.0333 1821.74 49.9314 Q1821.74 41.8701 1818.26 37.1711 Q1814.77 32.4315 1808.82 32.4315 M1808.82 26.1121 Q1818.54 26.1121 1824.09 32.4315 Q1829.64 38.7509 1829.64 49.9314 Q1829.64 61.0714 1824.09 67.4314 Q1818.54 73.7508 1808.82 73.7508 Q1799.05 73.7508 1793.5 67.4314 Q1788 61.0714 1788 49.9314 Q1788 38.7509 1793.5 32.4315 Q1799.05 26.1121 1808.82 26.1121 Z\" fill=\"#000000\" fill-rule=\"evenodd\" fill-opacity=\"1\" /><path clip-path=\"url(#clip730)\" d=\"M1875.58 65.7705 L1875.58 89.8329 L1868.08 89.8329 L1868.08 27.2059 L1875.58 27.2059 L1875.58 34.0924 Q1877.93 30.0415 1881.49 28.0971 Q1885.1 26.1121 1890.08 26.1121 Q1898.34 26.1121 1903.49 32.6746 Q1908.67 39.2371 1908.67 49.9314 Q1908.67 60.6258 1903.49 67.1883 Q1898.34 73.7508 1890.08 73.7508 Q1885.1 73.7508 1881.49 71.8063 Q1877.93 69.8214 1875.58 65.7705 M1900.93 49.9314 Q1900.93 41.7081 1897.53 37.0496 Q1894.17 32.3505 1888.26 32.3505 Q1882.34 32.3505 1878.94 37.0496 Q1875.58 41.7081 1875.58 49.9314 Q1875.58 58.1548 1878.94 62.8538 Q1882.34 67.5124 1888.26 67.5124 Q1894.17 67.5124 1897.53 62.8538 Q1900.93 58.1548 1900.93 49.9314 Z\" fill=\"#000000\" fill-rule=\"evenodd\" fill-opacity=\"1\" /><path clip-path=\"url(#clip730)\" d=\"M1959.83 48.0275 L1959.83 51.6733 L1925.56 51.6733 Q1926.05 59.3701 1930.18 63.421 Q1934.35 67.4314 1941.77 67.4314 Q1946.06 67.4314 1950.07 66.3781 Q1954.12 65.3249 1958.09 63.2184 L1958.09 70.267 Q1954.08 71.9684 1949.87 72.8596 Q1945.66 73.7508 1941.32 73.7508 Q1930.47 73.7508 1924.11 67.4314 Q1917.79 61.1119 1917.79 50.3365 Q1917.79 39.1965 1923.78 32.6746 Q1929.82 26.1121 1940.03 26.1121 Q1949.18 26.1121 1954.49 32.0264 Q1959.83 37.9003 1959.83 48.0275 M1952.38 45.84 Q1952.3 39.7232 1948.94 36.0774 Q1945.62 32.4315 1940.11 32.4315 Q1933.87 32.4315 1930.1 35.9558 Q1926.37 39.4801 1925.81 45.8805 L1952.38 45.84 Z\" fill=\"#000000\" fill-rule=\"evenodd\" fill-opacity=\"1\" /><path clip-path=\"url(#clip730)\" d=\"M1998.36 34.1734 Q1997.1 33.4443 1995.6 33.1202 Q1994.15 32.7556 1992.36 32.7556 Q1986.04 32.7556 1982.64 36.8875 Q1979.28 40.9789 1979.28 48.6757 L1979.28 72.576 L1971.78 72.576 L1971.78 27.2059 L1979.28 27.2059 L1979.28 34.2544 Q1981.63 30.1225 1985.4 28.1376 Q1989.16 26.1121 1994.55 26.1121 Q1995.32 26.1121 1996.25 26.2337 Q1997.18 26.3147 1998.32 26.5172 L1998.36 34.1734 Z\" fill=\"#000000\" fill-rule=\"evenodd\" fill-opacity=\"1\" /><path clip-path=\"url(#clip730)\" d=\"M2015.53 6.22219 L2023.6 6.22219 L2010.39 21.4536 L2004.19 21.4536 L2015.53 6.22219 M2006.18 27.2059 L2013.63 27.2059 L2013.63 72.576 L2006.18 72.576 L2006.18 27.2059 M2009.9 26.1121 L2009.9 26.1121 Z\" fill=\"#000000\" fill-rule=\"evenodd\" fill-opacity=\"1\" /><path clip-path=\"url(#clip730)\" d=\"M2046.81 32.4315 Q2040.81 32.4315 2037.33 37.1306 Q2033.84 41.7891 2033.84 49.9314 Q2033.84 58.0738 2037.29 62.7728 Q2040.77 67.4314 2046.81 67.4314 Q2052.76 67.4314 2056.25 62.7323 Q2059.73 58.0333 2059.73 49.9314 Q2059.73 41.8701 2056.25 37.1711 Q2052.76 32.4315 2046.81 32.4315 M2046.81 26.1121 Q2056.53 26.1121 2062.08 32.4315 Q2067.63 38.7509 2067.63 49.9314 Q2067.63 61.0714 2062.08 67.4314 Q2056.53 73.7508 2046.81 73.7508 Q2037.04 73.7508 2031.5 67.4314 Q2025.99 61.0714 2025.99 49.9314 Q2025.99 38.7509 2031.5 32.4315 Q2037.04 26.1121 2046.81 26.1121 Z\" fill=\"#000000\" fill-rule=\"evenodd\" fill-opacity=\"1\" /><path clip-path=\"url(#clip730)\" d=\"M2109.84 34.0924 L2109.84 9.54393 L2117.29 9.54393 L2117.29 72.576 L2109.84 72.576 L2109.84 65.7705 Q2107.49 69.8214 2103.88 71.8063 Q2100.32 73.7508 2095.3 73.7508 Q2087.07 73.7508 2081.89 67.1883 Q2076.74 60.6258 2076.74 49.9314 Q2076.74 39.2371 2081.89 32.6746 Q2087.07 26.1121 2095.3 26.1121 Q2100.32 26.1121 2103.88 28.0971 Q2107.49 30.0415 2109.84 34.0924 M2084.44 49.9314 Q2084.44 58.1548 2087.8 62.8538 Q2091.21 67.5124 2097.12 67.5124 Q2103.03 67.5124 2106.44 62.8538 Q2109.84 58.1548 2109.84 49.9314 Q2109.84 41.7081 2106.44 37.0496 Q2103.03 32.3505 2097.12 32.3505 Q2091.21 32.3505 2087.8 37.0496 Q2084.44 41.7081 2084.44 49.9314 Z\" fill=\"#000000\" fill-rule=\"evenodd\" fill-opacity=\"1\" /><path clip-path=\"url(#clip730)\" d=\"M2150.23 32.4315 Q2144.23 32.4315 2140.75 37.1306 Q2137.26 41.7891 2137.26 49.9314 Q2137.26 58.0738 2140.71 62.7728 Q2144.19 67.4314 2150.23 67.4314 Q2156.18 67.4314 2159.67 62.7323 Q2163.15 58.0333 2163.15 49.9314 Q2163.15 41.8701 2159.67 37.1711 Q2156.18 32.4315 2150.23 32.4315 M2150.23 26.1121 Q2159.95 26.1121 2165.5 32.4315 Q2171.05 38.7509 2171.05 49.9314 Q2171.05 61.0714 2165.5 67.4314 Q2159.95 73.7508 2150.23 73.7508 Q2140.46 73.7508 2134.91 67.4314 Q2129.41 61.0714 2129.41 49.9314 Q2129.41 38.7509 2134.91 32.4315 Q2140.46 26.1121 2150.23 26.1121 Z\" fill=\"#000000\" fill-rule=\"evenodd\" fill-opacity=\"1\" /><path clip-path=\"url(#clip730)\" d=\"M2182.23 9.62495 L2188.71 9.62495 Q2194.79 19.1851 2197.78 28.3401 Q2200.82 37.4952 2200.82 46.5287 Q2200.82 55.6027 2197.78 64.7983 Q2194.79 73.9938 2188.71 83.5134 L2182.23 83.5134 Q2187.62 74.2369 2190.25 65.0818 Q2192.92 55.8863 2192.92 46.5287 Q2192.92 37.1711 2190.25 28.0566 Q2187.62 18.942 2182.23 9.62495 Z\" fill=\"#000000\" fill-rule=\"evenodd\" fill-opacity=\"1\" /><path clip-path=\"url(#clip732)\" d=\"\n",
       "M336.72 810.103 L336.72 1386.4 L598.609 1386.4 L598.609 810.103 L336.72 810.103 L336.72 810.103  Z\n",
       "  \" fill=\"#009af9\" fill-rule=\"evenodd\" fill-opacity=\"1\"/>\n",
       "<polyline clip-path=\"url(#clip732)\" style=\"stroke:#000000; stroke-linecap:round; stroke-linejoin:round; stroke-width:4; stroke-opacity:1; fill:none\" points=\"\n",
       "  336.72,810.103 336.72,1386.4 598.609,1386.4 598.609,810.103 336.72,810.103 \n",
       "  \"/>\n",
       "<path clip-path=\"url(#clip732)\" d=\"\n",
       "M664.081 694.931 L664.081 1386.4 L925.97 1386.4 L925.97 694.931 L664.081 694.931 L664.081 694.931  Z\n",
       "  \" fill=\"#009af9\" fill-rule=\"evenodd\" fill-opacity=\"1\"/>\n",
       "<polyline clip-path=\"url(#clip732)\" style=\"stroke:#000000; stroke-linecap:round; stroke-linejoin:round; stroke-width:4; stroke-opacity:1; fill:none\" points=\"\n",
       "  664.081,694.931 664.081,1386.4 925.97,1386.4 925.97,694.931 664.081,694.931 \n",
       "  \"/>\n",
       "<path clip-path=\"url(#clip732)\" d=\"\n",
       "M991.443 764.808 L991.443 1386.4 L1253.33 1386.4 L1253.33 764.808 L991.443 764.808 L991.443 764.808  Z\n",
       "  \" fill=\"#009af9\" fill-rule=\"evenodd\" fill-opacity=\"1\"/>\n",
       "<polyline clip-path=\"url(#clip732)\" style=\"stroke:#000000; stroke-linecap:round; stroke-linejoin:round; stroke-width:4; stroke-opacity:1; fill:none\" points=\"\n",
       "  991.443,764.808 991.443,1386.4 1253.33,1386.4 1253.33,764.808 991.443,764.808 \n",
       "  \"/>\n",
       "<path clip-path=\"url(#clip732)\" d=\"\n",
       "M1318.8 637.415 L1318.8 1386.4 L1580.69 1386.4 L1580.69 637.415 L1318.8 637.415 L1318.8 637.415  Z\n",
       "  \" fill=\"#009af9\" fill-rule=\"evenodd\" fill-opacity=\"1\"/>\n",
       "<polyline clip-path=\"url(#clip732)\" style=\"stroke:#000000; stroke-linecap:round; stroke-linejoin:round; stroke-width:4; stroke-opacity:1; fill:none\" points=\"\n",
       "  1318.8,637.415 1318.8,1386.4 1580.69,1386.4 1580.69,637.415 1318.8,637.415 \n",
       "  \"/>\n",
       "<path clip-path=\"url(#clip732)\" d=\"\n",
       "M1646.17 501.273 L1646.17 1386.4 L1908.05 1386.4 L1908.05 501.273 L1646.17 501.273 L1646.17 501.273  Z\n",
       "  \" fill=\"#009af9\" fill-rule=\"evenodd\" fill-opacity=\"1\"/>\n",
       "<polyline clip-path=\"url(#clip732)\" style=\"stroke:#000000; stroke-linecap:round; stroke-linejoin:round; stroke-width:4; stroke-opacity:1; fill:none\" points=\"\n",
       "  1646.17,501.273 1646.17,1386.4 1908.05,1386.4 1908.05,501.273 1646.17,501.273 \n",
       "  \"/>\n",
       "<path clip-path=\"url(#clip732)\" d=\"\n",
       "M1973.53 160.256 L1973.53 1386.4 L2235.42 1386.4 L2235.42 160.256 L1973.53 160.256 L1973.53 160.256  Z\n",
       "  \" fill=\"#009af9\" fill-rule=\"evenodd\" fill-opacity=\"1\"/>\n",
       "<polyline clip-path=\"url(#clip732)\" style=\"stroke:#000000; stroke-linecap:round; stroke-linejoin:round; stroke-width:4; stroke-opacity:1; fill:none\" points=\"\n",
       "  1973.53,160.256 1973.53,1386.4 2235.42,1386.4 2235.42,160.256 1973.53,160.256 \n",
       "  \"/>\n",
       "<circle clip-path=\"url(#clip732)\" style=\"fill:#009af9; stroke:none; fill-opacity:0\" cx=\"467.664\" cy=\"810.103\" r=\"2\"/>\n",
       "<circle clip-path=\"url(#clip732)\" style=\"fill:#009af9; stroke:none; fill-opacity:0\" cx=\"795.026\" cy=\"694.931\" r=\"2\"/>\n",
       "<circle clip-path=\"url(#clip732)\" style=\"fill:#009af9; stroke:none; fill-opacity:0\" cx=\"1122.39\" cy=\"764.808\" r=\"2\"/>\n",
       "<circle clip-path=\"url(#clip732)\" style=\"fill:#009af9; stroke:none; fill-opacity:0\" cx=\"1449.75\" cy=\"637.415\" r=\"2\"/>\n",
       "<circle clip-path=\"url(#clip732)\" style=\"fill:#009af9; stroke:none; fill-opacity:0\" cx=\"1777.11\" cy=\"501.273\" r=\"2\"/>\n",
       "<circle clip-path=\"url(#clip732)\" style=\"fill:#009af9; stroke:none; fill-opacity:0\" cx=\"2104.47\" cy=\"160.256\" r=\"2\"/>\n",
       "</svg>\n"
      ]
     },
     "execution_count": 15,
     "metadata": {},
     "output_type": "execute_result"
    }
   ],
   "source": [
    "#Pkg.add(\"Plots\")\n",
    "using Plots\n",
    "Xs = gdf[!,:MARCA]\n",
    "Ys = gdf[!,:ROI]\n",
    "p = bar(Xs,Ys, label=false)\n",
    "ylabel!(\"ROI\")\n",
    "xlabel!(\"Marcas\")\n",
    "title!(\"ROI = Lucro/Investimento (em todo período)\")\n",
    "#savefig(p,\"barplot.png\")"
   ]
  },
  {
   "cell_type": "code",
   "execution_count": 16,
   "id": "ff09951c",
   "metadata": {},
   "outputs": [],
   "source": [
    "# Instanciar os dados\n",
    "X = Matrix(select(df, [:LL, :P1, :P2, :P3]))\n",
    "y = df[:, :ROI]\n",
    "model = robustreg(X, y);"
   ]
  },
  {
   "cell_type": "code",
   "execution_count": 21,
   "id": "59e372a6",
   "metadata": {},
   "outputs": [
    {
     "data": {
      "text/html": [
       "<div class=\"data-frame\"><p>7 rows × 8 columns</p><table class=\"data-frame\"><thead><tr><th></th><th>parameters</th><th>mean</th><th>std</th><th>naive_se</th><th>mcse</th><th>ess</th><th>rhat</th><th>ess_per_sec</th></tr><tr><th></th><th title=\"Symbol\">Symbol</th><th title=\"Float64\">Float64</th><th title=\"Float64\">Float64</th><th title=\"Float64\">Float64</th><th title=\"Float64\">Float64</th><th title=\"Float64\">Float64</th><th title=\"Float64\">Float64</th><th title=\"Float64\">Float64</th></tr></thead><tbody><tr><th>1</th><td>α</td><td>-0.39103</td><td>1.08262</td><td>0.0171178</td><td>0.135931</td><td>8.01603</td><td>80780.2</td><td>0.0136974</td></tr><tr><th>2</th><td>β[1]</td><td>0.226125</td><td>0.774273</td><td>0.0122423</td><td>0.0969941</td><td>8.01603</td><td>61108.7</td><td>0.0136974</td></tr><tr><th>3</th><td>β[2]</td><td>-0.382241</td><td>0.638317</td><td>0.0100927</td><td>0.0805193</td><td>8.01603</td><td>23475.1</td><td>0.0136974</td></tr><tr><th>4</th><td>β[3]</td><td>-0.363344</td><td>0.619492</td><td>0.00979503</td><td>0.0785029</td><td>8.01603</td><td>1.49229e5</td><td>0.0136974</td></tr><tr><th>5</th><td>β[4]</td><td>-0.939354</td><td>0.840316</td><td>0.0132866</td><td>0.105493</td><td>8.01603</td><td>57234.7</td><td>0.0136974</td></tr><tr><th>6</th><td>σ</td><td>1.87421</td><td>1.57505</td><td>0.0249038</td><td>0.198265</td><td>8.01603</td><td>57955.4</td><td>0.0136974</td></tr><tr><th>7</th><td>ν</td><td>0.134418</td><td>0.135989</td><td>0.00215017</td><td>0.0169579</td><td>8.01603</td><td>26411.0</td><td>0.0136974</td></tr></tbody></table></div>"
      ],
      "text/latex": [
       "\\begin{tabular}{r|cccccccc}\n",
       "\t& parameters & mean & std & naive\\_se & mcse & ess & rhat & ess\\_per\\_sec\\\\\n",
       "\t\\hline\n",
       "\t& Symbol & Float64 & Float64 & Float64 & Float64 & Float64 & Float64 & Float64\\\\\n",
       "\t\\hline\n",
       "\t1 & α & -0.39103 & 1.08262 & 0.0171178 & 0.135931 & 8.01603 & 80780.2 & 0.0136974 \\\\\n",
       "\t2 & β[1] & 0.226125 & 0.774273 & 0.0122423 & 0.0969941 & 8.01603 & 61108.7 & 0.0136974 \\\\\n",
       "\t3 & β[2] & -0.382241 & 0.638317 & 0.0100927 & 0.0805193 & 8.01603 & 23475.1 & 0.0136974 \\\\\n",
       "\t4 & β[3] & -0.363344 & 0.619492 & 0.00979503 & 0.0785029 & 8.01603 & 1.49229e5 & 0.0136974 \\\\\n",
       "\t5 & β[4] & -0.939354 & 0.840316 & 0.0132866 & 0.105493 & 8.01603 & 57234.7 & 0.0136974 \\\\\n",
       "\t6 & σ & 1.87421 & 1.57505 & 0.0249038 & 0.198265 & 8.01603 & 57955.4 & 0.0136974 \\\\\n",
       "\t7 & ν & 0.134418 & 0.135989 & 0.00215017 & 0.0169579 & 8.01603 & 26411.0 & 0.0136974 \\\\\n",
       "\\end{tabular}\n"
      ],
      "text/plain": [
       "\u001b[1m7×8 DataFrame\u001b[0m\n",
       "\u001b[1m Row \u001b[0m│\u001b[1m parameters \u001b[0m\u001b[1m mean      \u001b[0m\u001b[1m std      \u001b[0m\u001b[1m naive_se   \u001b[0m\u001b[1m mcse      \u001b[0m\u001b[1m ess     \u001b[0m\u001b[1m rhat  \u001b[0m ⋯\n",
       "\u001b[1m     \u001b[0m│\u001b[90m Symbol     \u001b[0m\u001b[90m Float64   \u001b[0m\u001b[90m Float64  \u001b[0m\u001b[90m Float64    \u001b[0m\u001b[90m Float64   \u001b[0m\u001b[90m Float64 \u001b[0m\u001b[90m Float6\u001b[0m ⋯\n",
       "─────┼──────────────────────────────────────────────────────────────────────────\n",
       "   1 │ α           -0.39103   1.08262   0.0171178   0.135931   8.01603  80780. ⋯\n",
       "   2 │ β[1]         0.226125  0.774273  0.0122423   0.0969941  8.01603  61108.\n",
       "   3 │ β[2]        -0.382241  0.638317  0.0100927   0.0805193  8.01603  23475.\n",
       "   4 │ β[3]        -0.363344  0.619492  0.00979503  0.0785029  8.01603      1.\n",
       "   5 │ β[4]        -0.939354  0.840316  0.0132866   0.105493   8.01603  57234. ⋯\n",
       "   6 │ σ            1.87421   1.57505   0.0249038   0.198265   8.01603  57955.\n",
       "   7 │ ν            0.134418  0.135989  0.00215017  0.0169579  8.01603  26411.\n",
       "\u001b[36m                                                               2 columns omitted\u001b[0m"
      ]
     },
     "execution_count": 21,
     "metadata": {},
     "output_type": "execute_result"
    }
   ],
   "source": [
    "# Cadeias de Markov\n",
    "chain = sample(model, NUTS(), MCMCThreads(), 1_000, 4)\n",
    "#summarystats(chain)\n",
    "#show(summarystats(chain), allcols=true)\n",
    "DataFrame(summarystats(chain))"
   ]
  },
  {
   "cell_type": "code",
   "execution_count": 22,
   "id": "8876b940",
   "metadata": {},
   "outputs": [
    {
     "data": {
      "text/plain": [
       "Quantiles\n",
       " \u001b[1m parameters \u001b[0m \u001b[1m    2.5% \u001b[0m \u001b[1m   25.0% \u001b[0m \u001b[1m   50.0% \u001b[0m \u001b[1m   75.0% \u001b[0m \u001b[1m   97.5% \u001b[0m\n",
       " \u001b[90m     Symbol \u001b[0m \u001b[90m Float64 \u001b[0m \u001b[90m Float64 \u001b[0m \u001b[90m Float64 \u001b[0m \u001b[90m Float64 \u001b[0m \u001b[90m Float64 \u001b[0m\n",
       "\n",
       "           α   -1.5399   -1.3996   -0.5082    0.5004    0.9921\n",
       "        β[1]   -0.9850   -0.0397    0.3632    0.6291    1.1630\n",
       "        β[2]   -1.0674   -0.9619   -0.4632    0.1167    0.4645\n",
       "        β[3]   -1.4361   -0.3720   -0.0086    0.0000    0.0000\n",
       "        β[4]   -2.2187   -1.3952   -0.7694   -0.3135    0.0000\n",
       "           σ    0.4800    0.5164    1.3371    2.6951    4.3425\n",
       "           ν    0.0471    0.0542    0.0605    0.1406    0.3697\n"
      ]
     },
     "execution_count": 22,
     "metadata": {},
     "output_type": "execute_result"
    }
   ],
   "source": [
    "# Quartiles\n",
    "quantile(chain)"
   ]
  }
 ],
 "metadata": {
  "kernelspec": {
   "display_name": "Julia 1.8.0",
   "language": "julia",
   "name": "julia-1.8"
  },
  "language_info": {
   "file_extension": ".jl",
   "mimetype": "application/julia",
   "name": "julia",
   "version": "1.8.0"
  }
 },
 "nbformat": 4,
 "nbformat_minor": 5
}

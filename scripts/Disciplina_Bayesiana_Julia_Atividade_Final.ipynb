{
 "cells": [
  {
   "cell_type": "markdown",
   "id": "ec7ba2f6",
   "metadata": {},
   "source": [
    "<pre>\n",
    "<img align=\"center\" width=\"300\" src=\"https://portal.coren-sp.gov.br/wp-content/uploads/2014/11/logo%20uninove.png\">\n",
    "</pre>"
   ]
  },
  {
   "cell_type": "markdown",
   "id": "41332471",
   "metadata": {},
   "source": [
    "* __PPGI - UNINOVE__\n",
    "* Estatística Bayesiana\n",
    "* Prof. José E. Storópoli\n",
    "* Aluno: André Santos"
   ]
  },
  {
   "cell_type": "markdown",
   "id": "471ff0b7",
   "metadata": {},
   "source": [
    "### __Introdução:__\n",
    "\n",
    "Uma empresa de varejo investe parte de seus recursos destinados a publicidade em redes sociais (__LL__). Segundo um especialista em marketing digital dessa empresa investir em redes sociais reduz o custo para atingir cada pessoa na internet e consequentemente aumenta o retorno sobre o investimento (ROI - Return On Investiment). A fim de testar a hipótese levantada pelo especialista, a diretoria de marketing solicitou que fosse analisada a hipótese em questão e em caso afirmativo __quanto o investimento em redes sociais gera de retorno para a empresa?__"
   ]
  },
  {
   "cell_type": "markdown",
   "id": "cc0ea856",
   "metadata": {},
   "source": [
    "### __Metodologia:__\n",
    "\n",
    "Para analisar o investimento em redes sociais sobre a lucratividade da empresa foi aplicado um modelo Bayesiano Robusto.\n",
    "\n",
    "Optou-se pelo modelo Bayesiano Robusto, pois há outliers nos dados que não podem ser ignorados, no caso em questão é comum que o ROI seja discrepante, assumindo principalmente valores iguais a zero, o que pode fazer com que estimadores clássicos não apresentem um desempenho satisfatório. A rigor, se as suposições forem atendidas apenas aproximadamente, o estimador robusto ainda terá uma eficiência razoável e um viés razoavelmente pequeno, além de ser assintoticamente não viesado, o que significa que o viés tende a diminuir conforme o tamanho da amostra aumenta (Wikipedia, 2022).\n",
    "\n",
    "Considerando que essa amostra inicial ao longo dos meses irá aumentar de forma que seja possível periodicamente analisar a eficiência do investimento publicitário em redes sociais, então espera-se que no decorrer dos meses/anos o viés diminua conforme a amostra tenda ao infinito.\n",
    "\n",
    "Caso a hipótese levantada pelo especialista seja confirmada o coeficiente dos dados de redes sociais deve ser positivo, indicando que conforme aumenta o uso percentual desse tipo de dado o ROI, em média, também tende a aumentar em x reais."
   ]
  },
  {
   "cell_type": "markdown",
   "id": "4b00f222",
   "metadata": {},
   "source": [
    "__Variáveis do Modelo:__\n",
    "\n",
    "* __LL($X_1$)__: frequência relativa de dados de não consumidores nas redes sociais que interagiram com os anúncios da empresa.\n",
    "* __P1($X_2$)__: frequência relativa de dados de consumidores que interagiram com os anúncios da empresa.\n",
    "* __P2($X_3$)__: frequência relativa de dados de consumidores de parceiros que interagiram com os anúncios da empresa.\n",
    "* __P3($X_4$)__: frequência relativa de dados de sites de terceiros que interagiram com os anúncios da empresa.\n",
    "* __ROI($y$)__: retorno sobre o investimento em publicidade.\n"
   ]
  },
  {
   "cell_type": "markdown",
   "id": "ccd10278",
   "metadata": {},
   "source": [
    "#### Bayesian Robust Regression"
   ]
  },
  {
   "cell_type": "code",
   "execution_count": 1,
   "id": "602bf4e9",
   "metadata": {},
   "outputs": [],
   "source": [
    "# Pacotes necessários\n",
    "import Pkg\n",
    "#Pkg.add(\"StatsPlots\")\n",
    "#Pkg.add(\"Distributions\")\n",
    "#Pkg.add(\"LaTeXStrings\")\n",
    "#Pkg.add(\"DataFrames\")"
   ]
  },
  {
   "cell_type": "code",
   "execution_count": 2,
   "id": "9bad6f21",
   "metadata": {},
   "outputs": [],
   "source": [
    "# Carregar pacotes\n",
    "using StatsPlots, Distributions, LaTeXStrings, DataFrames"
   ]
  },
  {
   "cell_type": "code",
   "execution_count": 3,
   "id": "9340b035",
   "metadata": {},
   "outputs": [],
   "source": [
    "# Instalar pacotes necessários\n",
    "#Pkg.add(\"Turing\")\n",
    "#Pkg.add(\"StatsBase\")"
   ]
  },
  {
   "cell_type": "code",
   "execution_count": 4,
   "id": "6710d340",
   "metadata": {},
   "outputs": [],
   "source": [
    "# Carregar pacotes\n",
    "using Turing\n",
    "using Statistics: mean, std\n",
    "using StatsBase: mad\n",
    "using Random: seed!"
   ]
  },
  {
   "cell_type": "code",
   "execution_count": 5,
   "id": "4a1a6261",
   "metadata": {},
   "outputs": [
    {
     "data": {
      "text/plain": [
       "Random.TaskLocalRNG()"
      ]
     },
     "execution_count": 5,
     "metadata": {},
     "output_type": "execute_result"
    }
   ],
   "source": [
    "# Travar seed\n",
    "seed!(123)"
   ]
  },
  {
   "cell_type": "code",
   "execution_count": 6,
   "id": "c510b243",
   "metadata": {},
   "outputs": [],
   "source": [
    "# Modelo\n",
    "@model function robustreg(X, y; predictors=size(X, 2))\n",
    "        #priors\n",
    "        α ~ LocationScale(median(y), 2.5 * mad(y), TDist(3))\n",
    "        β ~ filldist(TDist(3), predictors)\n",
    "        σ ~ Exponential(1)\n",
    "        ν ~ LogNormal(2, 1)\n",
    "\n",
    "        #likelihood\n",
    "        y ~ arraydist(LocationScale.(α .+ X * β, σ, TDist.(ν)))\n",
    "end;"
   ]
  },
  {
   "cell_type": "code",
   "execution_count": 7,
   "id": "ad9a5a14",
   "metadata": {},
   "outputs": [
    {
     "name": "stdout",
     "output_type": "stream",
     "text": [
      "\u001b[1m5×8 DataFrame\u001b[0m\n",
      "\u001b[1m Row \u001b[0m│\u001b[1m DATA    \u001b[0m\u001b[1m MARCA   \u001b[0m\u001b[1m ORIGEM  \u001b[0m\u001b[1m LL    \u001b[0m\u001b[1m P1        \u001b[0m\u001b[1m P2       \u001b[0m\u001b[1m P3        \u001b[0m\u001b[1m ROI     \u001b[0m\n",
      "\u001b[1m     \u001b[0m│\u001b[90m String7 \u001b[0m\u001b[90m String7 \u001b[0m\u001b[90m String7 \u001b[0m\u001b[90m Int64 \u001b[0m\u001b[90m Float64   \u001b[0m\u001b[90m Float64  \u001b[0m\u001b[90m Float64   \u001b[0m\u001b[90m Float64 \u001b[0m\n",
      "─────┼───────────────────────────────────────────────────────────────────────────\n",
      "   1 │ 2021T2   Marca1   Origem1      0  9.47928e6  239975.0  3.97008e7     1.07\n",
      "   2 │ 2021T2   Marca1   Origem2      0  3.34599e7  478635.0  7.19749e7     1.23\n",
      "   3 │ 2021T2   Marca1   Origem3      0  0.0             0.0  3.92511e7     0.0\n",
      "   4 │ 2021T2   Marca2   Origem1      0  4.34418e6       0.0  1.01038e8     1.79\n",
      "   5 │ 2021T2   Marca2   Origem2      0  1.10569e7       0.0  4.24764e8     1.47\n"
     ]
    },
    {
     "data": {
      "text/html": [
       "<div class=\"data-frame\"><p>8 rows × 7 columns</p><table class=\"data-frame\"><thead><tr><th></th><th>variable</th><th>mean</th><th>min</th><th>median</th><th>max</th><th>nmissing</th><th>eltype</th></tr><tr><th></th><th title=\"Symbol\">Symbol</th><th title=\"Union{Nothing, Float64}\">Union…</th><th title=\"Any\">Any</th><th title=\"Union{Nothing, Float64}\">Union…</th><th title=\"Any\">Any</th><th title=\"Int64\">Int64</th><th title=\"DataType\">DataType</th></tr></thead><tbody><tr><th>1</th><td>DATA</td><td></td><td>2021T2</td><td></td><td>2022T1</td><td>0</td><td>String7</td></tr><tr><th>2</th><td>MARCA</td><td></td><td>Marca1</td><td></td><td>Marca6</td><td>0</td><td>String7</td></tr><tr><th>3</th><td>ORIGEM</td><td></td><td>Origem1</td><td></td><td>Origem7</td><td>0</td><td>String7</td></tr><tr><th>4</th><td>LL</td><td>4.92473e6</td><td>0</td><td>0.0</td><td>117622653</td><td>0</td><td>Int64</td></tr><tr><th>5</th><td>P1</td><td>1.47327e7</td><td>0.0</td><td>0.0</td><td>2.62589e8</td><td>0</td><td>Float64</td></tr><tr><th>6</th><td>P2</td><td>4.85276e7</td><td>0.0</td><td>3.36201e6</td><td>6.59234e8</td><td>0</td><td>Float64</td></tr><tr><th>7</th><td>P3</td><td>2.45596e7</td><td>0.0</td><td>0.0</td><td>4.24764e8</td><td>0</td><td>Float64</td></tr><tr><th>8</th><td>ROI</td><td>1.52282</td><td>0.0</td><td>1.425</td><td>7.32</td><td>0</td><td>Float64</td></tr></tbody></table></div>"
      ],
      "text/latex": [
       "\\begin{tabular}{r|ccccccc}\n",
       "\t& variable & mean & min & median & max & nmissing & eltype\\\\\n",
       "\t\\hline\n",
       "\t& Symbol & Union… & Any & Union… & Any & Int64 & DataType\\\\\n",
       "\t\\hline\n",
       "\t1 & DATA &  & 2021T2 &  & 2022T1 & 0 & String7 \\\\\n",
       "\t2 & MARCA &  & Marca1 &  & Marca6 & 0 & String7 \\\\\n",
       "\t3 & ORIGEM &  & Origem1 &  & Origem7 & 0 & String7 \\\\\n",
       "\t4 & LL & 4.92473e6 & 0 & 0.0 & 117622653 & 0 & Int64 \\\\\n",
       "\t5 & P1 & 1.47327e7 & 0.0 & 0.0 & 2.62589e8 & 0 & Float64 \\\\\n",
       "\t6 & P2 & 4.85276e7 & 0.0 & 3.36201e6 & 6.59234e8 & 0 & Float64 \\\\\n",
       "\t7 & P3 & 2.45596e7 & 0.0 & 0.0 & 4.24764e8 & 0 & Float64 \\\\\n",
       "\t8 & ROI & 1.52282 & 0.0 & 1.425 & 7.32 & 0 & Float64 \\\\\n",
       "\\end{tabular}\n"
      ],
      "text/plain": [
       "\u001b[1m8×7 DataFrame\u001b[0m\n",
       "\u001b[1m Row \u001b[0m│\u001b[1m variable \u001b[0m\u001b[1m mean      \u001b[0m\u001b[1m min     \u001b[0m\u001b[1m median    \u001b[0m\u001b[1m max       \u001b[0m\u001b[1m nmissing \u001b[0m\u001b[1m eltype   \u001b[0m\n",
       "\u001b[1m     \u001b[0m│\u001b[90m Symbol   \u001b[0m\u001b[90m Union…    \u001b[0m\u001b[90m Any     \u001b[0m\u001b[90m Union…    \u001b[0m\u001b[90m Any       \u001b[0m\u001b[90m Int64    \u001b[0m\u001b[90m DataType \u001b[0m\n",
       "─────┼────────────────────────────────────────────────────────────────────────\n",
       "   1 │ DATA     \u001b[90m           \u001b[0m 2021T2  \u001b[90m           \u001b[0m 2022T1            0  String7\n",
       "   2 │ MARCA    \u001b[90m           \u001b[0m Marca1  \u001b[90m           \u001b[0m Marca6            0  String7\n",
       "   3 │ ORIGEM   \u001b[90m           \u001b[0m Origem1 \u001b[90m           \u001b[0m Origem7           0  String7\n",
       "   4 │ LL        4.92473e6  0        0.0        117622653         0  Int64\n",
       "   5 │ P1        1.47327e7  0.0      0.0        2.62589e8         0  Float64\n",
       "   6 │ P2        4.85276e7  0.0      3.36201e6  6.59234e8         0  Float64\n",
       "   7 │ P3        2.45596e7  0.0      0.0        4.24764e8         0  Float64\n",
       "   8 │ ROI       1.52282    0.0      1.425      7.32              0  Float64"
      ]
     },
     "execution_count": 7,
     "metadata": {},
     "output_type": "execute_result"
    }
   ],
   "source": [
    "using DataFrames, CSV, HTTP\n",
    "\n",
    "url = \"https://raw.githubusercontent.com/andrelmfsantos/df/main/ppgi_bayes_base_atividade_final.csv\"\n",
    "df = CSV.read(HTTP.get(url).body, DataFrame)\n",
    "println(first(df,5))\n",
    "describe(df)"
   ]
  },
  {
   "cell_type": "markdown",
   "id": "bd18dcca",
   "metadata": {},
   "source": [
    "### Resultados"
   ]
  },
  {
   "cell_type": "code",
   "execution_count": 8,
   "id": "3340fb6c",
   "metadata": {},
   "outputs": [
    {
     "data": {
      "image/svg+xml": [
       "<?xml version=\"1.0\" encoding=\"utf-8\"?>\n",
       "<svg xmlns=\"http://www.w3.org/2000/svg\" xmlns:xlink=\"http://www.w3.org/1999/xlink\" width=\"600\" height=\"400\" viewBox=\"0 0 2400 1600\">\n",
       "<defs>\n",
       "  <clipPath id=\"clip300\">\n",
       "    <rect x=\"0\" y=\"0\" width=\"2400\" height=\"1600\"/>\n",
       "  </clipPath>\n",
       "</defs>\n",
       "<path clip-path=\"url(#clip300)\" d=\"\n",
       "M0 1600 L2400 1600 L2400 0 L0 0  Z\n",
       "  \" fill=\"#ffffff\" fill-rule=\"evenodd\" fill-opacity=\"1\"/>\n",
       "<defs>\n",
       "  <clipPath id=\"clip301\">\n",
       "    <rect x=\"480\" y=\"0\" width=\"1681\" height=\"1600\"/>\n",
       "  </clipPath>\n",
       "</defs>\n",
       "<path clip-path=\"url(#clip300)\" d=\"\n",
       "M156.598 1486.45 L2352.76 1486.45 L2352.76 47.2441 L156.598 47.2441  Z\n",
       "  \" fill=\"#ffffff\" fill-rule=\"evenodd\" fill-opacity=\"1\"/>\n",
       "<defs>\n",
       "  <clipPath id=\"clip302\">\n",
       "    <rect x=\"156\" y=\"47\" width=\"2197\" height=\"1440\"/>\n",
       "  </clipPath>\n",
       "</defs>\n",
       "<polyline clip-path=\"url(#clip302)\" style=\"stroke:#000000; stroke-linecap:round; stroke-linejoin:round; stroke-width:2; stroke-opacity:0.1; fill:none\" points=\"\n",
       "  411.053,1486.45 411.053,47.2441 \n",
       "  \"/>\n",
       "<polyline clip-path=\"url(#clip302)\" style=\"stroke:#000000; stroke-linecap:round; stroke-linejoin:round; stroke-width:2; stroke-opacity:0.1; fill:none\" points=\"\n",
       "  872.05,1486.45 872.05,47.2441 \n",
       "  \"/>\n",
       "<polyline clip-path=\"url(#clip302)\" style=\"stroke:#000000; stroke-linecap:round; stroke-linejoin:round; stroke-width:2; stroke-opacity:0.1; fill:none\" points=\"\n",
       "  1333.05,1486.45 1333.05,47.2441 \n",
       "  \"/>\n",
       "<polyline clip-path=\"url(#clip302)\" style=\"stroke:#000000; stroke-linecap:round; stroke-linejoin:round; stroke-width:2; stroke-opacity:0.1; fill:none\" points=\"\n",
       "  1794.04,1486.45 1794.04,47.2441 \n",
       "  \"/>\n",
       "<polyline clip-path=\"url(#clip302)\" style=\"stroke:#000000; stroke-linecap:round; stroke-linejoin:round; stroke-width:2; stroke-opacity:0.1; fill:none\" points=\"\n",
       "  2255.04,1486.45 2255.04,47.2441 \n",
       "  \"/>\n",
       "<polyline clip-path=\"url(#clip300)\" style=\"stroke:#000000; stroke-linecap:round; stroke-linejoin:round; stroke-width:4; stroke-opacity:1; fill:none\" points=\"\n",
       "  156.598,1486.45 2352.76,1486.45 \n",
       "  \"/>\n",
       "<polyline clip-path=\"url(#clip300)\" style=\"stroke:#000000; stroke-linecap:round; stroke-linejoin:round; stroke-width:4; stroke-opacity:1; fill:none\" points=\"\n",
       "  411.053,1486.45 411.053,1467.55 \n",
       "  \"/>\n",
       "<polyline clip-path=\"url(#clip300)\" style=\"stroke:#000000; stroke-linecap:round; stroke-linejoin:round; stroke-width:4; stroke-opacity:1; fill:none\" points=\"\n",
       "  872.05,1486.45 872.05,1467.55 \n",
       "  \"/>\n",
       "<polyline clip-path=\"url(#clip300)\" style=\"stroke:#000000; stroke-linecap:round; stroke-linejoin:round; stroke-width:4; stroke-opacity:1; fill:none\" points=\"\n",
       "  1333.05,1486.45 1333.05,1467.55 \n",
       "  \"/>\n",
       "<polyline clip-path=\"url(#clip300)\" style=\"stroke:#000000; stroke-linecap:round; stroke-linejoin:round; stroke-width:4; stroke-opacity:1; fill:none\" points=\"\n",
       "  1794.04,1486.45 1794.04,1467.55 \n",
       "  \"/>\n",
       "<polyline clip-path=\"url(#clip300)\" style=\"stroke:#000000; stroke-linecap:round; stroke-linejoin:round; stroke-width:4; stroke-opacity:1; fill:none\" points=\"\n",
       "  2255.04,1486.45 2255.04,1467.55 \n",
       "  \"/>\n",
       "<path clip-path=\"url(#clip300)\" d=\"M411.053 1517.37 Q407.442 1517.37 405.613 1520.93 Q403.807 1524.47 403.807 1531.6 Q403.807 1538.71 405.613 1542.27 Q407.442 1545.82 411.053 1545.82 Q414.687 1545.82 416.493 1542.27 Q418.321 1538.71 418.321 1531.6 Q418.321 1524.47 416.493 1520.93 Q414.687 1517.37 411.053 1517.37 M411.053 1513.66 Q416.863 1513.66 419.918 1518.27 Q422.997 1522.85 422.997 1531.6 Q422.997 1540.33 419.918 1544.94 Q416.863 1549.52 411.053 1549.52 Q405.243 1549.52 402.164 1544.94 Q399.108 1540.33 399.108 1531.6 Q399.108 1522.85 402.164 1518.27 Q405.243 1513.66 411.053 1513.66 Z\" fill=\"#000000\" fill-rule=\"evenodd\" fill-opacity=\"1\" /><path clip-path=\"url(#clip300)\" d=\"M866.702 1544.91 L883.022 1544.91 L883.022 1548.85 L861.078 1548.85 L861.078 1544.91 Q863.74 1542.16 868.323 1537.53 Q872.929 1532.88 874.11 1531.53 Q876.355 1529.01 877.235 1527.27 Q878.138 1525.51 878.138 1523.82 Q878.138 1521.07 876.193 1519.33 Q874.272 1517.6 871.17 1517.6 Q868.971 1517.6 866.517 1518.36 Q864.087 1519.13 861.309 1520.68 L861.309 1515.95 Q864.133 1514.82 866.587 1514.24 Q869.04 1513.66 871.077 1513.66 Q876.448 1513.66 879.642 1516.35 Q882.837 1519.03 882.837 1523.52 Q882.837 1525.65 882.026 1527.57 Q881.239 1529.47 879.133 1532.07 Q878.554 1532.74 875.452 1535.95 Q872.351 1539.15 866.702 1544.91 Z\" fill=\"#000000\" fill-rule=\"evenodd\" fill-opacity=\"1\" /><path clip-path=\"url(#clip300)\" d=\"M1336.06 1518.36 L1324.25 1536.81 L1336.06 1536.81 L1336.06 1518.36 M1334.83 1514.29 L1340.71 1514.29 L1340.71 1536.81 L1345.64 1536.81 L1345.64 1540.7 L1340.71 1540.7 L1340.71 1548.85 L1336.06 1548.85 L1336.06 1540.7 L1320.45 1540.7 L1320.45 1536.19 L1334.83 1514.29 Z\" fill=\"#000000\" fill-rule=\"evenodd\" fill-opacity=\"1\" /><path clip-path=\"url(#clip300)\" d=\"M1794.45 1529.7 Q1791.3 1529.7 1789.45 1531.86 Q1787.62 1534.01 1787.62 1537.76 Q1787.62 1541.49 1789.45 1543.66 Q1791.3 1545.82 1794.45 1545.82 Q1797.6 1545.82 1799.43 1543.66 Q1801.28 1541.49 1801.28 1537.76 Q1801.28 1534.01 1799.43 1531.86 Q1797.6 1529.7 1794.45 1529.7 M1803.73 1515.05 L1803.73 1519.31 Q1801.97 1518.48 1800.17 1518.04 Q1798.38 1517.6 1796.62 1517.6 Q1791.99 1517.6 1789.54 1520.72 Q1787.11 1523.85 1786.76 1530.17 Q1788.13 1528.15 1790.19 1527.09 Q1792.25 1526 1794.73 1526 Q1799.93 1526 1802.94 1529.17 Q1805.98 1532.32 1805.98 1537.76 Q1805.98 1543.08 1802.83 1546.3 Q1799.68 1549.52 1794.45 1549.52 Q1788.45 1549.52 1785.28 1544.94 Q1782.11 1540.33 1782.11 1531.6 Q1782.11 1523.41 1786 1518.55 Q1789.89 1513.66 1796.44 1513.66 Q1798.2 1513.66 1799.98 1514.01 Q1801.79 1514.36 1803.73 1515.05 Z\" fill=\"#000000\" fill-rule=\"evenodd\" fill-opacity=\"1\" /><path clip-path=\"url(#clip300)\" d=\"M2255.04 1532.44 Q2251.71 1532.44 2249.79 1534.22 Q2247.89 1536 2247.89 1539.13 Q2247.89 1542.25 2249.79 1544.03 Q2251.71 1545.82 2255.04 1545.82 Q2258.37 1545.82 2260.29 1544.03 Q2262.22 1542.23 2262.22 1539.13 Q2262.22 1536 2260.29 1534.22 Q2258.4 1532.44 2255.04 1532.44 M2250.36 1530.45 Q2247.36 1529.7 2245.67 1527.64 Q2244 1525.58 2244 1522.62 Q2244 1518.48 2246.94 1516.07 Q2249.9 1513.66 2255.04 1513.66 Q2260.2 1513.66 2263.14 1516.07 Q2266.08 1518.48 2266.08 1522.62 Q2266.08 1525.58 2264.39 1527.64 Q2262.73 1529.7 2259.74 1530.45 Q2263.12 1531.23 2264.99 1533.52 Q2266.89 1535.82 2266.89 1539.13 Q2266.89 1544.15 2263.81 1546.83 Q2260.76 1549.52 2255.04 1549.52 Q2249.32 1549.52 2246.24 1546.83 Q2243.19 1544.15 2243.19 1539.13 Q2243.19 1535.82 2245.09 1533.52 Q2246.98 1531.23 2250.36 1530.45 M2248.65 1523.06 Q2248.65 1525.75 2250.32 1527.25 Q2252.01 1528.76 2255.04 1528.76 Q2258.05 1528.76 2259.74 1527.25 Q2261.45 1525.75 2261.45 1523.06 Q2261.45 1520.38 2259.74 1518.87 Q2258.05 1517.37 2255.04 1517.37 Q2252.01 1517.37 2250.32 1518.87 Q2248.65 1520.38 2248.65 1523.06 Z\" fill=\"#000000\" fill-rule=\"evenodd\" fill-opacity=\"1\" /><polyline clip-path=\"url(#clip302)\" style=\"stroke:#000000; stroke-linecap:round; stroke-linejoin:round; stroke-width:2; stroke-opacity:0.1; fill:none\" points=\"\n",
       "  156.598,1445.72 2352.76,1445.72 \n",
       "  \"/>\n",
       "<polyline clip-path=\"url(#clip302)\" style=\"stroke:#000000; stroke-linecap:round; stroke-linejoin:round; stroke-width:2; stroke-opacity:0.1; fill:none\" points=\"\n",
       "  156.598,1225.09 2352.76,1225.09 \n",
       "  \"/>\n",
       "<polyline clip-path=\"url(#clip302)\" style=\"stroke:#000000; stroke-linecap:round; stroke-linejoin:round; stroke-width:2; stroke-opacity:0.1; fill:none\" points=\"\n",
       "  156.598,1004.46 2352.76,1004.46 \n",
       "  \"/>\n",
       "<polyline clip-path=\"url(#clip302)\" style=\"stroke:#000000; stroke-linecap:round; stroke-linejoin:round; stroke-width:2; stroke-opacity:0.1; fill:none\" points=\"\n",
       "  156.598,783.834 2352.76,783.834 \n",
       "  \"/>\n",
       "<polyline clip-path=\"url(#clip302)\" style=\"stroke:#000000; stroke-linecap:round; stroke-linejoin:round; stroke-width:2; stroke-opacity:0.1; fill:none\" points=\"\n",
       "  156.598,563.206 2352.76,563.206 \n",
       "  \"/>\n",
       "<polyline clip-path=\"url(#clip302)\" style=\"stroke:#000000; stroke-linecap:round; stroke-linejoin:round; stroke-width:2; stroke-opacity:0.1; fill:none\" points=\"\n",
       "  156.598,342.579 2352.76,342.579 \n",
       "  \"/>\n",
       "<polyline clip-path=\"url(#clip302)\" style=\"stroke:#000000; stroke-linecap:round; stroke-linejoin:round; stroke-width:2; stroke-opacity:0.1; fill:none\" points=\"\n",
       "  156.598,121.952 2352.76,121.952 \n",
       "  \"/>\n",
       "<polyline clip-path=\"url(#clip300)\" style=\"stroke:#000000; stroke-linecap:round; stroke-linejoin:round; stroke-width:4; stroke-opacity:1; fill:none\" points=\"\n",
       "  156.598,1486.45 156.598,47.2441 \n",
       "  \"/>\n",
       "<polyline clip-path=\"url(#clip300)\" style=\"stroke:#000000; stroke-linecap:round; stroke-linejoin:round; stroke-width:4; stroke-opacity:1; fill:none\" points=\"\n",
       "  156.598,1445.72 175.496,1445.72 \n",
       "  \"/>\n",
       "<polyline clip-path=\"url(#clip300)\" style=\"stroke:#000000; stroke-linecap:round; stroke-linejoin:round; stroke-width:4; stroke-opacity:1; fill:none\" points=\"\n",
       "  156.598,1225.09 175.496,1225.09 \n",
       "  \"/>\n",
       "<polyline clip-path=\"url(#clip300)\" style=\"stroke:#000000; stroke-linecap:round; stroke-linejoin:round; stroke-width:4; stroke-opacity:1; fill:none\" points=\"\n",
       "  156.598,1004.46 175.496,1004.46 \n",
       "  \"/>\n",
       "<polyline clip-path=\"url(#clip300)\" style=\"stroke:#000000; stroke-linecap:round; stroke-linejoin:round; stroke-width:4; stroke-opacity:1; fill:none\" points=\"\n",
       "  156.598,783.834 175.496,783.834 \n",
       "  \"/>\n",
       "<polyline clip-path=\"url(#clip300)\" style=\"stroke:#000000; stroke-linecap:round; stroke-linejoin:round; stroke-width:4; stroke-opacity:1; fill:none\" points=\"\n",
       "  156.598,563.206 175.496,563.206 \n",
       "  \"/>\n",
       "<polyline clip-path=\"url(#clip300)\" style=\"stroke:#000000; stroke-linecap:round; stroke-linejoin:round; stroke-width:4; stroke-opacity:1; fill:none\" points=\"\n",
       "  156.598,342.579 175.496,342.579 \n",
       "  \"/>\n",
       "<polyline clip-path=\"url(#clip300)\" style=\"stroke:#000000; stroke-linecap:round; stroke-linejoin:round; stroke-width:4; stroke-opacity:1; fill:none\" points=\"\n",
       "  156.598,121.952 175.496,121.952 \n",
       "  \"/>\n",
       "<path clip-path=\"url(#clip300)\" d=\"M63.4226 1431.51 Q59.8115 1431.51 57.9828 1435.08 Q56.1773 1438.62 56.1773 1445.75 Q56.1773 1452.86 57.9828 1456.42 Q59.8115 1459.96 63.4226 1459.96 Q67.0569 1459.96 68.8624 1456.42 Q70.6911 1452.86 70.6911 1445.75 Q70.6911 1438.62 68.8624 1435.08 Q67.0569 1431.51 63.4226 1431.51 M63.4226 1427.81 Q69.2328 1427.81 72.2883 1432.42 Q75.367 1437 75.367 1445.75 Q75.367 1454.48 72.2883 1459.08 Q69.2328 1463.67 63.4226 1463.67 Q57.6125 1463.67 54.5338 1459.08 Q51.4782 1454.48 51.4782 1445.75 Q51.4782 1437 54.5338 1432.42 Q57.6125 1427.81 63.4226 1427.81 Z\" fill=\"#000000\" fill-rule=\"evenodd\" fill-opacity=\"1\" /><path clip-path=\"url(#clip300)\" d=\"M83.5845 1457.12 L88.4688 1457.12 L88.4688 1463 L83.5845 1463 L83.5845 1457.12 Z\" fill=\"#000000\" fill-rule=\"evenodd\" fill-opacity=\"1\" /><path clip-path=\"url(#clip300)\" d=\"M108.654 1431.51 Q105.043 1431.51 103.214 1435.08 Q101.409 1438.62 101.409 1445.75 Q101.409 1452.86 103.214 1456.42 Q105.043 1459.96 108.654 1459.96 Q112.288 1459.96 114.094 1456.42 Q115.922 1452.86 115.922 1445.75 Q115.922 1438.62 114.094 1435.08 Q112.288 1431.51 108.654 1431.51 M108.654 1427.81 Q114.464 1427.81 117.52 1432.42 Q120.598 1437 120.598 1445.75 Q120.598 1454.48 117.52 1459.08 Q114.464 1463.67 108.654 1463.67 Q102.844 1463.67 99.765 1459.08 Q96.7095 1454.48 96.7095 1445.75 Q96.7095 1437 99.765 1432.42 Q102.844 1427.81 108.654 1427.81 Z\" fill=\"#000000\" fill-rule=\"evenodd\" fill-opacity=\"1\" /><path clip-path=\"url(#clip300)\" d=\"M64.6495 1210.89 Q61.0384 1210.89 59.2097 1214.45 Q57.4041 1217.99 57.4041 1225.12 Q57.4041 1232.23 59.2097 1235.79 Q61.0384 1239.34 64.6495 1239.34 Q68.2837 1239.34 70.0892 1235.79 Q71.9179 1232.23 71.9179 1225.12 Q71.9179 1217.99 70.0892 1214.45 Q68.2837 1210.89 64.6495 1210.89 M64.6495 1207.18 Q70.4596 1207.18 73.5152 1211.79 Q76.5938 1216.37 76.5938 1225.12 Q76.5938 1233.85 73.5152 1238.46 Q70.4596 1243.04 64.6495 1243.04 Q58.8393 1243.04 55.7606 1238.46 Q52.7051 1233.85 52.7051 1225.12 Q52.7051 1216.37 55.7606 1211.79 Q58.8393 1207.18 64.6495 1207.18 Z\" fill=\"#000000\" fill-rule=\"evenodd\" fill-opacity=\"1\" /><path clip-path=\"url(#clip300)\" d=\"M84.8114 1236.49 L89.6956 1236.49 L89.6956 1242.37 L84.8114 1242.37 L84.8114 1236.49 Z\" fill=\"#000000\" fill-rule=\"evenodd\" fill-opacity=\"1\" /><path clip-path=\"url(#clip300)\" d=\"M100.691 1238.43 L108.33 1238.43 L108.33 1212.07 L100.02 1213.73 L100.02 1209.48 L108.283 1207.81 L112.959 1207.81 L112.959 1238.43 L120.598 1238.43 L120.598 1242.37 L100.691 1242.37 L100.691 1238.43 Z\" fill=\"#000000\" fill-rule=\"evenodd\" fill-opacity=\"1\" /><path clip-path=\"url(#clip300)\" d=\"M65.0198 990.26 Q61.4087 990.26 59.58 993.825 Q57.7745 997.366 57.7745 1004.5 Q57.7745 1011.6 59.58 1015.17 Q61.4087 1018.71 65.0198 1018.71 Q68.6541 1018.71 70.4596 1015.17 Q72.2883 1011.6 72.2883 1004.5 Q72.2883 997.366 70.4596 993.825 Q68.6541 990.26 65.0198 990.26 M65.0198 986.556 Q70.83 986.556 73.8855 991.163 Q76.9642 995.746 76.9642 1004.5 Q76.9642 1013.22 73.8855 1017.83 Q70.83 1022.41 65.0198 1022.41 Q59.2097 1022.41 56.131 1017.83 Q53.0754 1013.22 53.0754 1004.5 Q53.0754 995.746 56.131 991.163 Q59.2097 986.556 65.0198 986.556 Z\" fill=\"#000000\" fill-rule=\"evenodd\" fill-opacity=\"1\" /><path clip-path=\"url(#clip300)\" d=\"M85.1818 1015.86 L90.066 1015.86 L90.066 1021.74 L85.1818 1021.74 L85.1818 1015.86 Z\" fill=\"#000000\" fill-rule=\"evenodd\" fill-opacity=\"1\" /><path clip-path=\"url(#clip300)\" d=\"M104.279 1017.81 L120.598 1017.81 L120.598 1021.74 L98.6539 1021.74 L98.6539 1017.81 Q101.316 1015.05 105.899 1010.42 Q110.506 1005.77 111.686 1004.43 Q113.932 1001.9 114.811 1000.17 Q115.714 998.408 115.714 996.718 Q115.714 993.963 113.77 992.227 Q111.848 990.491 108.746 990.491 Q106.547 990.491 104.094 991.255 Q101.663 992.019 98.8854 993.57 L98.8854 988.848 Q101.709 987.713 104.163 987.135 Q106.617 986.556 108.654 986.556 Q114.024 986.556 117.219 989.241 Q120.413 991.926 120.413 996.417 Q120.413 998.547 119.603 1000.47 Q118.816 1002.37 116.709 1004.96 Q116.131 1005.63 113.029 1008.85 Q109.927 1012.04 104.279 1017.81 Z\" fill=\"#000000\" fill-rule=\"evenodd\" fill-opacity=\"1\" /><path clip-path=\"url(#clip300)\" d=\"M64.0708 769.632 Q60.4597 769.632 58.631 773.197 Q56.8254 776.739 56.8254 783.868 Q56.8254 790.975 58.631 794.54 Q60.4597 798.081 64.0708 798.081 Q67.705 798.081 69.5105 794.54 Q71.3392 790.975 71.3392 783.868 Q71.3392 776.739 69.5105 773.197 Q67.705 769.632 64.0708 769.632 M64.0708 765.929 Q69.8809 765.929 72.9365 770.535 Q76.0151 775.119 76.0151 783.868 Q76.0151 792.595 72.9365 797.202 Q69.8809 801.785 64.0708 801.785 Q58.2606 801.785 55.1819 797.202 Q52.1264 792.595 52.1264 783.868 Q52.1264 775.119 55.1819 770.535 Q58.2606 765.929 64.0708 765.929 Z\" fill=\"#000000\" fill-rule=\"evenodd\" fill-opacity=\"1\" /><path clip-path=\"url(#clip300)\" d=\"M84.2327 795.234 L89.1169 795.234 L89.1169 801.114 L84.2327 801.114 L84.2327 795.234 Z\" fill=\"#000000\" fill-rule=\"evenodd\" fill-opacity=\"1\" /><path clip-path=\"url(#clip300)\" d=\"M113.469 782.48 Q116.825 783.197 118.7 785.466 Q120.598 787.734 120.598 791.068 Q120.598 796.183 117.08 798.984 Q113.561 801.785 107.08 801.785 Q104.904 801.785 102.589 801.345 Q100.297 800.929 97.8437 800.072 L97.8437 795.558 Q99.7882 796.692 102.103 797.271 Q104.418 797.85 106.941 797.85 Q111.339 797.85 113.631 796.114 Q115.945 794.378 115.945 791.068 Q115.945 788.012 113.793 786.299 Q111.663 784.563 107.844 784.563 L103.816 784.563 L103.816 780.72 L108.029 780.72 Q111.478 780.72 113.307 779.355 Q115.135 777.966 115.135 775.373 Q115.135 772.711 113.237 771.299 Q111.362 769.864 107.844 769.864 Q105.922 769.864 103.723 770.281 Q101.524 770.697 98.8854 771.577 L98.8854 767.41 Q101.547 766.67 103.862 766.299 Q106.2 765.929 108.26 765.929 Q113.584 765.929 116.686 768.359 Q119.788 770.767 119.788 774.887 Q119.788 777.757 118.145 779.748 Q116.501 781.716 113.469 782.48 Z\" fill=\"#000000\" fill-rule=\"evenodd\" fill-opacity=\"1\" /><path clip-path=\"url(#clip300)\" d=\"M62.9365 549.005 Q59.3254 549.005 57.4967 552.57 Q55.6912 556.112 55.6912 563.241 Q55.6912 570.348 57.4967 573.912 Q59.3254 577.454 62.9365 577.454 Q66.5707 577.454 68.3763 573.912 Q70.205 570.348 70.205 563.241 Q70.205 556.112 68.3763 552.57 Q66.5707 549.005 62.9365 549.005 M62.9365 545.301 Q68.7467 545.301 71.8022 549.908 Q74.8809 554.491 74.8809 563.241 Q74.8809 571.968 71.8022 576.574 Q68.7467 581.158 62.9365 581.158 Q57.1264 581.158 54.0477 576.574 Q50.9921 571.968 50.9921 563.241 Q50.9921 554.491 54.0477 549.908 Q57.1264 545.301 62.9365 545.301 Z\" fill=\"#000000\" fill-rule=\"evenodd\" fill-opacity=\"1\" /><path clip-path=\"url(#clip300)\" d=\"M83.0984 574.607 L87.9827 574.607 L87.9827 580.486 L83.0984 580.486 L83.0984 574.607 Z\" fill=\"#000000\" fill-rule=\"evenodd\" fill-opacity=\"1\" /><path clip-path=\"url(#clip300)\" d=\"M111.015 550 L99.2095 568.449 L111.015 568.449 L111.015 550 M109.788 545.926 L115.668 545.926 L115.668 568.449 L120.598 568.449 L120.598 572.338 L115.668 572.338 L115.668 580.486 L111.015 580.486 L111.015 572.338 L95.4132 572.338 L95.4132 567.824 L109.788 545.926 Z\" fill=\"#000000\" fill-rule=\"evenodd\" fill-opacity=\"1\" /><path clip-path=\"url(#clip300)\" d=\"M64.418 328.378 Q60.8069 328.378 58.9782 331.943 Q57.1726 335.484 57.1726 342.614 Q57.1726 349.72 58.9782 353.285 Q60.8069 356.827 64.418 356.827 Q68.0522 356.827 69.8578 353.285 Q71.6865 349.72 71.6865 342.614 Q71.6865 335.484 69.8578 331.943 Q68.0522 328.378 64.418 328.378 M64.418 324.674 Q70.2281 324.674 73.2837 329.281 Q76.3624 333.864 76.3624 342.614 Q76.3624 351.341 73.2837 355.947 Q70.2281 360.53 64.418 360.53 Q58.6078 360.53 55.5291 355.947 Q52.4736 351.341 52.4736 342.614 Q52.4736 333.864 55.5291 329.281 Q58.6078 324.674 64.418 324.674 Z\" fill=\"#000000\" fill-rule=\"evenodd\" fill-opacity=\"1\" /><path clip-path=\"url(#clip300)\" d=\"M84.5799 353.98 L89.4641 353.98 L89.4641 359.859 L84.5799 359.859 L84.5799 353.98 Z\" fill=\"#000000\" fill-rule=\"evenodd\" fill-opacity=\"1\" /><path clip-path=\"url(#clip300)\" d=\"M99.6956 325.299 L118.052 325.299 L118.052 329.234 L103.978 329.234 L103.978 337.706 Q104.996 337.359 106.015 337.197 Q107.033 337.012 108.052 337.012 Q113.839 337.012 117.219 340.183 Q120.598 343.355 120.598 348.771 Q120.598 354.35 117.126 357.452 Q113.654 360.53 107.334 360.53 Q105.159 360.53 102.89 360.16 Q100.645 359.79 98.2372 359.049 L98.2372 354.35 Q100.321 355.484 102.543 356.04 Q104.765 356.595 107.242 356.595 Q111.246 356.595 113.584 354.489 Q115.922 352.382 115.922 348.771 Q115.922 345.16 113.584 343.054 Q111.246 340.947 107.242 340.947 Q105.367 340.947 103.492 341.364 Q101.64 341.781 99.6956 342.66 L99.6956 325.299 Z\" fill=\"#000000\" fill-rule=\"evenodd\" fill-opacity=\"1\" /><path clip-path=\"url(#clip300)\" d=\"M63.2606 107.75 Q59.6495 107.75 57.8208 111.315 Q56.0152 114.857 56.0152 121.987 Q56.0152 129.093 57.8208 132.658 Q59.6495 136.199 63.2606 136.199 Q66.8948 136.199 68.7004 132.658 Q70.5291 129.093 70.5291 121.987 Q70.5291 114.857 68.7004 111.315 Q66.8948 107.75 63.2606 107.75 M63.2606 104.047 Q69.0707 104.047 72.1263 108.653 Q75.205 113.237 75.205 121.987 Q75.205 130.713 72.1263 135.32 Q69.0707 139.903 63.2606 139.903 Q57.4504 139.903 54.3717 135.32 Q51.3162 130.713 51.3162 121.987 Q51.3162 113.237 54.3717 108.653 Q57.4504 104.047 63.2606 104.047 Z\" fill=\"#000000\" fill-rule=\"evenodd\" fill-opacity=\"1\" /><path clip-path=\"url(#clip300)\" d=\"M83.4225 133.352 L88.3067 133.352 L88.3067 139.232 L83.4225 139.232 L83.4225 133.352 Z\" fill=\"#000000\" fill-rule=\"evenodd\" fill-opacity=\"1\" /><path clip-path=\"url(#clip300)\" d=\"M109.071 120.088 Q105.922 120.088 104.071 122.241 Q102.242 124.394 102.242 128.144 Q102.242 131.871 104.071 134.047 Q105.922 136.199 109.071 136.199 Q112.219 136.199 114.047 134.047 Q115.899 131.871 115.899 128.144 Q115.899 124.394 114.047 122.241 Q112.219 120.088 109.071 120.088 M118.353 105.436 L118.353 109.695 Q116.594 108.862 114.788 108.422 Q113.006 107.982 111.246 107.982 Q106.617 107.982 104.163 111.107 Q101.733 114.232 101.385 120.551 Q102.751 118.537 104.811 117.473 Q106.871 116.385 109.348 116.385 Q114.557 116.385 117.566 119.556 Q120.598 122.704 120.598 128.144 Q120.598 133.468 117.45 136.686 Q114.302 139.903 109.071 139.903 Q103.075 139.903 99.9039 135.32 Q96.7326 130.713 96.7326 121.987 Q96.7326 113.792 100.621 108.931 Q104.51 104.047 111.061 104.047 Q112.82 104.047 114.603 104.394 Q116.408 104.741 118.353 105.436 Z\" fill=\"#000000\" fill-rule=\"evenodd\" fill-opacity=\"1\" /><polyline clip-path=\"url(#clip302)\" style=\"stroke:#009af9; stroke-linecap:round; stroke-linejoin:round; stroke-width:4; stroke-opacity:1; fill:none\" points=\"\n",
       "  218.754,1445.37 229.165,1444.94 239.576,1444.02 249.988,1442.15 260.399,1438.58 270.81,1432.08 281.221,1420.84 291.633,1402.38 302.044,1373.64 312.455,1331.27 \n",
       "  322.867,1272.25 333.278,1194.7 343.689,1098.95 354.1,988.385 364.512,869.89 374.923,753.542 385.334,651.379 395.746,575.43 406.157,535.411 416.568,536.678 \n",
       "  426.979,579.058 437.391,656.877 447.802,760.21 458.213,876.94 468.625,995.056 479.036,1104.57 489.447,1198.63 499.858,1273.76 510.27,1329.3 520.681,1366.45 \n",
       "  531.092,1387.12 541.504,1393.06 551.915,1385.27 562.326,1363.78 572.738,1327.84 583.149,1276.29 593.56,1208.19 603.971,1123.4 614.383,1023.03 624.794,909.724 \n",
       "  635.205,787.61 645.617,661.927 656.028,538.46 666.439,422.883 676.85,320.147 687.262,234.067 697.673,167.136 708.084,120.56 718.496,94.4372 728.907,87.9763 \n",
       "  739.318,99.6863 749.729,127.509 760.141,168.912 770.552,221.002 780.963,280.692 791.375,344.951 801.786,411.086 812.197,477.002 822.609,541.342 833.02,603.48 \n",
       "  843.431,663.342 853.842,721.127 864.254,777.005 874.665,830.897 885.076,882.389 895.488,930.792 905.899,975.322 916.31,1015.3 926.721,1050.31 937.133,1080.29 \n",
       "  947.544,1105.46 957.955,1126.23 968.367,1143.08 978.778,1156.46 989.189,1166.76 999.6,1174.36 1010.01,1179.66 1020.42,1183.2 1030.83,1185.65 1041.25,1187.79 \n",
       "  1051.66,1190.48 1062.07,1194.49 1072.48,1200.47 1082.89,1208.78 1093.3,1219.54 1103.71,1232.58 1114.12,1247.51 1124.54,1263.8 1134.95,1280.86 1145.36,1298.09 \n",
       "  1155.77,1314.92 1166.18,1330.85 1176.59,1345.45 1187,1358.39 1197.41,1369.4 1207.83,1378.35 1218.24,1385.2 1228.65,1390.01 1239.06,1392.95 1249.47,1394.25 \n",
       "  1259.88,1394.17 1270.29,1393.03 1280.71,1391.14 1291.12,1388.82 1301.53,1386.39 1311.94,1384.19 1322.35,1382.49 1332.76,1381.5 1343.17,1381.29 1353.58,1381.79 \n",
       "  1364,1382.73 1374.41,1383.74 1384.82,1384.33 1395.23,1384.07 1405.64,1382.63 1416.05,1379.92 1426.46,1376.15 1436.87,1371.77 1447.29,1367.48 1457.7,1364.05 \n",
       "  1468.11,1362.21 1478.52,1362.49 1488.93,1365.17 1499.34,1370.18 1509.75,1377.19 1520.16,1385.64 1530.58,1394.87 1540.99,1404.19 1551.4,1413.02 1561.81,1420.9 \n",
       "  1572.22,1427.59 1582.63,1432.97 1593.04,1437.1 1603.46,1440.12 1613.87,1442.22 1624.28,1443.63 1634.69,1444.52 1645.1,1445.05 1655.51,1445.37 1665.92,1445.54 \n",
       "  1676.33,1445.63 1686.75,1445.68 1697.16,1445.7 1707.57,1445.71 1717.98,1445.71 1728.39,1445.71 1738.8,1445.72 1749.21,1445.72 1759.62,1445.72 1770.04,1445.72 \n",
       "  1780.45,1445.72 1790.86,1445.72 1801.27,1445.72 1811.68,1445.71 1822.09,1445.71 1832.5,1445.71 1842.91,1445.7 1853.33,1445.69 1863.74,1445.65 1874.15,1445.59 \n",
       "  1884.56,1445.46 1894.97,1445.24 1905.38,1444.87 1915.79,1444.27 1926.21,1443.34 1936.62,1441.99 1947.03,1440.12 1957.44,1437.63 1967.85,1434.5 1978.26,1430.73 \n",
       "  1988.67,1426.38 1999.08,1421.58 2009.5,1416.48 2019.91,1411.27 2030.32,1406.15 2040.73,1401.36 2051.14,1397.14 2061.55,1393.8 2071.96,1391.64 2082.37,1390.94 \n",
       "  2092.79,1391.89 2103.2,1394.55 2113.61,1398.77 2124.02,1404.24 2134.43,1410.5 2144.84,1417.02 2155.25,1423.31 2165.67,1428.96 2176.08,1433.72 2186.49,1437.51 \n",
       "  2196.9,1440.35 2207.31,1442.36 2217.72,1443.71 2228.13,1444.57 2238.54,1445.09 2248.96,1445.39 2259.37,1445.55 2269.78,1445.62 2280.19,1445.63 2290.6,1445.56 \n",
       "  \n",
       "  \"/>\n",
       "</svg>\n"
      ]
     },
     "execution_count": 8,
     "metadata": {},
     "output_type": "execute_result"
    }
   ],
   "source": [
    "# Densidade\n",
    "@df df density(:ROI, label=false)"
   ]
  },
  {
   "cell_type": "code",
   "execution_count": 9,
   "id": "8756e914",
   "metadata": {},
   "outputs": [],
   "source": [
    "# Instanciar os dados\n",
    "X = Matrix(select(df, [:LL,:P1,:P2,:P3]))\n",
    "y = df[:, :ROI]\n",
    "model = robustreg(X, y);"
   ]
  },
  {
   "cell_type": "code",
   "execution_count": 10,
   "id": "ed2cc974",
   "metadata": {},
   "outputs": [
    {
     "name": "stderr",
     "output_type": "stream",
     "text": [
      "┌ Warning: Only a single thread available: MCMC chains are not sampled in parallel\n",
      "└ @ AbstractMCMC C:\\Users\\User\\.julia\\packages\\AbstractMCMC\\fnRmh\\src\\sample.jl:291\n",
      "┌ Info: Found initial step size\n",
      "│   ϵ = 0.0125\n",
      "└ @ Turing.Inference C:\\Users\\User\\.julia\\packages\\Turing\\szPqN\\src\\inference\\hmc.jl:191\n",
      "┌ Info: Found initial step size\n",
      "│   ϵ = 0.01168818473815918\n",
      "└ @ Turing.Inference C:\\Users\\User\\.julia\\packages\\Turing\\szPqN\\src\\inference\\hmc.jl:191\n",
      "┌ Info: Found initial step size\n",
      "│   ϵ = 0.05\n",
      "└ @ Turing.Inference C:\\Users\\User\\.julia\\packages\\Turing\\szPqN\\src\\inference\\hmc.jl:191\n",
      "┌ Info: Found initial step size\n",
      "│   ϵ = 0.2\n",
      "└ @ Turing.Inference C:\\Users\\User\\.julia\\packages\\Turing\\szPqN\\src\\inference\\hmc.jl:191\n",
      "\u001b[32mSampling (1 threads): 100%|█████████████████████████████| Time: 0:06:03\u001b[39m\n"
     ]
    },
    {
     "data": {
      "text/html": [
       "<div class=\"data-frame\"><p>7 rows × 8 columns</p><table class=\"data-frame\"><thead><tr><th></th><th>parameters</th><th>mean</th><th>std</th><th>naive_se</th><th>mcse</th><th>ess</th><th>rhat</th><th>ess_per_sec</th></tr><tr><th></th><th title=\"Symbol\">Symbol</th><th title=\"Float64\">Float64</th><th title=\"Float64\">Float64</th><th title=\"Float64\">Float64</th><th title=\"Float64\">Float64</th><th title=\"Float64\">Float64</th><th title=\"Float64\">Float64</th><th title=\"Float64\">Float64</th></tr></thead><tbody><tr><th>1</th><td>α</td><td>-0.695912</td><td>0.963196</td><td>0.0152295</td><td>0.121787</td><td>8.01603</td><td>6735.88</td><td>0.01532</td></tr><tr><th>2</th><td>β[1]</td><td>1.15131</td><td>0.43762</td><td>0.00691938</td><td>0.0554312</td><td>8.01603</td><td>5909.59</td><td>0.01532</td></tr><tr><th>3</th><td>β[2]</td><td>-0.170862</td><td>0.920783</td><td>0.0145589</td><td>0.11591</td><td>8.01603</td><td>15266.0</td><td>0.01532</td></tr><tr><th>4</th><td>β[3]</td><td>-0.237161</td><td>0.189971</td><td>0.0030037</td><td>0.0239456</td><td>8.01603</td><td>9664.35</td><td>0.01532</td></tr><tr><th>5</th><td>β[4]</td><td>-0.0518956</td><td>0.731039</td><td>0.0115587</td><td>0.0918779</td><td>8.01603</td><td>6170.25</td><td>0.01532</td></tr><tr><th>6</th><td>σ</td><td>1.186</td><td>1.2073</td><td>0.019089</td><td>0.15299</td><td>8.01603</td><td>4880.71</td><td>0.01532</td></tr><tr><th>7</th><td>ν</td><td>1.01981</td><td>0.933754</td><td>0.0147639</td><td>0.117802</td><td>8.01603</td><td>4573.63</td><td>0.01532</td></tr></tbody></table></div>"
      ],
      "text/latex": [
       "\\begin{tabular}{r|cccccccc}\n",
       "\t& parameters & mean & std & naive\\_se & mcse & ess & rhat & ess\\_per\\_sec\\\\\n",
       "\t\\hline\n",
       "\t& Symbol & Float64 & Float64 & Float64 & Float64 & Float64 & Float64 & Float64\\\\\n",
       "\t\\hline\n",
       "\t1 & α & -0.695912 & 0.963196 & 0.0152295 & 0.121787 & 8.01603 & 6735.88 & 0.01532 \\\\\n",
       "\t2 & β[1] & 1.15131 & 0.43762 & 0.00691938 & 0.0554312 & 8.01603 & 5909.59 & 0.01532 \\\\\n",
       "\t3 & β[2] & -0.170862 & 0.920783 & 0.0145589 & 0.11591 & 8.01603 & 15266.0 & 0.01532 \\\\\n",
       "\t4 & β[3] & -0.237161 & 0.189971 & 0.0030037 & 0.0239456 & 8.01603 & 9664.35 & 0.01532 \\\\\n",
       "\t5 & β[4] & -0.0518956 & 0.731039 & 0.0115587 & 0.0918779 & 8.01603 & 6170.25 & 0.01532 \\\\\n",
       "\t6 & σ & 1.186 & 1.2073 & 0.019089 & 0.15299 & 8.01603 & 4880.71 & 0.01532 \\\\\n",
       "\t7 & ν & 1.01981 & 0.933754 & 0.0147639 & 0.117802 & 8.01603 & 4573.63 & 0.01532 \\\\\n",
       "\\end{tabular}\n"
      ],
      "text/plain": [
       "\u001b[1m7×8 DataFrame\u001b[0m\n",
       "\u001b[1m Row \u001b[0m│\u001b[1m parameters \u001b[0m\u001b[1m mean       \u001b[0m\u001b[1m std      \u001b[0m\u001b[1m naive_se   \u001b[0m\u001b[1m mcse      \u001b[0m\u001b[1m ess     \u001b[0m\u001b[1m rhat \u001b[0m ⋯\n",
       "\u001b[1m     \u001b[0m│\u001b[90m Symbol     \u001b[0m\u001b[90m Float64    \u001b[0m\u001b[90m Float64  \u001b[0m\u001b[90m Float64    \u001b[0m\u001b[90m Float64   \u001b[0m\u001b[90m Float64 \u001b[0m\u001b[90m Float\u001b[0m ⋯\n",
       "─────┼──────────────────────────────────────────────────────────────────────────\n",
       "   1 │ α           -0.695912   0.963196  0.0152295   0.121787   8.01603   6735 ⋯\n",
       "   2 │ β[1]         1.15131    0.43762   0.00691938  0.0554312  8.01603   5909\n",
       "   3 │ β[2]        -0.170862   0.920783  0.0145589   0.11591    8.01603  15266\n",
       "   4 │ β[3]        -0.237161   0.189971  0.0030037   0.0239456  8.01603   9664\n",
       "   5 │ β[4]        -0.0518956  0.731039  0.0115587   0.0918779  8.01603   6170 ⋯\n",
       "   6 │ σ            1.186      1.2073    0.019089    0.15299    8.01603   4880\n",
       "   7 │ ν            1.01981    0.933754  0.0147639   0.117802   8.01603   4573\n",
       "\u001b[36m                                                               2 columns omitted\u001b[0m"
      ]
     },
     "execution_count": 10,
     "metadata": {},
     "output_type": "execute_result"
    }
   ],
   "source": [
    "# Cadeias de Markov\n",
    "chain = sample(model, NUTS(), MCMCThreads(), 1_000, 4)\n",
    "#summarystats(chain)\n",
    "#show(summarystats(chain), allcols=true)\n",
    "DataFrame(summarystats(chain))"
   ]
  },
  {
   "cell_type": "markdown",
   "id": "d442663d",
   "metadata": {},
   "source": [
    "### Conclusão\n",
    "\n",
    "Como pode ser observado nos resultados apresentados devemos aceitar a hipótese levantada pelo especialista de que investir em publicidade nas redes sociais tende a melhorar o desempenho da empresa. O coeficiente que representa o investimento em redes sociais ($\\beta_1$) é positivo, ou seja, a cada um ponto percentual de aumento em redes sociais tende, em média, a aumentar a lucratividade (ROI) da empresa em R$1,15."
   ]
  },
  {
   "cell_type": "markdown",
   "id": "d06d8bd4",
   "metadata": {},
   "source": [
    "__Referências:__\n",
    "\n",
    "* Wikipedia contributors. (2022, September 27). Robust statistics. In Wikipedia, The Free Encyclopedia. Retrieved 23:23, December 5, 2022, from https://en.wikipedia.org/w/index.php?title=Robust_statistics&oldid=1112685885\n",
    "\n",
    "* Storopoli, J.E. (2022). Robust Bayesian Regression. In Bayesian Statistics using Julia and Turing, from https://storopoli.github.io/Bayesian-Julia/pages/10_robust_reg/"
   ]
  }
 ],
 "metadata": {
  "kernelspec": {
   "display_name": "Julia 1.8.0",
   "language": "julia",
   "name": "julia-1.8"
  },
  "language_info": {
   "file_extension": ".jl",
   "mimetype": "application/julia",
   "name": "julia",
   "version": "1.8.0"
  }
 },
 "nbformat": 4,
 "nbformat_minor": 5
}

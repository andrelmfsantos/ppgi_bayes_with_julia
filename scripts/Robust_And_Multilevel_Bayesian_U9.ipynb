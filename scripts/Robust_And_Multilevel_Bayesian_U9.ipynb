{
 "cells": [
  {
   "cell_type": "markdown",
   "id": "de0484a7",
   "metadata": {},
   "source": [
    "# Modelo robusto"
   ]
  },
  {
   "cell_type": "markdown",
   "id": "21990fd3",
   "metadata": {},
   "source": [
    "[Fonte: storopoli](https://storopoli.github.io/Bayesian-Julia/pages/11_multilevel_models/)"
   ]
  },
  {
   "cell_type": "code",
   "execution_count": 6,
   "id": "7168d87d",
   "metadata": {},
   "outputs": [],
   "source": [
    "# Pacotes necessários\n",
    "import Pkg\n",
    "#Pkg.add(\"StatsPlots\")\n",
    "#Pkg.add(\"Distributions\")\n",
    "#Pkg.add(\"LaTeXStrings\")\n",
    "#Pkg.add(\"DataFrames\")"
   ]
  },
  {
   "cell_type": "code",
   "execution_count": 7,
   "id": "00a0fbe8",
   "metadata": {},
   "outputs": [],
   "source": [
    "# Carregar pacotes\n",
    "using StatsPlots, Distributions, LaTeXStrings, DataFrames"
   ]
  },
  {
   "cell_type": "markdown",
   "id": "62ce2dd8",
   "metadata": {},
   "source": [
    "# Bayesian Robust Regression"
   ]
  },
  {
   "cell_type": "code",
   "execution_count": 8,
   "id": "19332c1a",
   "metadata": {},
   "outputs": [],
   "source": [
    "# Instalar pacotes necessários\n",
    "#Pkg.add(\"Turing\")\n",
    "#Pkg.add(\"StatsBase\")"
   ]
  },
  {
   "cell_type": "code",
   "execution_count": 9,
   "id": "332716e9",
   "metadata": {},
   "outputs": [],
   "source": [
    "# Carregar pacotes\n",
    "using Turing\n",
    "using Statistics: mean, std\n",
    "using StatsBase: mad\n",
    "using Random: seed!"
   ]
  },
  {
   "cell_type": "code",
   "execution_count": 10,
   "id": "e623f1b5",
   "metadata": {},
   "outputs": [
    {
     "data": {
      "text/plain": [
       "Random.TaskLocalRNG()"
      ]
     },
     "execution_count": 10,
     "metadata": {},
     "output_type": "execute_result"
    }
   ],
   "source": [
    "# Travar seed\n",
    "seed!(123)"
   ]
  },
  {
   "cell_type": "code",
   "execution_count": 11,
   "id": "0a060f73",
   "metadata": {},
   "outputs": [],
   "source": [
    "# Modelo\n",
    "@model function robustreg(X, y; predictors=size(X, 2))\n",
    "        #priors\n",
    "        α ~ LocationScale(median(y), 2.5 * mad(y), TDist(3))\n",
    "        β ~ filldist(TDist(3), predictors)\n",
    "        σ ~ Exponential(1)\n",
    "        ν ~ LogNormal(2, 1)\n",
    "\n",
    "        #likelihood\n",
    "        y ~ arraydist(LocationScale.(α .+ X * β, σ, TDist.(ν)))\n",
    "end;"
   ]
  },
  {
   "cell_type": "code",
   "execution_count": 26,
   "id": "f095054f",
   "metadata": {},
   "outputs": [
    {
     "name": "stdout",
     "output_type": "stream",
     "text": [
      "\u001b[1m5×10 DataFrame\u001b[0m\n",
      "\u001b[1m Row \u001b[0m│\u001b[1m Brand   \u001b[0m\u001b[1m Date    \u001b[0m\u001b[1m Spends      \u001b[0m\u001b[1m Maco        \u001b[0m\u001b[1m Causals     \u001b[0m\u001b[1m Volume      \u001b[0m\u001b[1m CPM         \u001b[0m\u001b[1m EFF         \u001b[0m\u001b[1m ROI         \u001b[0m\u001b[1m P1      \u001b[0m\n",
      "\u001b[1m     \u001b[0m│\u001b[90m String7 \u001b[0m\u001b[90m String7 \u001b[0m\u001b[90m String15    \u001b[0m\u001b[90m String15    \u001b[0m\u001b[90m String15    \u001b[0m\u001b[90m String15    \u001b[0m\u001b[90m String15    \u001b[0m\u001b[90m String15    \u001b[0m\u001b[90m String15    \u001b[0m\u001b[90m String7 \u001b[0m\n",
      "─────┼──────────────────────────────────────────────────────────────────────────────────────────────────────────────────────\n",
      "   1 │ Brand1   2021Q2   169821,1753  163531,3699  194584616,5  8086,634834  0,872736902  0,041558449  0,962962184  0,1\n",
      "   2 │ Brand1   2021Q3   143799,355   160621,3444  211758072    7942,733919  0,679073783  0,03750853   1,11698237   0,35\n",
      "   3 │ Brand1   2021Q4   9380,317164  11781,89926  8984931      582,6155375  1,044005476  0,06484363   1,25602355   0,016\n",
      "   4 │ Brand1   2022Q1   107989,1762  132402,2698  166748726    7052,467539  0,647616199  0,042293982  1,22606982   0,06409\n",
      "   5 │ Brand2   2021Q2   578302,51    750449,6574  673866619,3  23723,32076  0,858185423  0,035204772  1,297676639  0,03\n"
     ]
    },
    {
     "data": {
      "text/html": [
       "<div class=\"data-frame\"><p>10 rows × 7 columns</p><table class=\"data-frame\"><thead><tr><th></th><th>variable</th><th>mean</th><th>min</th><th>median</th><th>max</th><th>nmissing</th><th>eltype</th></tr><tr><th></th><th title=\"Symbol\">Symbol</th><th title=\"Nothing\">Nothing</th><th title=\"InlineString\">InlineSt…</th><th title=\"Nothing\">Nothing</th><th title=\"InlineString\">InlineSt…</th><th title=\"Int64\">Int64</th><th title=\"DataType\">DataType</th></tr></thead><tbody><tr><th>1</th><td>Brand</td><td></td><td>Brand1</td><td></td><td>Brand6</td><td>0</td><td>String7</td></tr><tr><th>2</th><td>Date</td><td></td><td>2021Q2</td><td></td><td>2022Q3</td><td>0</td><td>String7</td></tr><tr><th>3</th><td>Spends</td><td></td><td>1069170,659</td><td></td><td>971247,7588</td><td>0</td><td>String15</td></tr><tr><th>4</th><td>Maco</td><td></td><td>1008106,291</td><td></td><td>970228,9512</td><td>0</td><td>String15</td></tr><tr><th>5</th><td>Causals</td><td></td><td>1018476095</td><td></td><td>973531058</td><td>0</td><td>String15</td></tr><tr><th>6</th><td>Volume</td><td></td><td>114101,3444</td><td></td><td>8086,634834</td><td>0</td><td>String15</td></tr><tr><th>7</th><td>CPM</td><td></td><td>0,618921733</td><td></td><td>1,720402461</td><td>0</td><td>String15</td></tr><tr><th>8</th><td>EFF</td><td></td><td>0,015460916</td><td></td><td>0,079763334</td><td>0</td><td>String15</td></tr><tr><th>9</th><td>ROI</td><td></td><td>0,811409181</td><td></td><td>2,553092326</td><td>0</td><td>String15</td></tr><tr><th>10</th><td>P1</td><td></td><td>0,016</td><td></td><td>0,52094</td><td>0</td><td>String7</td></tr></tbody></table></div>"
      ],
      "text/latex": [
       "\\begin{tabular}{r|ccccccc}\n",
       "\t& variable & mean & min & median & max & nmissing & eltype\\\\\n",
       "\t\\hline\n",
       "\t& Symbol & Nothing & InlineSt… & Nothing & InlineSt… & Int64 & DataType\\\\\n",
       "\t\\hline\n",
       "\t1 & Brand &  & Brand1 &  & Brand6 & 0 & String7 \\\\\n",
       "\t2 & Date &  & 2021Q2 &  & 2022Q3 & 0 & String7 \\\\\n",
       "\t3 & Spends &  & 1069170,659 &  & 971247,7588 & 0 & String15 \\\\\n",
       "\t4 & Maco &  & 1008106,291 &  & 970228,9512 & 0 & String15 \\\\\n",
       "\t5 & Causals &  & 1018476095 &  & 973531058 & 0 & String15 \\\\\n",
       "\t6 & Volume &  & 114101,3444 &  & 8086,634834 & 0 & String15 \\\\\n",
       "\t7 & CPM &  & 0,618921733 &  & 1,720402461 & 0 & String15 \\\\\n",
       "\t8 & EFF &  & 0,015460916 &  & 0,079763334 & 0 & String15 \\\\\n",
       "\t9 & ROI &  & 0,811409181 &  & 2,553092326 & 0 & String15 \\\\\n",
       "\t10 & P1 &  & 0,016 &  & 0,52094 & 0 & String7 \\\\\n",
       "\\end{tabular}\n"
      ],
      "text/plain": [
       "\u001b[1m10×7 DataFrame\u001b[0m\n",
       "\u001b[1m Row \u001b[0m│\u001b[1m variable \u001b[0m\u001b[1m mean    \u001b[0m\u001b[1m min         \u001b[0m\u001b[1m median  \u001b[0m\u001b[1m max         \u001b[0m\u001b[1m nmissing \u001b[0m\u001b[1m eltype \u001b[0m ⋯\n",
       "\u001b[1m     \u001b[0m│\u001b[90m Symbol   \u001b[0m\u001b[90m Nothing \u001b[0m\u001b[90m InlineSt…   \u001b[0m\u001b[90m Nothing \u001b[0m\u001b[90m InlineSt…   \u001b[0m\u001b[90m Int64    \u001b[0m\u001b[90m DataTyp\u001b[0m ⋯\n",
       "─────┼──────────────────────────────────────────────────────────────────────────\n",
       "   1 │ Brand    \u001b[90m         \u001b[0m Brand1      \u001b[90m         \u001b[0m Brand6              0  String7 ⋯\n",
       "   2 │ Date     \u001b[90m         \u001b[0m 2021Q2      \u001b[90m         \u001b[0m 2022Q3              0  String7\n",
       "   3 │ Spends   \u001b[90m         \u001b[0m 1069170,659 \u001b[90m         \u001b[0m 971247,7588         0  String1\n",
       "   4 │ Maco     \u001b[90m         \u001b[0m 1008106,291 \u001b[90m         \u001b[0m 970228,9512         0  String1\n",
       "   5 │ Causals  \u001b[90m         \u001b[0m 1018476095  \u001b[90m         \u001b[0m 973531058           0  String1 ⋯\n",
       "   6 │ Volume   \u001b[90m         \u001b[0m 114101,3444 \u001b[90m         \u001b[0m 8086,634834         0  String1\n",
       "   7 │ CPM      \u001b[90m         \u001b[0m 0,618921733 \u001b[90m         \u001b[0m 1,720402461         0  String1\n",
       "   8 │ EFF      \u001b[90m         \u001b[0m 0,015460916 \u001b[90m         \u001b[0m 0,079763334         0  String1\n",
       "   9 │ ROI      \u001b[90m         \u001b[0m 0,811409181 \u001b[90m         \u001b[0m 2,553092326         0  String1 ⋯\n",
       "  10 │ P1       \u001b[90m         \u001b[0m 0,016       \u001b[90m         \u001b[0m 0,52094             0  String7\n",
       "\u001b[36m                                                                1 column omitted\u001b[0m"
      ]
     },
     "execution_count": 26,
     "metadata": {},
     "output_type": "execute_result"
    }
   ],
   "source": [
    "using DataFrames, CSV, HTTP\n",
    "\n",
    "url = \"https://raw.githubusercontent.com/andrelmfsantos/df/main/dataset_brands_quarter.csv\"\n",
    "data = CSV.read(HTTP.get(url).body, DataFrame)\n",
    "println(first(data,5))\n",
    "describe(data)"
   ]
  },
  {
   "cell_type": "code",
   "execution_count": 18,
   "id": "1ce990c6",
   "metadata": {},
   "outputs": [
    {
     "name": "stdout",
     "output_type": "stream",
     "text": [
      "\u001b[1m5×10 DataFrame\u001b[0m\n",
      "\u001b[1m Row \u001b[0m│\u001b[1m Brand  \u001b[0m\u001b[1m Quarter \u001b[0m\u001b[1m Spends      \u001b[0m\u001b[1m Maco        \u001b[0m\u001b[1m Causals     \u001b[0m\u001b[1m Volume      \u001b[0m\u001b[1m CPM         \u001b[0m\u001b[1m EFF         \u001b[0m\u001b[1m ROI         \u001b[0m\u001b[1m P1      \u001b[0m\n",
      "\u001b[1m     \u001b[0m│\u001b[90m String \u001b[0m\u001b[90m String  \u001b[0m\u001b[90m String      \u001b[0m\u001b[90m String      \u001b[0m\u001b[90m String      \u001b[0m\u001b[90m String      \u001b[0m\u001b[90m String      \u001b[0m\u001b[90m String      \u001b[0m\u001b[90m String      \u001b[0m\u001b[90m String  \u001b[0m\n",
      "─────┼─────────────────────────────────────────────────────────────────────────────────────────────────────────────────────\n",
      "   1 │ Brand1  2021Q2   169821.1753  163531.3699  194584616.5  8086.634834  0.872736902  0.041558449  0.962962184  0.10000\n",
      "   2 │ Brand1  2021Q3   143799.355   160621.3444  211758072    7942.733919  0.679073783  0.03750853   1.11698237   0.35000\n",
      "   3 │ Brand1  2021Q4   9380.317164  11781.89926  8984931      582.6155375  1.044005476  0.06484363   1.25602355   0.01600\n",
      "   4 │ Brand1  2022Q1   107989.1762  132402.2698  166748726    7052.467539  0.647616199  0.042293982  1.22606982   0.06409\n",
      "   5 │ Brand2  2021Q2   578302.51    750449.6574  673866619.3  23723.32076  0.858185423  0.035204772  1.297676639  0.03000\n"
     ]
    }
   ],
   "source": [
    "# Substituir nas casas decimais, vírgula por pontos\n",
    "df = replace.(data, r\",\" => \".\")\n",
    "println(first(df,5))"
   ]
  },
  {
   "cell_type": "code",
   "execution_count": 19,
   "id": "49b60a6f",
   "metadata": {},
   "outputs": [
    {
     "name": "stdout",
     "output_type": "stream",
     "text": [
      "\u001b[1m5×10 DataFrame\u001b[0m\n",
      "\u001b[1m Row \u001b[0m│\u001b[1m Brand  \u001b[0m\u001b[1m Quarter \u001b[0m\u001b[1m Spends       \u001b[0m\u001b[1m Maco          \u001b[0m\u001b[1m Causals   \u001b[0m\u001b[1m Volume    \u001b[0m\u001b[1m CPM      \u001b[0m\u001b[1m EFF       \u001b[0m\u001b[1m ROI      \u001b[0m\u001b[1m P1      \u001b[0m\n",
      "\u001b[1m     \u001b[0m│\u001b[90m String \u001b[0m\u001b[90m String  \u001b[0m\u001b[90m Float64      \u001b[0m\u001b[90m Float64       \u001b[0m\u001b[90m Float64   \u001b[0m\u001b[90m Float64   \u001b[0m\u001b[90m Float64  \u001b[0m\u001b[90m Float64   \u001b[0m\u001b[90m Float64  \u001b[0m\u001b[90m Float64 \u001b[0m\n",
      "─────┼────────────────────────────────────────────────────────────────────────────────────────────────────────────\n",
      "   1 │ Brand1  2021Q2      1.69821e5      1.63531e5  1.94585e8   8086.63   0.872737  0.0415584  0.962962  0.1\n",
      "   2 │ Brand1  2021Q3      1.43799e5      1.60621e5  2.11758e8   7942.73   0.679074  0.0375085  1.11698   0.35\n",
      "   3 │ Brand1  2021Q4   9380.32       11781.9        8.98493e6    582.616  1.04401   0.0648436  1.25602   0.016\n",
      "   4 │ Brand1  2022Q1      1.07989e5      1.32402e5  1.66749e8   7052.47   0.647616  0.042294   1.22607   0.06409\n",
      "   5 │ Brand2  2021Q2      5.78303e5      7.5045e5   6.73867e8  23723.3    0.858185  0.0352048  1.29768   0.03\n"
     ]
    }
   ],
   "source": [
    "# Converter colunas para Float\n",
    "df.Spends = parse.(Float64, df.Spends)\n",
    "df.Maco = parse.(Float64, df.Maco)\n",
    "df.Causals = parse.(Float64, df.Causals)\n",
    "df.Volume = parse.(Float64, df.Volume)\n",
    "df.CPM = parse.(Float64, df.CPM)\n",
    "df.EFF = parse.(Float64, df.EFF)\n",
    "df.ROI = parse.(Float64, df.ROI)\n",
    "df.P1 = parse.(Float64, df.P1)\n",
    "println(first(df,5))"
   ]
  },
  {
   "cell_type": "code",
   "execution_count": 21,
   "id": "57cc8069",
   "metadata": {},
   "outputs": [
    {
     "name": "stdout",
     "output_type": "stream",
     "text": [
      "\u001b[1m34×5 DataFrame\u001b[0m\n",
      "\u001b[1m Row \u001b[0m│\u001b[1m Brand  \u001b[0m\u001b[1m P1      \u001b[0m\u001b[1m CPM      \u001b[0m\u001b[1m EFF       \u001b[0m\u001b[1m ROI      \u001b[0m\n",
      "\u001b[1m     \u001b[0m│\u001b[90m String \u001b[0m\u001b[90m Float64 \u001b[0m\u001b[90m Float64  \u001b[0m\u001b[90m Float64   \u001b[0m\u001b[90m Float64  \u001b[0m\n",
      "─────┼────────────────────────────────────────────────\n",
      "   1 │ Brand1  0.1      0.872737  0.0415584  0.962962\n",
      "   2 │ Brand1  0.35     0.679074  0.0375085  1.11698\n",
      "   3 │ Brand1  0.016    1.04401   0.0648436  1.25602\n",
      "   4 │ Brand1  0.06409  0.647616  0.042294   1.22607\n",
      "   5 │ Brand2  0.03     0.858185  0.0352048  1.29768\n",
      "   6 │ Brand2  0.22     0.914811  0.0282665  0.977433\n",
      "   7 │ Brand2  0.19     0.929766  0.0377981  1.286\n",
      "   8 │ Brand2  0.21522  0.732858  0.0408773  1.72349\n",
      "   9 │ Brand2  0.38464  1.03367   0.0485312  1.35275\n",
      "  10 │ Brand2  0.52094  0.926681  0.0433663  1.37547\n",
      "  11 │ Brand3  0.11     0.80446   0.0386498  1.88737\n",
      "  ⋮  │   ⋮        ⋮        ⋮          ⋮         ⋮\n",
      "  25 │ Brand5  0.27     0.980993  0.0605435  1.48892\n",
      "  26 │ Brand5  0.17014  0.909776  0.064062   1.60076\n",
      "  27 │ Brand5  0.39435  0.756733  0.0698154  1.89279\n",
      "  28 │ Brand5  0.50193  0.861372  0.0700117  1.73726\n",
      "  29 │ Brand6  0.18061  1.12074   0.0619128  2.19801\n",
      "  30 │ Brand6  0.13     0.935055  0.0505493  2.55309\n",
      "  31 │ Brand6  0.13     0.801697  0.0411892  2.4264\n",
      "  32 │ Brand6  0.27     1.7204    0.0797633  2.18958\n",
      "  33 │ Brand6  0.25847  0.925099  0.0387496  2.17299\n",
      "  34 │ Brand6  0.3397   1.01093   0.0537842  2.51303\n",
      "\u001b[36m                                       13 rows omitted\u001b[0m"
     ]
    }
   ],
   "source": [
    "# Subset\n",
    "df = df[!, names(data,[:Brand,:P1,:CPM, :EFF, :ROI])]\n",
    "show(df, allcols=true)"
   ]
  },
  {
   "cell_type": "code",
   "execution_count": 22,
   "id": "a0ef739f",
   "metadata": {},
   "outputs": [
    {
     "data": {
      "image/svg+xml": [
       "<?xml version=\"1.0\" encoding=\"utf-8\"?>\n",
       "<svg xmlns=\"http://www.w3.org/2000/svg\" xmlns:xlink=\"http://www.w3.org/1999/xlink\" width=\"600\" height=\"400\" viewBox=\"0 0 2400 1600\">\n",
       "<defs>\n",
       "  <clipPath id=\"clip690\">\n",
       "    <rect x=\"0\" y=\"0\" width=\"2400\" height=\"1600\"/>\n",
       "  </clipPath>\n",
       "</defs>\n",
       "<path clip-path=\"url(#clip690)\" d=\"\n",
       "M0 1600 L2400 1600 L2400 0 L0 0  Z\n",
       "  \" fill=\"#ffffff\" fill-rule=\"evenodd\" fill-opacity=\"1\"/>\n",
       "<defs>\n",
       "  <clipPath id=\"clip691\">\n",
       "    <rect x=\"480\" y=\"0\" width=\"1681\" height=\"1600\"/>\n",
       "  </clipPath>\n",
       "</defs>\n",
       "<path clip-path=\"url(#clip690)\" d=\"\n",
       "M156.112 1486.45 L2352.76 1486.45 L2352.76 47.2441 L156.112 47.2441  Z\n",
       "  \" fill=\"#ffffff\" fill-rule=\"evenodd\" fill-opacity=\"1\"/>\n",
       "<defs>\n",
       "  <clipPath id=\"clip692\">\n",
       "    <rect x=\"156\" y=\"47\" width=\"2198\" height=\"1440\"/>\n",
       "  </clipPath>\n",
       "</defs>\n",
       "<polyline clip-path=\"url(#clip692)\" style=\"stroke:#000000; stroke-linecap:round; stroke-linejoin:round; stroke-width:2; stroke-opacity:0.1; fill:none\" points=\"\n",
       "  478.382,1486.45 478.382,47.2441 \n",
       "  \"/>\n",
       "<polyline clip-path=\"url(#clip692)\" style=\"stroke:#000000; stroke-linecap:round; stroke-linejoin:round; stroke-width:2; stroke-opacity:0.1; fill:none\" points=\"\n",
       "  1057.82,1486.45 1057.82,47.2441 \n",
       "  \"/>\n",
       "<polyline clip-path=\"url(#clip692)\" style=\"stroke:#000000; stroke-linecap:round; stroke-linejoin:round; stroke-width:2; stroke-opacity:0.1; fill:none\" points=\"\n",
       "  1637.25,1486.45 1637.25,47.2441 \n",
       "  \"/>\n",
       "<polyline clip-path=\"url(#clip692)\" style=\"stroke:#000000; stroke-linecap:round; stroke-linejoin:round; stroke-width:2; stroke-opacity:0.1; fill:none\" points=\"\n",
       "  2216.69,1486.45 2216.69,47.2441 \n",
       "  \"/>\n",
       "<polyline clip-path=\"url(#clip690)\" style=\"stroke:#000000; stroke-linecap:round; stroke-linejoin:round; stroke-width:4; stroke-opacity:1; fill:none\" points=\"\n",
       "  156.112,1486.45 2352.76,1486.45 \n",
       "  \"/>\n",
       "<polyline clip-path=\"url(#clip690)\" style=\"stroke:#000000; stroke-linecap:round; stroke-linejoin:round; stroke-width:4; stroke-opacity:1; fill:none\" points=\"\n",
       "  478.382,1486.45 478.382,1467.55 \n",
       "  \"/>\n",
       "<polyline clip-path=\"url(#clip690)\" style=\"stroke:#000000; stroke-linecap:round; stroke-linejoin:round; stroke-width:4; stroke-opacity:1; fill:none\" points=\"\n",
       "  1057.82,1486.45 1057.82,1467.55 \n",
       "  \"/>\n",
       "<polyline clip-path=\"url(#clip690)\" style=\"stroke:#000000; stroke-linecap:round; stroke-linejoin:round; stroke-width:4; stroke-opacity:1; fill:none\" points=\"\n",
       "  1637.25,1486.45 1637.25,1467.55 \n",
       "  \"/>\n",
       "<polyline clip-path=\"url(#clip690)\" style=\"stroke:#000000; stroke-linecap:round; stroke-linejoin:round; stroke-width:4; stroke-opacity:1; fill:none\" points=\"\n",
       "  2216.69,1486.45 2216.69,1467.55 \n",
       "  \"/>\n",
       "<path clip-path=\"url(#clip690)\" d=\"M456.265 1517.37 Q452.653 1517.37 450.825 1520.93 Q449.019 1524.47 449.019 1531.6 Q449.019 1538.71 450.825 1542.27 Q452.653 1545.82 456.265 1545.82 Q459.899 1545.82 461.704 1542.27 Q463.533 1538.71 463.533 1531.6 Q463.533 1524.47 461.704 1520.93 Q459.899 1517.37 456.265 1517.37 M456.265 1513.66 Q462.075 1513.66 465.13 1518.27 Q468.209 1522.85 468.209 1531.6 Q468.209 1540.33 465.13 1544.94 Q462.075 1549.52 456.265 1549.52 Q450.454 1549.52 447.376 1544.94 Q444.32 1540.33 444.32 1531.6 Q444.32 1522.85 447.376 1518.27 Q450.454 1513.66 456.265 1513.66 Z\" fill=\"#000000\" fill-rule=\"evenodd\" fill-opacity=\"1\" /><path clip-path=\"url(#clip690)\" d=\"M476.426 1542.97 L481.311 1542.97 L481.311 1548.85 L476.426 1548.85 L476.426 1542.97 Z\" fill=\"#000000\" fill-rule=\"evenodd\" fill-opacity=\"1\" /><path clip-path=\"url(#clip690)\" d=\"M491.542 1514.29 L509.898 1514.29 L509.898 1518.22 L495.824 1518.22 L495.824 1526.7 Q496.843 1526.35 497.862 1526.19 Q498.88 1526 499.899 1526 Q505.686 1526 509.065 1529.17 Q512.445 1532.34 512.445 1537.76 Q512.445 1543.34 508.973 1546.44 Q505.5 1549.52 499.181 1549.52 Q497.005 1549.52 494.737 1549.15 Q492.491 1548.78 490.084 1548.04 L490.084 1543.34 Q492.167 1544.47 494.389 1545.03 Q496.612 1545.58 499.088 1545.58 Q503.093 1545.58 505.431 1543.48 Q507.769 1541.37 507.769 1537.76 Q507.769 1534.15 505.431 1532.04 Q503.093 1529.94 499.088 1529.94 Q497.213 1529.94 495.338 1530.35 Q493.487 1530.77 491.542 1531.65 L491.542 1514.29 Z\" fill=\"#000000\" fill-rule=\"evenodd\" fill-opacity=\"1\" /><path clip-path=\"url(#clip690)\" d=\"M1024.97 1544.91 L1032.61 1544.91 L1032.61 1518.55 L1024.3 1520.21 L1024.3 1515.95 L1032.56 1514.29 L1037.24 1514.29 L1037.24 1544.91 L1044.88 1544.91 L1044.88 1548.85 L1024.97 1548.85 L1024.97 1544.91 Z\" fill=\"#000000\" fill-rule=\"evenodd\" fill-opacity=\"1\" /><path clip-path=\"url(#clip690)\" d=\"M1054.32 1542.97 L1059.21 1542.97 L1059.21 1548.85 L1054.32 1548.85 L1054.32 1542.97 Z\" fill=\"#000000\" fill-rule=\"evenodd\" fill-opacity=\"1\" /><path clip-path=\"url(#clip690)\" d=\"M1079.39 1517.37 Q1075.78 1517.37 1073.95 1520.93 Q1072.15 1524.47 1072.15 1531.6 Q1072.15 1538.71 1073.95 1542.27 Q1075.78 1545.82 1079.39 1545.82 Q1083.03 1545.82 1084.83 1542.27 Q1086.66 1538.71 1086.66 1531.6 Q1086.66 1524.47 1084.83 1520.93 Q1083.03 1517.37 1079.39 1517.37 M1079.39 1513.66 Q1085.2 1513.66 1088.26 1518.27 Q1091.34 1522.85 1091.34 1531.6 Q1091.34 1540.33 1088.26 1544.94 Q1085.2 1549.52 1079.39 1549.52 Q1073.58 1549.52 1070.5 1544.94 Q1067.45 1540.33 1067.45 1531.6 Q1067.45 1522.85 1070.5 1518.27 Q1073.58 1513.66 1079.39 1513.66 Z\" fill=\"#000000\" fill-rule=\"evenodd\" fill-opacity=\"1\" /><path clip-path=\"url(#clip690)\" d=\"M1604.9 1544.91 L1612.54 1544.91 L1612.54 1518.55 L1604.23 1520.21 L1604.23 1515.95 L1612.5 1514.29 L1617.17 1514.29 L1617.17 1544.91 L1624.81 1544.91 L1624.81 1548.85 L1604.9 1548.85 L1604.9 1544.91 Z\" fill=\"#000000\" fill-rule=\"evenodd\" fill-opacity=\"1\" /><path clip-path=\"url(#clip690)\" d=\"M1634.26 1542.97 L1639.14 1542.97 L1639.14 1548.85 L1634.26 1548.85 L1634.26 1542.97 Z\" fill=\"#000000\" fill-rule=\"evenodd\" fill-opacity=\"1\" /><path clip-path=\"url(#clip690)\" d=\"M1649.37 1514.29 L1667.73 1514.29 L1667.73 1518.22 L1653.65 1518.22 L1653.65 1526.7 Q1654.67 1526.35 1655.69 1526.19 Q1656.71 1526 1657.73 1526 Q1663.51 1526 1666.89 1529.17 Q1670.27 1532.34 1670.27 1537.76 Q1670.27 1543.34 1666.8 1546.44 Q1663.33 1549.52 1657.01 1549.52 Q1654.83 1549.52 1652.57 1549.15 Q1650.32 1548.78 1647.91 1548.04 L1647.91 1543.34 Q1650 1544.47 1652.22 1545.03 Q1654.44 1545.58 1656.92 1545.58 Q1660.92 1545.58 1663.26 1543.48 Q1665.6 1541.37 1665.6 1537.76 Q1665.6 1534.15 1663.26 1532.04 Q1660.92 1529.94 1656.92 1529.94 Q1655.04 1529.94 1653.17 1530.35 Q1651.32 1530.77 1649.37 1531.65 L1649.37 1514.29 Z\" fill=\"#000000\" fill-rule=\"evenodd\" fill-opacity=\"1\" /><path clip-path=\"url(#clip690)\" d=\"M2187.93 1544.91 L2204.25 1544.91 L2204.25 1548.85 L2182.3 1548.85 L2182.3 1544.91 Q2184.96 1542.16 2189.55 1537.53 Q2194.15 1532.88 2195.33 1531.53 Q2197.58 1529.01 2198.46 1527.27 Q2199.36 1525.51 2199.36 1523.82 Q2199.36 1521.07 2197.42 1519.33 Q2195.5 1517.6 2192.39 1517.6 Q2190.2 1517.6 2187.74 1518.36 Q2185.31 1519.13 2182.53 1520.68 L2182.53 1515.95 Q2185.36 1514.82 2187.81 1514.24 Q2190.26 1513.66 2192.3 1513.66 Q2197.67 1513.66 2200.87 1516.35 Q2204.06 1519.03 2204.06 1523.52 Q2204.06 1525.65 2203.25 1527.57 Q2202.46 1529.47 2200.36 1532.07 Q2199.78 1532.74 2196.68 1535.95 Q2193.57 1539.15 2187.93 1544.91 Z\" fill=\"#000000\" fill-rule=\"evenodd\" fill-opacity=\"1\" /><path clip-path=\"url(#clip690)\" d=\"M2214.06 1542.97 L2218.94 1542.97 L2218.94 1548.85 L2214.06 1548.85 L2214.06 1542.97 Z\" fill=\"#000000\" fill-rule=\"evenodd\" fill-opacity=\"1\" /><path clip-path=\"url(#clip690)\" d=\"M2239.13 1517.37 Q2235.52 1517.37 2233.69 1520.93 Q2231.88 1524.47 2231.88 1531.6 Q2231.88 1538.71 2233.69 1542.27 Q2235.52 1545.82 2239.13 1545.82 Q2242.76 1545.82 2244.57 1542.27 Q2246.4 1538.71 2246.4 1531.6 Q2246.4 1524.47 2244.57 1520.93 Q2242.76 1517.37 2239.13 1517.37 M2239.13 1513.66 Q2244.94 1513.66 2248 1518.27 Q2251.07 1522.85 2251.07 1531.6 Q2251.07 1540.33 2248 1544.94 Q2244.94 1549.52 2239.13 1549.52 Q2233.32 1549.52 2230.24 1544.94 Q2227.19 1540.33 2227.19 1531.6 Q2227.19 1522.85 2230.24 1518.27 Q2233.32 1513.66 2239.13 1513.66 Z\" fill=\"#000000\" fill-rule=\"evenodd\" fill-opacity=\"1\" /><polyline clip-path=\"url(#clip692)\" style=\"stroke:#000000; stroke-linecap:round; stroke-linejoin:round; stroke-width:2; stroke-opacity:0.1; fill:none\" points=\"\n",
       "  156.112,1445.78 2352.76,1445.78 \n",
       "  \"/>\n",
       "<polyline clip-path=\"url(#clip692)\" style=\"stroke:#000000; stroke-linecap:round; stroke-linejoin:round; stroke-width:2; stroke-opacity:0.1; fill:none\" points=\"\n",
       "  156.112,1101.55 2352.76,1101.55 \n",
       "  \"/>\n",
       "<polyline clip-path=\"url(#clip692)\" style=\"stroke:#000000; stroke-linecap:round; stroke-linejoin:round; stroke-width:2; stroke-opacity:0.1; fill:none\" points=\"\n",
       "  156.112,757.327 2352.76,757.327 \n",
       "  \"/>\n",
       "<polyline clip-path=\"url(#clip692)\" style=\"stroke:#000000; stroke-linecap:round; stroke-linejoin:round; stroke-width:2; stroke-opacity:0.1; fill:none\" points=\"\n",
       "  156.112,413.102 2352.76,413.102 \n",
       "  \"/>\n",
       "<polyline clip-path=\"url(#clip692)\" style=\"stroke:#000000; stroke-linecap:round; stroke-linejoin:round; stroke-width:2; stroke-opacity:0.1; fill:none\" points=\"\n",
       "  156.112,68.8769 2352.76,68.8769 \n",
       "  \"/>\n",
       "<polyline clip-path=\"url(#clip690)\" style=\"stroke:#000000; stroke-linecap:round; stroke-linejoin:round; stroke-width:4; stroke-opacity:1; fill:none\" points=\"\n",
       "  156.112,1486.45 156.112,47.2441 \n",
       "  \"/>\n",
       "<polyline clip-path=\"url(#clip690)\" style=\"stroke:#000000; stroke-linecap:round; stroke-linejoin:round; stroke-width:4; stroke-opacity:1; fill:none\" points=\"\n",
       "  156.112,1445.78 175.01,1445.78 \n",
       "  \"/>\n",
       "<polyline clip-path=\"url(#clip690)\" style=\"stroke:#000000; stroke-linecap:round; stroke-linejoin:round; stroke-width:4; stroke-opacity:1; fill:none\" points=\"\n",
       "  156.112,1101.55 175.01,1101.55 \n",
       "  \"/>\n",
       "<polyline clip-path=\"url(#clip690)\" style=\"stroke:#000000; stroke-linecap:round; stroke-linejoin:round; stroke-width:4; stroke-opacity:1; fill:none\" points=\"\n",
       "  156.112,757.327 175.01,757.327 \n",
       "  \"/>\n",
       "<polyline clip-path=\"url(#clip690)\" style=\"stroke:#000000; stroke-linecap:round; stroke-linejoin:round; stroke-width:4; stroke-opacity:1; fill:none\" points=\"\n",
       "  156.112,413.102 175.01,413.102 \n",
       "  \"/>\n",
       "<polyline clip-path=\"url(#clip690)\" style=\"stroke:#000000; stroke-linecap:round; stroke-linejoin:round; stroke-width:4; stroke-opacity:1; fill:none\" points=\"\n",
       "  156.112,68.8769 175.01,68.8769 \n",
       "  \"/>\n",
       "<path clip-path=\"url(#clip690)\" d=\"M62.9365 1431.58 Q59.3254 1431.58 57.4967 1435.14 Q55.6912 1438.68 55.6912 1445.81 Q55.6912 1452.92 57.4967 1456.48 Q59.3254 1460.02 62.9365 1460.02 Q66.5707 1460.02 68.3763 1456.48 Q70.205 1452.92 70.205 1445.81 Q70.205 1438.68 68.3763 1435.14 Q66.5707 1431.58 62.9365 1431.58 M62.9365 1427.87 Q68.7467 1427.87 71.8022 1432.48 Q74.8809 1437.06 74.8809 1445.81 Q74.8809 1454.54 71.8022 1459.14 Q68.7467 1463.73 62.9365 1463.73 Q57.1264 1463.73 54.0477 1459.14 Q50.9921 1454.54 50.9921 1445.81 Q50.9921 1437.06 54.0477 1432.48 Q57.1264 1427.87 62.9365 1427.87 Z\" fill=\"#000000\" fill-rule=\"evenodd\" fill-opacity=\"1\" /><path clip-path=\"url(#clip690)\" d=\"M83.0984 1457.18 L87.9827 1457.18 L87.9827 1463.06 L83.0984 1463.06 L83.0984 1457.18 Z\" fill=\"#000000\" fill-rule=\"evenodd\" fill-opacity=\"1\" /><path clip-path=\"url(#clip690)\" d=\"M108.168 1431.58 Q104.557 1431.58 102.728 1435.14 Q100.922 1438.68 100.922 1445.81 Q100.922 1452.92 102.728 1456.48 Q104.557 1460.02 108.168 1460.02 Q111.802 1460.02 113.608 1456.48 Q115.436 1452.92 115.436 1445.81 Q115.436 1438.68 113.608 1435.14 Q111.802 1431.58 108.168 1431.58 M108.168 1427.87 Q113.978 1427.87 117.033 1432.48 Q120.112 1437.06 120.112 1445.81 Q120.112 1454.54 117.033 1459.14 Q113.978 1463.73 108.168 1463.73 Q102.358 1463.73 99.2789 1459.14 Q96.2234 1454.54 96.2234 1445.81 Q96.2234 1437.06 99.2789 1432.48 Q102.358 1427.87 108.168 1427.87 Z\" fill=\"#000000\" fill-rule=\"evenodd\" fill-opacity=\"1\" /><path clip-path=\"url(#clip690)\" d=\"M63.9319 1087.35 Q60.3208 1087.35 58.4921 1090.92 Q56.6865 1094.46 56.6865 1101.59 Q56.6865 1108.69 58.4921 1112.26 Q60.3208 1115.8 63.9319 1115.8 Q67.5661 1115.8 69.3717 1112.26 Q71.2004 1108.69 71.2004 1101.59 Q71.2004 1094.46 69.3717 1090.92 Q67.5661 1087.35 63.9319 1087.35 M63.9319 1083.65 Q69.742 1083.65 72.7976 1088.25 Q75.8763 1092.84 75.8763 1101.59 Q75.8763 1110.31 72.7976 1114.92 Q69.742 1119.5 63.9319 1119.5 Q58.1217 1119.5 55.043 1114.92 Q51.9875 1110.31 51.9875 1101.59 Q51.9875 1092.84 55.043 1088.25 Q58.1217 1083.65 63.9319 1083.65 Z\" fill=\"#000000\" fill-rule=\"evenodd\" fill-opacity=\"1\" /><path clip-path=\"url(#clip690)\" d=\"M84.0938 1112.95 L88.978 1112.95 L88.978 1118.83 L84.0938 1118.83 L84.0938 1112.95 Z\" fill=\"#000000\" fill-rule=\"evenodd\" fill-opacity=\"1\" /><path clip-path=\"url(#clip690)\" d=\"M99.2095 1084.27 L117.566 1084.27 L117.566 1088.21 L103.492 1088.21 L103.492 1096.68 Q104.51 1096.33 105.529 1096.17 Q106.547 1095.98 107.566 1095.98 Q113.353 1095.98 116.733 1099.16 Q120.112 1102.33 120.112 1107.74 Q120.112 1113.32 116.64 1116.42 Q113.168 1119.5 106.848 1119.5 Q104.672 1119.5 102.404 1119.13 Q100.159 1118.76 97.7511 1118.02 L97.7511 1113.32 Q99.8345 1114.46 102.057 1115.01 Q104.279 1115.57 106.756 1115.57 Q110.76 1115.57 113.098 1113.46 Q115.436 1111.35 115.436 1107.74 Q115.436 1104.13 113.098 1102.03 Q110.76 1099.92 106.756 1099.92 Q104.881 1099.92 103.006 1100.34 Q101.154 1100.75 99.2095 1101.63 L99.2095 1084.27 Z\" fill=\"#000000\" fill-rule=\"evenodd\" fill-opacity=\"1\" /><path clip-path=\"url(#clip690)\" d=\"M53.7467 770.672 L61.3856 770.672 L61.3856 744.306 L53.0754 745.973 L53.0754 741.713 L61.3393 740.047 L66.0152 740.047 L66.0152 770.672 L73.654 770.672 L73.654 774.607 L53.7467 774.607 L53.7467 770.672 Z\" fill=\"#000000\" fill-rule=\"evenodd\" fill-opacity=\"1\" /><path clip-path=\"url(#clip690)\" d=\"M83.0984 768.727 L87.9827 768.727 L87.9827 774.607 L83.0984 774.607 L83.0984 768.727 Z\" fill=\"#000000\" fill-rule=\"evenodd\" fill-opacity=\"1\" /><path clip-path=\"url(#clip690)\" d=\"M108.168 743.125 Q104.557 743.125 102.728 746.69 Q100.922 750.232 100.922 757.361 Q100.922 764.468 102.728 768.033 Q104.557 771.574 108.168 771.574 Q111.802 771.574 113.608 768.033 Q115.436 764.468 115.436 757.361 Q115.436 750.232 113.608 746.69 Q111.802 743.125 108.168 743.125 M108.168 739.422 Q113.978 739.422 117.033 744.028 Q120.112 748.611 120.112 757.361 Q120.112 766.088 117.033 770.695 Q113.978 775.278 108.168 775.278 Q102.358 775.278 99.2789 770.695 Q96.2234 766.088 96.2234 757.361 Q96.2234 748.611 99.2789 744.028 Q102.358 739.422 108.168 739.422 Z\" fill=\"#000000\" fill-rule=\"evenodd\" fill-opacity=\"1\" /><path clip-path=\"url(#clip690)\" d=\"M54.7421 426.447 L62.381 426.447 L62.381 400.081 L54.0708 401.748 L54.0708 397.488 L62.3347 395.822 L67.0106 395.822 L67.0106 426.447 L74.6494 426.447 L74.6494 430.382 L54.7421 430.382 L54.7421 426.447 Z\" fill=\"#000000\" fill-rule=\"evenodd\" fill-opacity=\"1\" /><path clip-path=\"url(#clip690)\" d=\"M84.0938 424.502 L88.978 424.502 L88.978 430.382 L84.0938 430.382 L84.0938 424.502 Z\" fill=\"#000000\" fill-rule=\"evenodd\" fill-opacity=\"1\" /><path clip-path=\"url(#clip690)\" d=\"M99.2095 395.822 L117.566 395.822 L117.566 399.757 L103.492 399.757 L103.492 408.229 Q104.51 407.882 105.529 407.72 Q106.547 407.535 107.566 407.535 Q113.353 407.535 116.733 410.706 Q120.112 413.877 120.112 419.294 Q120.112 424.873 116.64 427.974 Q113.168 431.053 106.848 431.053 Q104.672 431.053 102.404 430.683 Q100.159 430.312 97.7511 429.572 L97.7511 424.873 Q99.8345 426.007 102.057 426.562 Q104.279 427.118 106.756 427.118 Q110.76 427.118 113.098 425.011 Q115.436 422.905 115.436 419.294 Q115.436 415.683 113.098 413.576 Q110.76 411.47 106.756 411.47 Q104.881 411.47 103.006 411.887 Q101.154 412.303 99.2095 413.183 L99.2095 395.822 Z\" fill=\"#000000\" fill-rule=\"evenodd\" fill-opacity=\"1\" /><path clip-path=\"url(#clip690)\" d=\"M56.9643 82.2217 L73.2837 82.2217 L73.2837 86.1569 L51.3393 86.1569 L51.3393 82.2217 Q54.0014 79.4671 58.5847 74.8375 Q63.1911 70.1847 64.3717 68.8421 Q66.617 66.319 67.4967 64.5829 Q68.3994 62.8236 68.3994 61.1338 Q68.3994 58.3792 66.455 56.6431 Q64.5337 54.907 61.4319 54.907 Q59.2328 54.907 56.7791 55.6709 Q54.3486 56.4348 51.5708 57.9857 L51.5708 53.2635 Q54.3949 52.1293 56.8486 51.5506 Q59.3023 50.9719 61.3393 50.9719 Q66.7096 50.9719 69.9041 53.657 Q73.0985 56.3422 73.0985 60.8329 Q73.0985 62.9625 72.2883 64.8838 Q71.5013 66.782 69.3948 69.3745 Q68.8161 70.0458 65.7143 73.2634 Q62.6124 76.4578 56.9643 82.2217 Z\" fill=\"#000000\" fill-rule=\"evenodd\" fill-opacity=\"1\" /><path clip-path=\"url(#clip690)\" d=\"M83.0984 80.2773 L87.9827 80.2773 L87.9827 86.1569 L83.0984 86.1569 L83.0984 80.2773 Z\" fill=\"#000000\" fill-rule=\"evenodd\" fill-opacity=\"1\" /><path clip-path=\"url(#clip690)\" d=\"M108.168 54.6755 Q104.557 54.6755 102.728 58.2403 Q100.922 61.782 100.922 68.9116 Q100.922 76.018 102.728 79.5828 Q104.557 83.1245 108.168 83.1245 Q111.802 83.1245 113.608 79.5828 Q115.436 76.018 115.436 68.9116 Q115.436 61.782 113.608 58.2403 Q111.802 54.6755 108.168 54.6755 M108.168 50.9719 Q113.978 50.9719 117.033 55.5783 Q120.112 60.1616 120.112 68.9116 Q120.112 77.6384 117.033 82.2448 Q113.978 86.8282 108.168 86.8282 Q102.358 86.8282 99.2789 82.2448 Q96.2234 77.6384 96.2234 68.9116 Q96.2234 60.1616 99.2789 55.5783 Q102.358 50.9719 108.168 50.9719 Z\" fill=\"#000000\" fill-rule=\"evenodd\" fill-opacity=\"1\" /><polyline clip-path=\"url(#clip692)\" style=\"stroke:#009af9; stroke-linecap:round; stroke-linejoin:round; stroke-width:4; stroke-opacity:1; fill:none\" points=\"\n",
       "  218.281,1445.71 228.695,1445.69 239.108,1445.66 249.522,1445.61 259.936,1445.54 270.349,1445.43 280.763,1445.27 291.176,1445.05 301.59,1444.74 312.004,1444.31 \n",
       "  322.417,1443.71 332.831,1442.91 343.244,1441.84 353.658,1440.41 364.072,1438.53 374.485,1436.09 384.899,1432.94 395.312,1428.94 405.726,1423.89 416.14,1417.58 \n",
       "  426.553,1409.78 436.967,1400.25 447.38,1388.71 457.794,1374.87 468.208,1358.46 478.621,1339.19 489.035,1316.8 499.448,1291.05 509.862,1261.73 520.276,1228.71 \n",
       "  530.689,1191.91 541.103,1151.33 551.516,1107.05 561.93,1059.28 572.344,1008.29 582.757,954.486 593.171,898.355 603.584,840.479 613.998,781.517 624.412,722.184 \n",
       "  634.825,663.232 645.239,605.423 655.652,549.502 666.066,496.171 676.479,446.061 686.893,399.704 697.307,357.518 707.72,319.788 718.134,286.654 728.547,258.112 \n",
       "  738.961,234.012 749.375,214.076 759.788,197.905 770.202,185.011 780.615,174.839 791.029,166.799 801.443,160.296 811.856,154.765 822.27,149.699 832.683,144.675 \n",
       "  843.097,139.378 853.511,133.613 863.924,127.318 874.338,120.561 884.751,113.537 895.165,106.556 905.579,100.018 915.992,94.3956 926.406,90.2049 936.819,87.9763 \n",
       "  947.233,88.2271 957.647,91.4352 968.06,98.0159 978.474,108.304 988.887,122.539 999.301,140.859 1009.71,163.296 1020.13,189.781 1030.54,220.146 1040.96,254.137 \n",
       "  1051.37,291.424 1061.78,331.615 1072.2,374.266 1082.61,418.902 1093.02,465.024 1103.44,512.122 1113.85,559.692 1124.26,607.243 1134.68,654.309 1145.09,700.459 \n",
       "  1155.5,745.305 1165.92,788.513 1176.33,829.803 1186.75,868.961 1197.16,905.839 1207.57,940.353 1217.99,972.488 1228.4,1002.29 1238.81,1029.85 1249.23,1055.32 \n",
       "  1259.64,1078.88 1270.05,1100.74 1280.47,1121.12 1290.88,1140.25 1301.3,1158.35 1311.71,1175.62 1322.12,1192.24 1332.54,1208.35 1342.95,1224.07 1353.36,1239.48 \n",
       "  1363.78,1254.61 1374.19,1269.47 1384.6,1284.05 1395.02,1298.28 1405.43,1312.11 1415.84,1325.46 1426.26,1338.26 1436.67,1350.41 1447.09,1361.85 1457.5,1372.52 \n",
       "  1467.91,1382.36 1478.33,1391.35 1488.74,1399.48 1499.15,1406.73 1509.57,1413.15 1519.98,1418.74 1530.39,1423.56 1540.81,1427.67 1551.22,1431.1 1561.64,1433.93 \n",
       "  1572.05,1436.21 1582.46,1437.99 1592.88,1439.32 1603.29,1440.23 1613.7,1440.77 1624.12,1440.94 1634.53,1440.76 1644.94,1440.24 1655.36,1439.35 1665.77,1438.1 \n",
       "  1676.18,1436.45 1686.6,1434.4 1697.01,1431.91 1707.43,1428.96 1717.84,1425.54 1728.25,1421.65 1738.67,1417.3 1749.08,1412.51 1759.49,1407.32 1769.91,1401.8 \n",
       "  1780.32,1396.03 1790.73,1390.1 1801.15,1384.15 1811.56,1378.31 1821.97,1372.71 1832.39,1367.5 1842.8,1362.84 1853.22,1358.86 1863.63,1355.68 1874.04,1353.39 \n",
       "  1884.46,1352.08 1894.87,1351.78 1905.28,1352.51 1915.7,1354.24 1926.11,1356.91 1936.52,1360.45 1946.94,1364.73 1957.35,1369.64 1967.77,1375.03 1978.18,1380.75 \n",
       "  1988.59,1386.66 1999.01,1392.62 2009.42,1398.5 2019.83,1404.18 2030.25,1409.58 2040.66,1414.62 2051.07,1419.25 2061.49,1423.44 2071.9,1427.17 2082.31,1430.45 \n",
       "  2092.73,1433.29 2103.14,1435.71 2113.56,1437.75 2123.97,1439.45 2134.38,1440.84 2144.8,1441.97 2155.21,1442.87 2165.62,1443.58 2176.04,1444.14 2186.45,1444.57 \n",
       "  2196.86,1444.89 2207.28,1445.14 2217.69,1445.32 2228.11,1445.45 2238.52,1445.55 2248.93,1445.62 2259.35,1445.66 2269.76,1445.69 2280.17,1445.71 2290.59,1445.72 \n",
       "  \n",
       "  \"/>\n",
       "</svg>\n"
      ]
     },
     "execution_count": 22,
     "metadata": {},
     "output_type": "execute_result"
    }
   ],
   "source": [
    "# Densidade\n",
    "@df df density(:CPM, label=false)"
   ]
  },
  {
   "cell_type": "code",
   "execution_count": 23,
   "id": "d0d249e2",
   "metadata": {},
   "outputs": [],
   "source": [
    "# Instanciar os dados\n",
    "X = Matrix(select(df, [:P1]))\n",
    "y = df[:, :CPM]\n",
    "model = robustreg(X, y);"
   ]
  },
  {
   "cell_type": "code",
   "execution_count": 24,
   "id": "32c936a9",
   "metadata": {},
   "outputs": [
    {
     "name": "stderr",
     "output_type": "stream",
     "text": [
      "┌ Warning: Only a single thread available: MCMC chains are not sampled in parallel\n",
      "└ @ AbstractMCMC C:\\Users\\User\\.julia\\packages\\AbstractMCMC\\fnRmh\\src\\sample.jl:291\n",
      "┌ Info: Found initial step size\n",
      "│   ϵ = 0.4\n",
      "└ @ Turing.Inference C:\\Users\\User\\.julia\\packages\\Turing\\szPqN\\src\\inference\\hmc.jl:191\n",
      "┌ Info: Found initial step size\n",
      "│   ϵ = 0.4\n",
      "└ @ Turing.Inference C:\\Users\\User\\.julia\\packages\\Turing\\szPqN\\src\\inference\\hmc.jl:191\n",
      "┌ Info: Found initial step size\n",
      "│   ϵ = 0.8\n",
      "└ @ Turing.Inference C:\\Users\\User\\.julia\\packages\\Turing\\szPqN\\src\\inference\\hmc.jl:191\n",
      "┌ Info: Found initial step size\n",
      "│   ϵ = 0.2\n",
      "└ @ Turing.Inference C:\\Users\\User\\.julia\\packages\\Turing\\szPqN\\src\\inference\\hmc.jl:191\n",
      "\u001b[32mSampling (1 threads): 100%|█████████████████████████████| Time: 0:00:01\u001b[39m\n"
     ]
    },
    {
     "data": {
      "text/html": [
       "<div class=\"data-frame\"><p>4 rows × 8 columns</p><table class=\"data-frame\"><thead><tr><th></th><th>parameters</th><th>mean</th><th>std</th><th>naive_se</th><th>mcse</th><th>ess</th><th>rhat</th><th>ess_per_sec</th></tr><tr><th></th><th title=\"Symbol\">Symbol</th><th title=\"Float64\">Float64</th><th title=\"Float64\">Float64</th><th title=\"Float64\">Float64</th><th title=\"Float64\">Float64</th><th title=\"Float64\">Float64</th><th title=\"Float64\">Float64</th><th title=\"Float64\">Float64</th></tr></thead><tbody><tr><th>1</th><td>α</td><td>0.901491</td><td>0.0610779</td><td>0.000965726</td><td>0.0011011</td><td>2166.78</td><td>1.00071</td><td>115.328</td></tr><tr><th>2</th><td>β[1]</td><td>-0.0975678</td><td>0.207852</td><td>0.00328644</td><td>0.00363364</td><td>2171.48</td><td>1.00059</td><td>115.578</td></tr><tr><th>3</th><td>σ</td><td>0.170296</td><td>0.0314087</td><td>0.000496616</td><td>0.000572989</td><td>2662.46</td><td>1.00028</td><td>141.711</td></tr><tr><th>4</th><td>ν</td><td>8.13715</td><td>9.18322</td><td>0.145199</td><td>0.184087</td><td>1747.55</td><td>0.9995</td><td>93.0142</td></tr></tbody></table></div>"
      ],
      "text/latex": [
       "\\begin{tabular}{r|cccccccc}\n",
       "\t& parameters & mean & std & naive\\_se & mcse & ess & rhat & ess\\_per\\_sec\\\\\n",
       "\t\\hline\n",
       "\t& Symbol & Float64 & Float64 & Float64 & Float64 & Float64 & Float64 & Float64\\\\\n",
       "\t\\hline\n",
       "\t1 & α & 0.901491 & 0.0610779 & 0.000965726 & 0.0011011 & 2166.78 & 1.00071 & 115.328 \\\\\n",
       "\t2 & β[1] & -0.0975678 & 0.207852 & 0.00328644 & 0.00363364 & 2171.48 & 1.00059 & 115.578 \\\\\n",
       "\t3 & σ & 0.170296 & 0.0314087 & 0.000496616 & 0.000572989 & 2662.46 & 1.00028 & 141.711 \\\\\n",
       "\t4 & ν & 8.13715 & 9.18322 & 0.145199 & 0.184087 & 1747.55 & 0.9995 & 93.0142 \\\\\n",
       "\\end{tabular}\n"
      ],
      "text/plain": [
       "\u001b[1m4×8 DataFrame\u001b[0m\n",
       "\u001b[1m Row \u001b[0m│\u001b[1m parameters \u001b[0m\u001b[1m mean       \u001b[0m\u001b[1m std       \u001b[0m\u001b[1m naive_se    \u001b[0m\u001b[1m mcse        \u001b[0m\u001b[1m ess     \u001b[0m\u001b[1m r\u001b[0m ⋯\n",
       "\u001b[1m     \u001b[0m│\u001b[90m Symbol     \u001b[0m\u001b[90m Float64    \u001b[0m\u001b[90m Float64   \u001b[0m\u001b[90m Float64     \u001b[0m\u001b[90m Float64     \u001b[0m\u001b[90m Float64 \u001b[0m\u001b[90m F\u001b[0m ⋯\n",
       "─────┼──────────────────────────────────────────────────────────────────────────\n",
       "   1 │ α            0.901491   0.0610779  0.000965726  0.0011011    2166.78  1 ⋯\n",
       "   2 │ β[1]        -0.0975678  0.207852   0.00328644   0.00363364   2171.48  1\n",
       "   3 │ σ            0.170296   0.0314087  0.000496616  0.000572989  2662.46  1\n",
       "   4 │ ν            8.13715    9.18322    0.145199     0.184087     1747.55  0\n",
       "\u001b[36m                                                               2 columns omitted\u001b[0m"
      ]
     },
     "execution_count": 24,
     "metadata": {},
     "output_type": "execute_result"
    }
   ],
   "source": [
    "# Cadeias de Markov\n",
    "chain = sample(model, NUTS(), MCMCThreads(), 1_000, 4)\n",
    "#summarystats(chain)\n",
    "#show(summarystats(chain), allcols=true)\n",
    "DataFrame(summarystats(chain))"
   ]
  },
  {
   "cell_type": "markdown",
   "id": "2d95f451",
   "metadata": {},
   "source": [
    "# Multilevel"
   ]
  },
  {
   "cell_type": "code",
   "execution_count": 61,
   "id": "56141b42",
   "metadata": {},
   "outputs": [
    {
     "name": "stdout",
     "output_type": "stream",
     "text": [
      "\u001b[1m34×4 DataFrame\u001b[0m\n",
      "\u001b[1m Row \u001b[0m│\u001b[1m Brand  \u001b[0m\u001b[1m Date   \u001b[0m\u001b[1m P1      \u001b[0m\u001b[1m CPM      \u001b[0m\n",
      "\u001b[1m     \u001b[0m│\u001b[90m String \u001b[0m\u001b[90m String \u001b[0m\u001b[90m Float64 \u001b[0m\u001b[90m Float64  \u001b[0m\n",
      "─────┼───────────────────────────────────\n",
      "   1 │ Brand1  2021Q2  0.1      0.872737\n",
      "   2 │ Brand1  2021Q3  0.35     0.679074\n",
      "   3 │ Brand1  2021Q4  0.016    1.04401\n",
      "   4 │ Brand1  2022Q1  0.06409  0.647616\n",
      "   5 │ Brand2  2021Q2  0.03     0.858185\n",
      "   6 │ Brand2  2021Q3  0.22     0.914811\n",
      "   7 │ Brand2  2021Q4  0.19     0.929766\n",
      "   8 │ Brand2  2022Q1  0.21522  0.732858\n",
      "   9 │ Brand2  2022Q2  0.38464  1.03367\n",
      "  10 │ Brand2  2022Q3  0.52094  0.926681\n",
      "  11 │ Brand3  2021Q2  0.11     0.80446\n",
      "  ⋮  │   ⋮       ⋮        ⋮        ⋮\n",
      "  25 │ Brand5  2021Q4  0.27     0.980993\n",
      "  26 │ Brand5  2022Q1  0.17014  0.909776\n",
      "  27 │ Brand5  2022Q2  0.39435  0.756733\n",
      "  28 │ Brand5  2022Q3  0.50193  0.861372\n",
      "  29 │ Brand6  2022Q3  0.18061  1.12074\n",
      "  30 │ Brand6  2021Q2  0.13     0.935055\n",
      "  31 │ Brand6  2021Q3  0.13     0.801697\n",
      "  32 │ Brand6  2021Q4  0.27     1.7204\n",
      "  33 │ Brand6  2022Q1  0.25847  0.925099\n",
      "  34 │ Brand6  2022Q2  0.3397   1.01093\n",
      "\u001b[36m                          13 rows omitted\u001b[0m"
     ]
    }
   ],
   "source": [
    "# Base\n",
    "# Substituir nas casas decimais, vírgula por pontos\n",
    "df = replace.(data, r\",\" => \".\")\n",
    "# Converter colunas para Float\n",
    "df.Spends = parse.(Float64, df.Spends)\n",
    "df.Maco = parse.(Float64, df.Maco)\n",
    "df.Causals = parse.(Float64, df.Causals)\n",
    "df.Volume = parse.(Float64, df.Volume)\n",
    "df.CPM = parse.(Float64, df.CPM)\n",
    "df.EFF = parse.(Float64, df.EFF)\n",
    "df.ROI = parse.(Float64, df.ROI)\n",
    "df.P1 = parse.(Float64, df.P1)\n",
    "# Subset\n",
    "df = df[!, names(data,[:Brand,:Date,:P1,:CPM, :EFF, :ROI])]\n",
    "\n",
    "show(df, allcols=true)"
   ]
  },
  {
   "cell_type": "code",
   "execution_count": 62,
   "id": "1237f956",
   "metadata": {
    "scrolled": true
   },
   "outputs": [
    {
     "data": {
      "text/html": [
       "<div class=\"data-frame\"><p>34 rows × 6 columns</p><table class=\"data-frame\"><thead><tr><th></th><th>Brand</th><th>Date</th><th>P1</th><th>CPM</th><th>Year</th><th>Quarter</th></tr><tr><th></th><th title=\"String\">String</th><th title=\"String\">String</th><th title=\"Float64\">Float64</th><th title=\"Float64\">Float64</th><th title=\"SubString{String}\">SubStrin…</th><th title=\"SubString{String}\">SubStrin…</th></tr></thead><tbody><tr><th>1</th><td>Brand1</td><td>2021Q2</td><td>0.1</td><td>0.872737</td><td>2021</td><td>2</td></tr><tr><th>2</th><td>Brand1</td><td>2021Q3</td><td>0.35</td><td>0.679074</td><td>2021</td><td>3</td></tr><tr><th>3</th><td>Brand1</td><td>2021Q4</td><td>0.016</td><td>1.04401</td><td>2021</td><td>4</td></tr><tr><th>4</th><td>Brand1</td><td>2022Q1</td><td>0.06409</td><td>0.647616</td><td>2022</td><td>1</td></tr><tr><th>5</th><td>Brand2</td><td>2021Q2</td><td>0.03</td><td>0.858185</td><td>2021</td><td>2</td></tr><tr><th>6</th><td>Brand2</td><td>2021Q3</td><td>0.22</td><td>0.914811</td><td>2021</td><td>3</td></tr><tr><th>7</th><td>Brand2</td><td>2021Q4</td><td>0.19</td><td>0.929766</td><td>2021</td><td>4</td></tr><tr><th>8</th><td>Brand2</td><td>2022Q1</td><td>0.21522</td><td>0.732858</td><td>2022</td><td>1</td></tr><tr><th>9</th><td>Brand2</td><td>2022Q2</td><td>0.38464</td><td>1.03367</td><td>2022</td><td>2</td></tr><tr><th>10</th><td>Brand2</td><td>2022Q3</td><td>0.52094</td><td>0.926681</td><td>2022</td><td>3</td></tr><tr><th>11</th><td>Brand3</td><td>2021Q2</td><td>0.11</td><td>0.80446</td><td>2021</td><td>2</td></tr><tr><th>12</th><td>Brand3</td><td>2021Q3</td><td>0.18</td><td>1.18465</td><td>2021</td><td>3</td></tr><tr><th>13</th><td>Brand3</td><td>2021Q4</td><td>0.22</td><td>1.25278</td><td>2021</td><td>4</td></tr><tr><th>14</th><td>Brand3</td><td>2022Q1</td><td>0.10341</td><td>1.00308</td><td>2022</td><td>1</td></tr><tr><th>15</th><td>Brand3</td><td>2022Q2</td><td>0.40574</td><td>1.04977</td><td>2022</td><td>2</td></tr><tr><th>16</th><td>Brand3</td><td>2022Q3</td><td>0.15798</td><td>0.722938</td><td>2022</td><td>3</td></tr><tr><th>17</th><td>Brand4</td><td>2021Q2</td><td>0.48</td><td>0.702368</td><td>2021</td><td>2</td></tr><tr><th>18</th><td>Brand4</td><td>2021Q3</td><td>0.18</td><td>0.710781</td><td>2021</td><td>3</td></tr><tr><th>19</th><td>Brand4</td><td>2021Q4</td><td>0.22</td><td>0.792967</td><td>2021</td><td>4</td></tr><tr><th>20</th><td>Brand4</td><td>2022Q1</td><td>0.4183</td><td>0.618922</td><td>2022</td><td>1</td></tr><tr><th>21</th><td>Brand4</td><td>2022Q2</td><td>0.50855</td><td>0.934853</td><td>2022</td><td>2</td></tr><tr><th>22</th><td>Brand4</td><td>2022Q3</td><td>0.50287</td><td>0.686133</td><td>2022</td><td>3</td></tr><tr><th>23</th><td>Brand5</td><td>2021Q2</td><td>0.13</td><td>0.771487</td><td>2021</td><td>2</td></tr><tr><th>24</th><td>Brand5</td><td>2021Q3</td><td>0.25</td><td>0.680885</td><td>2021</td><td>3</td></tr><tr><th>25</th><td>Brand5</td><td>2021Q4</td><td>0.27</td><td>0.980993</td><td>2021</td><td>4</td></tr><tr><th>26</th><td>Brand5</td><td>2022Q1</td><td>0.17014</td><td>0.909776</td><td>2022</td><td>1</td></tr><tr><th>27</th><td>Brand5</td><td>2022Q2</td><td>0.39435</td><td>0.756733</td><td>2022</td><td>2</td></tr><tr><th>28</th><td>Brand5</td><td>2022Q3</td><td>0.50193</td><td>0.861372</td><td>2022</td><td>3</td></tr><tr><th>29</th><td>Brand6</td><td>2022Q3</td><td>0.18061</td><td>1.12074</td><td>2022</td><td>3</td></tr><tr><th>30</th><td>Brand6</td><td>2021Q2</td><td>0.13</td><td>0.935055</td><td>2021</td><td>2</td></tr><tr><th>&vellip;</th><td>&vellip;</td><td>&vellip;</td><td>&vellip;</td><td>&vellip;</td><td>&vellip;</td><td>&vellip;</td></tr></tbody></table></div>"
      ],
      "text/latex": [
       "\\begin{tabular}{r|cccccc}\n",
       "\t& Brand & Date & P1 & CPM & Year & Quarter\\\\\n",
       "\t\\hline\n",
       "\t& String & String & Float64 & Float64 & SubStrin… & SubStrin…\\\\\n",
       "\t\\hline\n",
       "\t1 & Brand1 & 2021Q2 & 0.1 & 0.872737 & 2021 & 2 \\\\\n",
       "\t2 & Brand1 & 2021Q3 & 0.35 & 0.679074 & 2021 & 3 \\\\\n",
       "\t3 & Brand1 & 2021Q4 & 0.016 & 1.04401 & 2021 & 4 \\\\\n",
       "\t4 & Brand1 & 2022Q1 & 0.06409 & 0.647616 & 2022 & 1 \\\\\n",
       "\t5 & Brand2 & 2021Q2 & 0.03 & 0.858185 & 2021 & 2 \\\\\n",
       "\t6 & Brand2 & 2021Q3 & 0.22 & 0.914811 & 2021 & 3 \\\\\n",
       "\t7 & Brand2 & 2021Q4 & 0.19 & 0.929766 & 2021 & 4 \\\\\n",
       "\t8 & Brand2 & 2022Q1 & 0.21522 & 0.732858 & 2022 & 1 \\\\\n",
       "\t9 & Brand2 & 2022Q2 & 0.38464 & 1.03367 & 2022 & 2 \\\\\n",
       "\t10 & Brand2 & 2022Q3 & 0.52094 & 0.926681 & 2022 & 3 \\\\\n",
       "\t11 & Brand3 & 2021Q2 & 0.11 & 0.80446 & 2021 & 2 \\\\\n",
       "\t12 & Brand3 & 2021Q3 & 0.18 & 1.18465 & 2021 & 3 \\\\\n",
       "\t13 & Brand3 & 2021Q4 & 0.22 & 1.25278 & 2021 & 4 \\\\\n",
       "\t14 & Brand3 & 2022Q1 & 0.10341 & 1.00308 & 2022 & 1 \\\\\n",
       "\t15 & Brand3 & 2022Q2 & 0.40574 & 1.04977 & 2022 & 2 \\\\\n",
       "\t16 & Brand3 & 2022Q3 & 0.15798 & 0.722938 & 2022 & 3 \\\\\n",
       "\t17 & Brand4 & 2021Q2 & 0.48 & 0.702368 & 2021 & 2 \\\\\n",
       "\t18 & Brand4 & 2021Q3 & 0.18 & 0.710781 & 2021 & 3 \\\\\n",
       "\t19 & Brand4 & 2021Q4 & 0.22 & 0.792967 & 2021 & 4 \\\\\n",
       "\t20 & Brand4 & 2022Q1 & 0.4183 & 0.618922 & 2022 & 1 \\\\\n",
       "\t21 & Brand4 & 2022Q2 & 0.50855 & 0.934853 & 2022 & 2 \\\\\n",
       "\t22 & Brand4 & 2022Q3 & 0.50287 & 0.686133 & 2022 & 3 \\\\\n",
       "\t23 & Brand5 & 2021Q2 & 0.13 & 0.771487 & 2021 & 2 \\\\\n",
       "\t24 & Brand5 & 2021Q3 & 0.25 & 0.680885 & 2021 & 3 \\\\\n",
       "\t25 & Brand5 & 2021Q4 & 0.27 & 0.980993 & 2021 & 4 \\\\\n",
       "\t26 & Brand5 & 2022Q1 & 0.17014 & 0.909776 & 2022 & 1 \\\\\n",
       "\t27 & Brand5 & 2022Q2 & 0.39435 & 0.756733 & 2022 & 2 \\\\\n",
       "\t28 & Brand5 & 2022Q3 & 0.50193 & 0.861372 & 2022 & 3 \\\\\n",
       "\t29 & Brand6 & 2022Q3 & 0.18061 & 1.12074 & 2022 & 3 \\\\\n",
       "\t30 & Brand6 & 2021Q2 & 0.13 & 0.935055 & 2021 & 2 \\\\\n",
       "\t$\\dots$ & $\\dots$ & $\\dots$ & $\\dots$ & $\\dots$ & $\\dots$ & $\\dots$ \\\\\n",
       "\\end{tabular}\n"
      ],
      "text/plain": [
       "\u001b[1m34×6 DataFrame\u001b[0m\n",
       "\u001b[1m Row \u001b[0m│\u001b[1m Brand  \u001b[0m\u001b[1m Date   \u001b[0m\u001b[1m P1      \u001b[0m\u001b[1m CPM      \u001b[0m\u001b[1m Year      \u001b[0m\u001b[1m Quarter   \u001b[0m\n",
       "\u001b[1m     \u001b[0m│\u001b[90m String \u001b[0m\u001b[90m String \u001b[0m\u001b[90m Float64 \u001b[0m\u001b[90m Float64  \u001b[0m\u001b[90m SubStrin… \u001b[0m\u001b[90m SubStrin… \u001b[0m\n",
       "─────┼─────────────────────────────────────────────────────────\n",
       "   1 │ Brand1  2021Q2  0.1      0.872737  2021       2\n",
       "   2 │ Brand1  2021Q3  0.35     0.679074  2021       3\n",
       "   3 │ Brand1  2021Q4  0.016    1.04401   2021       4\n",
       "   4 │ Brand1  2022Q1  0.06409  0.647616  2022       1\n",
       "   5 │ Brand2  2021Q2  0.03     0.858185  2021       2\n",
       "   6 │ Brand2  2021Q3  0.22     0.914811  2021       3\n",
       "   7 │ Brand2  2021Q4  0.19     0.929766  2021       4\n",
       "   8 │ Brand2  2022Q1  0.21522  0.732858  2022       1\n",
       "   9 │ Brand2  2022Q2  0.38464  1.03367   2022       2\n",
       "  10 │ Brand2  2022Q3  0.52094  0.926681  2022       3\n",
       "  11 │ Brand3  2021Q2  0.11     0.80446   2021       2\n",
       "  ⋮  │   ⋮       ⋮        ⋮        ⋮          ⋮          ⋮\n",
       "  25 │ Brand5  2021Q4  0.27     0.980993  2021       4\n",
       "  26 │ Brand5  2022Q1  0.17014  0.909776  2022       1\n",
       "  27 │ Brand5  2022Q2  0.39435  0.756733  2022       2\n",
       "  28 │ Brand5  2022Q3  0.50193  0.861372  2022       3\n",
       "  29 │ Brand6  2022Q3  0.18061  1.12074   2022       3\n",
       "  30 │ Brand6  2021Q2  0.13     0.935055  2021       2\n",
       "  31 │ Brand6  2021Q3  0.13     0.801697  2021       3\n",
       "  32 │ Brand6  2021Q4  0.27     1.7204    2021       4\n",
       "  33 │ Brand6  2022Q1  0.25847  0.925099  2022       1\n",
       "  34 │ Brand6  2022Q2  0.3397   1.01093   2022       2\n",
       "\u001b[36m                                                13 rows omitted\u001b[0m"
      ]
     },
     "execution_count": 62,
     "metadata": {},
     "output_type": "execute_result"
    }
   ],
   "source": [
    "# Nova coluna com quarter\n",
    "df = hcat(df, DataFrame(reduce(vcat, permutedims.(split.(df.Date, 'Q'))), [:Year, :Quarter]))\n",
    "df"
   ]
  },
  {
   "cell_type": "code",
   "execution_count": 63,
   "id": "faedd59e",
   "metadata": {
    "scrolled": true
   },
   "outputs": [
    {
     "name": "stdout",
     "output_type": "stream",
     "text": [
      "\u001b[1m34×13 DataFrame\u001b[0m\n",
      "\u001b[1m Row \u001b[0m│\u001b[1m Brand  \u001b[0m\u001b[1m Date   \u001b[0m\u001b[1m P1      \u001b[0m\u001b[1m CPM      \u001b[0m\u001b[1m Year      \u001b[0m\u001b[1m Quarter   \u001b[0m\u001b[1m Brand_Brand1 \u001b[0m\u001b[1m Brand_Brand2 \u001b[0m\u001b[1m Brand_Brand3 \u001b[0m\u001b[1m Brand_Brand4 \u001b[0m\u001b[1m Brand_Brand5 \u001b[0m\u001b[1m Brand_Brand6 \u001b[0m\u001b[1m Quarter_int \u001b[0m\n",
      "\u001b[1m     \u001b[0m│\u001b[90m String \u001b[0m\u001b[90m String \u001b[0m\u001b[90m Float64 \u001b[0m\u001b[90m Float64  \u001b[0m\u001b[90m SubStrin… \u001b[0m\u001b[90m SubStrin… \u001b[0m\u001b[90m Int64        \u001b[0m\u001b[90m Int64        \u001b[0m\u001b[90m Int64        \u001b[0m\u001b[90m Int64        \u001b[0m\u001b[90m Int64        \u001b[0m\u001b[90m Int64        \u001b[0m\u001b[90m Int64       \u001b[0m\n",
      "─────┼──────────────────────────────────────────────────────────────────────────────────────────────────────────────────────────────────────────────────────────\n",
      "   1 │ Brand1  2021Q2  0.1      0.872737  2021       2                     1             0             0             0             0             0            2\n",
      "   2 │ Brand1  2021Q3  0.35     0.679074  2021       3                     1             0             0             0             0             0            3\n",
      "   3 │ Brand1  2021Q4  0.016    1.04401   2021       4                     1             0             0             0             0             0            4\n",
      "   4 │ Brand1  2022Q1  0.06409  0.647616  2022       1                     1             0             0             0             0             0            1\n",
      "   5 │ Brand2  2021Q2  0.03     0.858185  2021       2                     0             1             0             0             0             0            2\n",
      "   6 │ Brand2  2021Q3  0.22     0.914811  2021       3                     0             1             0             0             0             0            3\n",
      "   7 │ Brand2  2021Q4  0.19     0.929766  2021       4                     0             1             0             0             0             0            4\n",
      "   8 │ Brand2  2022Q1  0.21522  0.732858  2022       1                     0             1             0             0             0             0            1\n",
      "   9 │ Brand2  2022Q2  0.38464  1.03367   2022       2                     0             1             0             0             0             0            2\n",
      "  10 │ Brand2  2022Q3  0.52094  0.926681  2022       3                     0             1             0             0             0             0            3\n",
      "  11 │ Brand3  2021Q2  0.11     0.80446   2021       2                     0             0             1             0             0             0            2\n",
      "  ⋮  │   ⋮       ⋮        ⋮        ⋮          ⋮          ⋮           ⋮             ⋮             ⋮             ⋮             ⋮             ⋮             ⋮\n",
      "  25 │ Brand5  2021Q4  0.27     0.980993  2021       4                     0             0             0             0             1             0            4\n",
      "  26 │ Brand5  2022Q1  0.17014  0.909776  2022       1                     0             0             0             0             1             0            1\n",
      "  27 │ Brand5  2022Q2  0.39435  0.756733  2022       2                     0             0             0             0             1             0            2\n",
      "  28 │ Brand5  2022Q3  0.50193  0.861372  2022       3                     0             0             0             0             1             0            3\n",
      "  29 │ Brand6  2022Q3  0.18061  1.12074   2022       3                     0             0             0             0             0             1            3\n",
      "  30 │ Brand6  2021Q2  0.13     0.935055  2021       2                     0             0             0             0             0             1            2\n",
      "  31 │ Brand6  2021Q3  0.13     0.801697  2021       3                     0             0             0             0             0             1            3\n",
      "  32 │ Brand6  2021Q4  0.27     1.7204    2021       4                     0             0             0             0             0             1            4\n",
      "  33 │ Brand6  2022Q1  0.25847  0.925099  2022       1                     0             0             0             0             0             1            1\n",
      "  34 │ Brand6  2022Q2  0.3397   1.01093   2022       2                     0             0             0             0             0             1            2\n",
      "\u001b[36m                                                                                                                                                 13 rows omitted\u001b[0m"
     ]
    }
   ],
   "source": [
    "for c in unique(df[:, :Brand])\n",
    "    df[:, \"Brand_$c\"] = ifelse.(df[:, :Brand] .== c, 1, 0)\n",
    "end\n",
    "\n",
    "df[:, :Quarter_int] = map(df[:, :Quarter]) do b\n",
    "    b == \"1\" ? 1 :\n",
    "    b == \"2\" ? 2 :\n",
    "    b == \"3\" ? 3 :\n",
    "    b == \"4\" ? 4 : missing\n",
    "end\n",
    "\n",
    "show(df, allcols=true)"
   ]
  },
  {
   "cell_type": "code",
   "execution_count": 52,
   "id": "a2ca5511",
   "metadata": {},
   "outputs": [],
   "source": [
    "X = Matrix(select(df, Between(:Brand_Brand1, :Brand_Brand6)));\n",
    "y = df[:, :CPM];\n",
    "idx = df[:, :Quarter_int];"
   ]
  },
  {
   "cell_type": "markdown",
   "id": "cd5ca81f",
   "metadata": {},
   "source": [
    "## Modelos"
   ]
  },
  {
   "cell_type": "code",
   "execution_count": 53,
   "id": "2bfbf6f5",
   "metadata": {},
   "outputs": [],
   "source": [
    "# Instalar pacotes necessários\n",
    "#Pkg.add(\"Turing\")\n",
    "#Pkg.add(\"StatsBase\")"
   ]
  },
  {
   "cell_type": "code",
   "execution_count": 54,
   "id": "1d277d85",
   "metadata": {},
   "outputs": [
    {
     "data": {
      "text/plain": [
       "Random.TaskLocalRNG()"
      ]
     },
     "execution_count": 54,
     "metadata": {},
     "output_type": "execute_result"
    }
   ],
   "source": [
    "using Turing\n",
    "using LinearAlgebra: I\n",
    "using Statistics: mean, std\n",
    "using Random: seed!\n",
    "seed!(123)"
   ]
  },
  {
   "cell_type": "markdown",
   "id": "226d411b",
   "metadata": {},
   "source": [
    "### 1 - Modelo de interceptação aleatória"
   ]
  },
  {
   "cell_type": "code",
   "execution_count": 55,
   "id": "6e00f2fc",
   "metadata": {},
   "outputs": [],
   "source": [
    "# varying_intercept\n",
    "@model function varying_intercept(X, idx, y; n_gr=length(unique(idx)), predictors=size(X, 2))\n",
    "    #priors\n",
    "    α ~ Normal(mean(y), 2.5 * std(y))       # population-level intercept\n",
    "    β ~ filldist(Normal(0, 2), predictors)  # population-level coefficients\n",
    "    σ ~ Exponential(1 / std(y))             # residual SD\n",
    "    #prior for variance of random intercepts\n",
    "    #usually requires thoughtful specification\n",
    "    τ ~ truncated(Cauchy(0, 2); lower=0)    # group-level SDs intercepts\n",
    "    αⱼ ~ filldist(Normal(0, τ), n_gr)       # group-level intercepts\n",
    "\n",
    "    #likelihood\n",
    "    ŷ = α .+ X * β .+ αⱼ[idx]\n",
    "    y ~ MvNormal(ŷ, σ^2 * I)\n",
    "end;"
   ]
  },
  {
   "cell_type": "code",
   "execution_count": 56,
   "id": "a8bb5baf",
   "metadata": {},
   "outputs": [
    {
     "name": "stderr",
     "output_type": "stream",
     "text": [
      "┌ Warning: Only a single thread available: MCMC chains are not sampled in parallel\n",
      "└ @ AbstractMCMC C:\\Users\\User\\.julia\\packages\\AbstractMCMC\\fnRmh\\src\\sample.jl:291\n",
      "┌ Info: Found initial step size\n",
      "│   ϵ = 0.2\n",
      "└ @ Turing.Inference C:\\Users\\User\\.julia\\packages\\Turing\\szPqN\\src\\inference\\hmc.jl:191\n",
      "┌ Info: Found initial step size\n",
      "│   ϵ = 0.05\n",
      "└ @ Turing.Inference C:\\Users\\User\\.julia\\packages\\Turing\\szPqN\\src\\inference\\hmc.jl:191\n",
      "┌ Info: Found initial step size\n",
      "│   ϵ = 0.4\n",
      "└ @ Turing.Inference C:\\Users\\User\\.julia\\packages\\Turing\\szPqN\\src\\inference\\hmc.jl:191\n",
      "┌ Info: Found initial step size\n",
      "│   ϵ = 0.05\n",
      "└ @ Turing.Inference C:\\Users\\User\\.julia\\packages\\Turing\\szPqN\\src\\inference\\hmc.jl:191\n",
      "\u001b[32mSampling (1 threads): 100%|█████████████████████████████| Time: 0:00:11\u001b[39m\n"
     ]
    },
    {
     "name": "stdout",
     "output_type": "stream",
     "text": [
      "\u001b[1m13×8 DataFrame\u001b[0m\n",
      "\u001b[1m Row \u001b[0m│\u001b[1m parameters \u001b[0m\u001b[1m mean        \u001b[0m\u001b[1m std       \u001b[0m\u001b[1m naive_se    \u001b[0m\u001b[1m mcse        \u001b[0m\u001b[1m ess      \u001b[0m\u001b[1m rhat    \u001b[0m\u001b[1m ess_per_sec \u001b[0m\n",
      "\u001b[1m     \u001b[0m│\u001b[90m Symbol     \u001b[0m\u001b[90m Float64     \u001b[0m\u001b[90m Float64   \u001b[0m\u001b[90m Float64     \u001b[0m\u001b[90m Float64     \u001b[0m\u001b[90m Float64  \u001b[0m\u001b[90m Float64 \u001b[0m\u001b[90m Float64     \u001b[0m\n",
      "─────┼──────────────────────────────────────────────────────────────────────────────────────────────\n",
      "   1 │ α            0.929569    0.440693   0.00696797   0.0156687     715.411  1.00426      27.6284\n",
      "   2 │ β[1]        -0.113746    0.459011   0.00725761   0.0163968     715.717  1.00427      27.6402\n",
      "   3 │ β[2]        -0.00995174  0.457631   0.00723578   0.0165408     710.91   1.0037       27.4546\n",
      "   4 │ β[3]         0.0952305   0.457759   0.0072378    0.016408      700.007  1.00397      27.0336\n",
      "   5 │ β[4]        -0.16737     0.456917   0.00722449   0.0163533     704.495  1.00423      27.2069\n",
      "   6 │ β[5]        -0.0830863   0.457032   0.00722631   0.0163567     708.95   1.00402      27.3789\n",
      "   7 │ β[6]         0.17483     0.457531   0.00723421   0.0167136     707.692  1.00419      27.3303\n",
      "   8 │ σ            0.168735    0.0258138  0.000408151  0.000696759  1454.28   1.00371      56.1627\n",
      "   9 │ τ            0.225503    0.196128   0.00310106   0.00578728   1012.1    1.0032       39.0862\n",
      "  10 │ αⱼ[1]       -0.0878624   0.137472   0.00217363   0.00506005    799.436  1.00173      30.8734\n",
      "  11 │ αⱼ[2]       -0.0303539   0.132843   0.00210044   0.004842      799.476  1.00185      30.875\n",
      "  12 │ αⱼ[3]       -0.0688628   0.13371    0.00211414   0.00491604    802.869  1.00181      31.006\n",
      "  13 │ αⱼ[4]        0.162709    0.139294   0.00220243   0.00473758    911.051  1.00199      35.1839\n"
     ]
    }
   ],
   "source": [
    "# varying_intercept\n",
    "model_intercept = varying_intercept(X, idx, y)\n",
    "chain_intercept = sample(model_intercept, NUTS(), MCMCThreads(), 1_000, 4)\n",
    "summarystats(chain_intercept) |> DataFrame |> println"
   ]
  },
  {
   "cell_type": "markdown",
   "id": "dc010643",
   "metadata": {},
   "source": [
    "### 2 - Modelo de inclinação aleatória"
   ]
  },
  {
   "cell_type": "code",
   "execution_count": 57,
   "id": "7aa661a6",
   "metadata": {},
   "outputs": [],
   "source": [
    "# varying_slope\n",
    "@model function varying_slope(X, idx, y; n_gr=length(unique(idx)), predictors=size(X, 2))\n",
    "    #priors\n",
    "    α ~ Normal(mean(y), 2.5 * std(y))                    # population-level intercept\n",
    "    σ ~ Exponential(1 / std(y))                          # residual SD\n",
    "    #prior for variance of random slopes\n",
    "    #usually requires thoughtful specification\n",
    "    τ ~ filldist(truncated(Cauchy(0, 2); lower=0), n_gr) # group-level slopes SDs\n",
    "    βⱼ ~ filldist(Normal(0, 1), predictors, n_gr)        # group-level standard normal slopes\n",
    "\n",
    "    #likelihood\n",
    "    ŷ = α .+ X * βⱼ * τ\n",
    "    y ~ MvNormal(ŷ, σ^2 * I)\n",
    "end;"
   ]
  },
  {
   "cell_type": "code",
   "execution_count": 58,
   "id": "21e962c5",
   "metadata": {},
   "outputs": [
    {
     "name": "stderr",
     "output_type": "stream",
     "text": [
      "┌ Warning: Only a single thread available: MCMC chains are not sampled in parallel\n",
      "└ @ AbstractMCMC C:\\Users\\User\\.julia\\packages\\AbstractMCMC\\fnRmh\\src\\sample.jl:291\n",
      "┌ Info: Found initial step size\n",
      "│   ϵ = 0.4\n",
      "└ @ Turing.Inference C:\\Users\\User\\.julia\\packages\\Turing\\szPqN\\src\\inference\\hmc.jl:191\n",
      "┌ Info: Found initial step size\n",
      "│   ϵ = 0.05\n",
      "└ @ Turing.Inference C:\\Users\\User\\.julia\\packages\\Turing\\szPqN\\src\\inference\\hmc.jl:191\n",
      "┌ Warning: The current proposal will be rejected due to numerical error(s).\n",
      "│   isfinite.((θ, r, ℓπ, ℓκ)) = (true, false, false, false)\n",
      "└ @ AdvancedHMC C:\\Users\\User\\.julia\\packages\\AdvancedHMC\\iWHPQ\\src\\hamiltonian.jl:47\n",
      "┌ Warning: The current proposal will be rejected due to numerical error(s).\n",
      "│   isfinite.((θ, r, ℓπ, ℓκ)) = (true, false, false, false)\n",
      "└ @ AdvancedHMC C:\\Users\\User\\.julia\\packages\\AdvancedHMC\\iWHPQ\\src\\hamiltonian.jl:47\n",
      "\u001b[32mSampling (1 threads):  50%|███████████████              |  ETA: 0:00:04\u001b[39m┌ Warning: The current proposal will be rejected due to numerical error(s).\n",
      "│   isfinite.((θ, r, ℓπ, ℓκ)) = (true, false, false, false)\n",
      "└ @ AdvancedHMC C:\\Users\\User\\.julia\\packages\\AdvancedHMC\\iWHPQ\\src\\hamiltonian.jl:47\n",
      "┌ Warning: The current proposal will be rejected due to numerical error(s).\n",
      "│   isfinite.((θ, r, ℓπ, ℓκ)) = (true, false, false, false)\n",
      "└ @ AdvancedHMC C:\\Users\\User\\.julia\\packages\\AdvancedHMC\\iWHPQ\\src\\hamiltonian.jl:47\n",
      "┌ Warning: The current proposal will be rejected due to numerical error(s).\n",
      "│   isfinite.((θ, r, ℓπ, ℓκ)) = (true, false, false, false)\n",
      "└ @ AdvancedHMC C:\\Users\\User\\.julia\\packages\\AdvancedHMC\\iWHPQ\\src\\hamiltonian.jl:47\n",
      "┌ Info: Found initial step size\n",
      "│   ϵ = 0.000390625\n",
      "└ @ Turing.Inference C:\\Users\\User\\.julia\\packages\\Turing\\szPqN\\src\\inference\\hmc.jl:191\n",
      "┌ Info: Found initial step size\n",
      "│   ϵ = 0.025\n",
      "└ @ Turing.Inference C:\\Users\\User\\.julia\\packages\\Turing\\szPqN\\src\\inference\\hmc.jl:191\n",
      "\u001b[32mSampling (1 threads): 100%|█████████████████████████████| Time: 0:00:12\u001b[39m\n"
     ]
    },
    {
     "name": "stdout",
     "output_type": "stream",
     "text": [
      "\u001b[1m30×8 DataFrame\u001b[0m\n",
      "\u001b[1m Row \u001b[0m│\u001b[1m parameters \u001b[0m\u001b[1m mean       \u001b[0m\u001b[1m std       \u001b[0m\u001b[1m naive_se    \u001b[0m\u001b[1m mcse       \u001b[0m\u001b[1m ess       \u001b[0m\u001b[1m rhat     \u001b[0m\u001b[1m ess_per_sec \u001b[0m\n",
      "\u001b[1m     \u001b[0m│\u001b[90m Symbol     \u001b[0m\u001b[90m Float64    \u001b[0m\u001b[90m Float64   \u001b[0m\u001b[90m Float64     \u001b[0m\u001b[90m Float64    \u001b[0m\u001b[90m Float64   \u001b[0m\u001b[90m Float64  \u001b[0m\u001b[90m Float64     \u001b[0m\n",
      "─────┼──────────────────────────────────────────────────────────────────────────────────────────────\n",
      "   1 │ α            0.872214   0.159163   0.00251658   0.00950559   166.596   1.0231       5.78259\n",
      "   2 │ σ            0.20462    0.0306264  0.000484245  0.00163853   103.164   1.03465      3.58084\n",
      "   3 │ τ[1]         0.143533   0.148669   0.00235066   0.00772421   131.95    1.03512      4.58001\n",
      "   4 │ τ[2]         0.155922   0.143276   0.0022654    0.0052872    538.928   1.01335     18.7063\n",
      "   5 │ τ[3]         0.216356   0.284498   0.00449831   0.0309131     23.9152  1.13483      0.830099\n",
      "   6 │ τ[4]         0.174416   0.166378   0.00263067   0.0120369     79.1322  1.03269      2.74669\n",
      "   7 │ βⱼ[1,1]      0.0339944  0.94318    0.014913     0.0393384    303.736   1.01392     10.5427\n",
      "   8 │ βⱼ[2,1]     -0.0733425  0.902716   0.0142732    0.0376062    296.233   1.0103      10.2823\n",
      "   9 │ βⱼ[3,1]      0.249606   0.901155   0.0142485    0.0371781    361.445   1.01189     12.5458\n",
      "  10 │ βⱼ[4,1]     -0.194125   0.930556   0.0147134    0.0308156    710.329   1.00976     24.6556\n",
      "  11 │ βⱼ[5,1]     -0.0623933  0.863914   0.0136597    0.0250234   1004.32    1.00918     34.8602\n",
      "  12 │ βⱼ[6,1]      0.243681   0.882728   0.0139572    0.0206029   1824.45    0.999844    63.3269\n",
      "  13 │ βⱼ[1,2]     -0.140408   0.858075   0.0135674    0.0281841    826.023   1.00417     28.6714\n",
      "  14 │ βⱼ[2,2]      0.0163809  0.838438   0.0132569    0.0230408   1305.18    1.00447     45.3029\n",
      "  15 │ βⱼ[3,2]      0.104331   0.895788   0.0141636    0.0271908    970.854   1.00472     33.6985\n",
      "  16 │ βⱼ[4,2]     -0.258303   0.898594   0.014208     0.0205532   1994.92    1.00339     69.244\n",
      "  17 │ βⱼ[5,2]     -0.0939136  0.885665   0.0140036    0.0287394    963.051   1.00445     33.4277\n",
      "  18 │ βⱼ[6,2]      0.22087    0.894971   0.0141507    0.0305397    685.46    1.01017     23.7924\n",
      "  19 │ βⱼ[1,3]     -0.0866983  0.84761    0.0134019    0.0224326   1993.83    1.00183     69.2062\n",
      "  20 │ βⱼ[2,3]      0.0351286  0.876998   0.0138666    0.025503    1580.04    1.00228     54.8433\n",
      "  21 │ βⱼ[3,3]      0.129597   0.888956   0.0140556    0.0221656   1379.62    1.00304     47.8868\n",
      "  22 │ βⱼ[4,3]     -0.222137   0.885985   0.0140087    0.0226      1541.82    1.00043     53.517\n",
      "  23 │ βⱼ[5,3]     -0.0338451  0.880767   0.0139261    0.0238376   1291.34    1.01052     44.8227\n",
      "  24 │ βⱼ[6,3]      0.250215   0.912597   0.0144294    0.0204539   1919.82    1.00228     66.6372\n",
      "  25 │ βⱼ[1,4]     -0.0884034  0.86784    0.0137218    0.0241734   1433.32    1.00538     49.7507\n",
      "  26 │ βⱼ[2,4]     -0.0281351  0.902592   0.0142712    0.0300683    998.698   1.00459     34.665\n",
      "  27 │ βⱼ[3,4]      0.14184    0.868192   0.0137273    0.0248633   1525.04    1.00136     52.9344\n",
      "  28 │ βⱼ[4,4]     -0.078749   0.990093   0.0156547    0.0514241    122.726   1.03444      4.25982\n",
      "  29 │ βⱼ[5,4]     -0.0602539  0.887694   0.0140357    0.0265231   1095.18    1.00453     38.014\n",
      "  30 │ βⱼ[6,4]      0.276342   0.906781   0.0143375    0.0227101   1865.48    1.00355     64.751\n"
     ]
    }
   ],
   "source": [
    "model_slope = varying_slope(X, idx, y)\n",
    "chain_slope = sample(model_slope, NUTS(), MCMCThreads(), 1_000, 4)\n",
    "summarystats(chain_slope) |> DataFrame |> println"
   ]
  },
  {
   "cell_type": "markdown",
   "id": "686f460c",
   "metadata": {},
   "source": [
    "# 3 - Modelo de inclinação de interceptação aleatória"
   ]
  },
  {
   "cell_type": "code",
   "execution_count": 59,
   "id": "fef39d46",
   "metadata": {},
   "outputs": [],
   "source": [
    "# varying_intercept_slope\n",
    "@model function varying_intercept_slope(X, idx, y; n_gr=length(unique(idx)), predictors=size(X, 2))\n",
    "    #priors\n",
    "    α ~ Normal(mean(y), 2.5 * std(y))                     # population-level intercept\n",
    "    σ ~ Exponential(1 / std(y))                           # residual SD\n",
    "    #prior for variance of random intercepts and slopes\n",
    "    #usually requires thoughtful specification\n",
    "    τₐ ~ truncated(Cauchy(0, 2); lower=0)                 # group-level SDs intercepts\n",
    "    τᵦ ~ filldist(truncated(Cauchy(0, 2); lower=0), n_gr) # group-level slopes SDs\n",
    "    αⱼ ~ filldist(Normal(0, τₐ), n_gr)                    # group-level intercepts\n",
    "    βⱼ ~ filldist(Normal(0, 1), predictors, n_gr)         # group-level standard normal slopes\n",
    "\n",
    "    #likelihood\n",
    "    ŷ = α .+ αⱼ[idx] .+ X * βⱼ * τᵦ\n",
    "    y ~ MvNormal(ŷ, σ^2 * I)\n",
    "end;"
   ]
  },
  {
   "cell_type": "code",
   "execution_count": 60,
   "id": "349ca1e4",
   "metadata": {},
   "outputs": [
    {
     "name": "stderr",
     "output_type": "stream",
     "text": [
      "┌ Warning: Only a single thread available: MCMC chains are not sampled in parallel\n",
      "└ @ AbstractMCMC C:\\Users\\User\\.julia\\packages\\AbstractMCMC\\fnRmh\\src\\sample.jl:291\n",
      "┌ Warning: The current proposal will be rejected due to numerical error(s).\n",
      "│   isfinite.((θ, r, ℓπ, ℓκ)) = (true, false, false, false)\n",
      "└ @ AdvancedHMC C:\\Users\\User\\.julia\\packages\\AdvancedHMC\\iWHPQ\\src\\hamiltonian.jl:47\n",
      "┌ Warning: The current proposal will be rejected due to numerical error(s).\n",
      "│   isfinite.((θ, r, ℓπ, ℓκ)) = (true, false, false, false)\n",
      "└ @ AdvancedHMC C:\\Users\\User\\.julia\\packages\\AdvancedHMC\\iWHPQ\\src\\hamiltonian.jl:47\n",
      "┌ Info: Found initial step size\n",
      "│   ϵ = 0.003125\n",
      "└ @ Turing.Inference C:\\Users\\User\\.julia\\packages\\Turing\\szPqN\\src\\inference\\hmc.jl:191\n",
      "┌ Info: Found initial step size\n",
      "│   ϵ = 0.0125\n",
      "└ @ Turing.Inference C:\\Users\\User\\.julia\\packages\\Turing\\szPqN\\src\\inference\\hmc.jl:191\n",
      "┌ Info: Found initial step size\n",
      "│   ϵ = 0.2\n",
      "└ @ Turing.Inference C:\\Users\\User\\.julia\\packages\\Turing\\szPqN\\src\\inference\\hmc.jl:191\n",
      "┌ Info: Found initial step size\n",
      "│   ϵ = 0.003125\n",
      "└ @ Turing.Inference C:\\Users\\User\\.julia\\packages\\Turing\\szPqN\\src\\inference\\hmc.jl:191\n",
      "\u001b[32mSampling (1 threads): 100%|█████████████████████████████| Time: 0:00:25\u001b[39m\n"
     ]
    },
    {
     "name": "stdout",
     "output_type": "stream",
     "text": [
      "\u001b[1m35×8 DataFrame\u001b[0m\n",
      "\u001b[1m Row \u001b[0m│\u001b[1m parameters \u001b[0m\u001b[1m mean        \u001b[0m\u001b[1m std       \u001b[0m\u001b[1m naive_se    \u001b[0m\u001b[1m mcse       \u001b[0m\u001b[1m ess      \u001b[0m\u001b[1m rhat    \u001b[0m\u001b[1m ess_per_sec \u001b[0m\n",
      "\u001b[1m     \u001b[0m│\u001b[90m Symbol     \u001b[0m\u001b[90m Float64     \u001b[0m\u001b[90m Float64   \u001b[0m\u001b[90m Float64     \u001b[0m\u001b[90m Float64    \u001b[0m\u001b[90m Float64  \u001b[0m\u001b[90m Float64 \u001b[0m\u001b[90m Float64     \u001b[0m\n",
      "─────┼─────────────────────────────────────────────────────────────────────────────────────────────\n",
      "   1 │ α            0.890824    0.217107   0.00343276   0.0134838    178.681  1.0228       3.68468\n",
      "   2 │ σ            0.168871    0.0255902  0.000404616  0.0007015   1293.21   1.00064     26.6679\n",
      "   3 │ τₐ           0.230795    0.214492   0.00339142   0.00932873   569.978  1.01087     11.7538\n",
      "   4 │ τᵦ[1]        0.171856    0.167105   0.00264216   0.00541666   905.418  1.00553     18.6711\n",
      "   5 │ τᵦ[2]        0.195349    0.198904   0.00314495   0.0149139    121.968  1.01796      2.51517\n",
      "   6 │ τᵦ[3]        0.183586    0.17193    0.00271845   0.00696463   643.837  0.9997      13.2769\n",
      "   7 │ τᵦ[4]        0.184469    0.172046   0.00272029   0.00858196   327.839  1.01005      6.76054\n",
      "   8 │ αⱼ[1]       -0.0778654   0.151122   0.00238945   0.00711065   477.424  1.01195      9.84522\n",
      "   9 │ αⱼ[2]       -0.0222707   0.149718   0.00236726   0.00737015   435.162  1.01382      8.9737\n",
      "  10 │ αⱼ[3]       -0.0594305   0.146243   0.00231231   0.00714999   438.924  1.01054      9.05129\n",
      "  11 │ αⱼ[4]        0.175012    0.155625   0.00246064   0.00742039   436.219  1.01119      8.99551\n",
      "  12 │ βⱼ[1,1]     -0.119088    0.975242   0.0154199    0.0478849    269.915  1.0186       5.56606\n",
      "  13 │ βⱼ[2,1]      0.0572731   0.852856   0.0134848    0.0238238   1481.16   1.00194     30.5437\n",
      "  14 │ βⱼ[3,1]      0.136734    0.845248   0.0133645    0.0194936   2205.87   1.00031     45.4885\n",
      "  15 │ βⱼ[4,1]     -0.198978    0.927161   0.0146597    0.0286477   1056.21   1.00213     21.7806\n",
      "  16 │ βⱼ[5,1]     -0.0645883   0.90515    0.0143117    0.0310717    831.382  1.00361     17.1444\n",
      "  17 │ βⱼ[6,1]      0.239141    0.916457   0.0144905    0.0249818   1448.55   1.00076     29.8714\n",
      "  18 │ βⱼ[1,2]     -0.114523    0.87905    0.013899     0.0231362   1681.78   1.0025      34.6808\n",
      "  19 │ βⱼ[2,2]      0.0651217   0.870151   0.0137583    0.0231377   1567.46   1.0016      32.3234\n",
      "  20 │ βⱼ[3,2]      0.178597    0.9112     0.0144073    0.0286256    867.122  1.00742     17.8814\n",
      "  21 │ βⱼ[4,2]     -0.159817    0.879691   0.0139091    0.023928    1576.99   1.00369     32.52\n",
      "  22 │ βⱼ[5,2]     -0.0676873   0.89192    0.0141025    0.0271285   1269.63   1.00206     26.1818\n",
      "  23 │ βⱼ[6,2]      0.260439    0.903633   0.0142877    0.0305902   1050.19   1.00619     21.6566\n",
      "  24 │ βⱼ[1,3]     -0.0894751   0.882039   0.0139463    0.0214912   2350.88   1.0008      48.4787\n",
      "  25 │ βⱼ[2,3]      0.00374802  0.890356   0.0140778    0.022606    1712.19   1.0015      35.308\n",
      "  26 │ βⱼ[3,3]      0.143718    0.910727   0.0143999    0.0303249    896.539  1.00277     18.488\n",
      "  27 │ βⱼ[4,3]     -0.167741    0.895787   0.0141636    0.0300925    754.131  1.00904     15.5513\n",
      "  28 │ βⱼ[5,3]     -0.13874     0.89869    0.0142095    0.0200812   2029.91   1.0009      41.8599\n",
      "  29 │ βⱼ[6,3]      0.275352    0.87844    0.0138893    0.0224009   1725.19   1.00514     35.576\n",
      "  30 │ βⱼ[1,4]     -0.0968025   0.888874   0.0140543    0.026186    1362.67   1.0024      28.1003\n",
      "  31 │ βⱼ[2,4]      0.0165612   0.869844   0.0137534    0.0275065   1151.92   1.00424     23.7545\n",
      "  32 │ βⱼ[3,4]      0.087572    0.892627   0.0141137    0.0320599    793.939  1.00345     16.3722\n",
      "  33 │ βⱼ[4,4]     -0.22533     0.929806   0.0147015    0.0403736    408.404  1.01221      8.42192\n",
      "  34 │ βⱼ[5,4]     -0.0572141   0.986619   0.0155998    0.0608735    172.757  1.02868      3.56251\n",
      "  35 │ βⱼ[6,4]      0.223698    0.917334   0.0145043    0.0343909    542.168  1.00959     11.1803\n"
     ]
    }
   ],
   "source": [
    "model_intercept_slope = varying_intercept_slope(X, idx, y)\n",
    "chain_intercept_slope = sample(model_intercept_slope, NUTS(), MCMCThreads(), 1_000, 4)\n",
    "summarystats(chain_intercept_slope) |> DataFrame |> println"
   ]
  },
  {
   "cell_type": "code",
   "execution_count": null,
   "id": "880b2d34",
   "metadata": {},
   "outputs": [],
   "source": []
  }
 ],
 "metadata": {
  "kernelspec": {
   "display_name": "Julia 1.8.0",
   "language": "julia",
   "name": "julia-1.8"
  },
  "language_info": {
   "file_extension": ".jl",
   "mimetype": "application/julia",
   "name": "julia",
   "version": "1.8.0"
  }
 },
 "nbformat": 4,
 "nbformat_minor": 5
}
